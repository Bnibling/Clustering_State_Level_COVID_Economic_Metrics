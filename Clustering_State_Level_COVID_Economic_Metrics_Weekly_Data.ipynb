{
 "cells": [
  {
   "cell_type": "markdown",
   "metadata": {
    "hide_input": false,
    "slideshow": {
     "slide_type": "slide"
    }
   },
   "source": [
    "# <div align=\"center\">Clustering State Level COVID Economic Metrics</div> #\n",
    "\n",
    "\n",
    "**<div align=\"center\">Barrett Nibling</div>**\n",
    "**<div align=\"center\">bnibling@gmail.com</div>**\n",
    "\n",
    "**Updated: Weekly Economic Metric Data with Choropleth Map**"
   ]
  },
  {
   "cell_type": "code",
   "execution_count": 1,
   "metadata": {
    "slideshow": {
     "slide_type": "skip"
    }
   },
   "outputs": [
    {
     "data": {
      "application/javascript": [
       "\n",
       "            setTimeout(function() {\n",
       "                var nbb_cell_id = 1;\n",
       "                var nbb_unformatted_code = \"%reload_ext nb_black\";\n",
       "                var nbb_formatted_code = \"%reload_ext nb_black\";\n",
       "                var nbb_cells = Jupyter.notebook.get_cells();\n",
       "                for (var i = 0; i < nbb_cells.length; ++i) {\n",
       "                    if (nbb_cells[i].input_prompt_number == nbb_cell_id) {\n",
       "                        if (nbb_cells[i].get_text() == nbb_unformatted_code) {\n",
       "                             nbb_cells[i].set_text(nbb_formatted_code);\n",
       "                        }\n",
       "                        break;\n",
       "                    }\n",
       "                }\n",
       "            }, 500);\n",
       "            "
      ],
      "text/plain": [
       "<IPython.core.display.Javascript object>"
      ]
     },
     "metadata": {},
     "output_type": "display_data"
    }
   ],
   "source": [
    "%reload_ext nb_black"
   ]
  },
  {
   "cell_type": "code",
   "execution_count": 2,
   "metadata": {
    "id": "nuMDNHt-GJas",
    "slideshow": {
     "slide_type": "skip"
    }
   },
   "outputs": [
    {
     "data": {
      "application/javascript": [
       "\n",
       "            setTimeout(function() {\n",
       "                var nbb_cell_id = 2;\n",
       "                var nbb_unformatted_code = \"import numpy as np\\nimport pandas as pd\\nfrom functools import reduce\\nimport matplotlib.pyplot as plt\\nimport seaborn as sns\\nimport plotly.express as px\\nimport plotly.graph_objects as go\\nfrom ipywidgets import interact\\n\\n%matplotlib inline\\n\\nfrom sklearn.preprocessing import StandardScaler\\nfrom sklearn.decomposition import PCA\\nimport umap\\nfrom sklearn.manifold import Isomap, LocallyLinearEmbedding, TSNE\\nfrom sklearn.cluster import KMeans, AgglomerativeClustering, DBSCAN\\nfrom sklearn.mixture import GaussianMixture\\nfrom sklearn.metrics import silhouette_score\\n\\n\\npd.set_option(\\\"display.max_columns\\\", None)\";\n",
       "                var nbb_formatted_code = \"import numpy as np\\nimport pandas as pd\\nfrom functools import reduce\\nimport matplotlib.pyplot as plt\\nimport seaborn as sns\\nimport plotly.express as px\\nimport plotly.graph_objects as go\\nfrom ipywidgets import interact\\n\\n%matplotlib inline\\n\\nfrom sklearn.preprocessing import StandardScaler\\nfrom sklearn.decomposition import PCA\\nimport umap\\nfrom sklearn.manifold import Isomap, LocallyLinearEmbedding, TSNE\\nfrom sklearn.cluster import KMeans, AgglomerativeClustering, DBSCAN\\nfrom sklearn.mixture import GaussianMixture\\nfrom sklearn.metrics import silhouette_score\\n\\n\\npd.set_option(\\\"display.max_columns\\\", None)\";\n",
       "                var nbb_cells = Jupyter.notebook.get_cells();\n",
       "                for (var i = 0; i < nbb_cells.length; ++i) {\n",
       "                    if (nbb_cells[i].input_prompt_number == nbb_cell_id) {\n",
       "                        if (nbb_cells[i].get_text() == nbb_unformatted_code) {\n",
       "                             nbb_cells[i].set_text(nbb_formatted_code);\n",
       "                        }\n",
       "                        break;\n",
       "                    }\n",
       "                }\n",
       "            }, 500);\n",
       "            "
      ],
      "text/plain": [
       "<IPython.core.display.Javascript object>"
      ]
     },
     "metadata": {},
     "output_type": "display_data"
    }
   ],
   "source": [
    "import numpy as np\n",
    "import pandas as pd\n",
    "from functools import reduce\n",
    "import matplotlib.pyplot as plt\n",
    "import seaborn as sns\n",
    "import plotly.express as px\n",
    "import plotly.graph_objects as go\n",
    "from ipywidgets import interact\n",
    "\n",
    "%matplotlib inline\n",
    "\n",
    "from sklearn.preprocessing import StandardScaler\n",
    "from sklearn.decomposition import PCA\n",
    "import umap\n",
    "from sklearn.manifold import Isomap, LocallyLinearEmbedding, TSNE\n",
    "from sklearn.cluster import KMeans, AgglomerativeClustering, DBSCAN\n",
    "from sklearn.mixture import GaussianMixture\n",
    "from sklearn.metrics import silhouette_score\n",
    "\n",
    "\n",
    "pd.set_option(\"display.max_columns\", None)"
   ]
  },
  {
   "cell_type": "code",
   "execution_count": 3,
   "metadata": {
    "cell_style": "center",
    "id": "OxHl1GNEGRDB",
    "slideshow": {
     "slide_type": "subslide"
    }
   },
   "outputs": [
    {
     "data": {
      "application/javascript": [
       "\n",
       "            setTimeout(function() {\n",
       "                var nbb_cell_id = 3;\n",
       "                var nbb_unformatted_code = \"spending_df = pd.read_csv(\\\"./data/Affinity - State - Daily.csv\\\")\\njobposting_df = pd.read_csv(\\\"./data/Burning Glass - State - Weekly.csv\\\")\\nemployment_df = pd.read_csv(\\\"./data/Employment Combined - State - Daily.csv\\\")\\nuiclaims_df = pd.read_csv(\\\"./data/UI Claims - State - Weekly.csv\\\")\\nsbopen_df = pd.read_csv(\\\"./data/Womply Merchants - State - Daily.csv\\\")\\nsbrev_df = pd.read_csv(\\\"./data/Womply Revenue - State - Daily.csv\\\")\\ngeo_df = pd.read_csv(\\\"./data/GeoIDs - State.csv\\\")\\n# us_census_st_df = pd.read_csv(\\\"./data/us census bureau regions and divisions.csv\\\")\";\n",
       "                var nbb_formatted_code = \"spending_df = pd.read_csv(\\\"./data/Affinity - State - Daily.csv\\\")\\njobposting_df = pd.read_csv(\\\"./data/Burning Glass - State - Weekly.csv\\\")\\nemployment_df = pd.read_csv(\\\"./data/Employment Combined - State - Daily.csv\\\")\\nuiclaims_df = pd.read_csv(\\\"./data/UI Claims - State - Weekly.csv\\\")\\nsbopen_df = pd.read_csv(\\\"./data/Womply Merchants - State - Daily.csv\\\")\\nsbrev_df = pd.read_csv(\\\"./data/Womply Revenue - State - Daily.csv\\\")\\ngeo_df = pd.read_csv(\\\"./data/GeoIDs - State.csv\\\")\\n# us_census_st_df = pd.read_csv(\\\"./data/us census bureau regions and divisions.csv\\\")\";\n",
       "                var nbb_cells = Jupyter.notebook.get_cells();\n",
       "                for (var i = 0; i < nbb_cells.length; ++i) {\n",
       "                    if (nbb_cells[i].input_prompt_number == nbb_cell_id) {\n",
       "                        if (nbb_cells[i].get_text() == nbb_unformatted_code) {\n",
       "                             nbb_cells[i].set_text(nbb_formatted_code);\n",
       "                        }\n",
       "                        break;\n",
       "                    }\n",
       "                }\n",
       "            }, 500);\n",
       "            "
      ],
      "text/plain": [
       "<IPython.core.display.Javascript object>"
      ]
     },
     "metadata": {},
     "output_type": "display_data"
    }
   ],
   "source": [
    "spending_df = pd.read_csv(\"./data/Affinity - State - Daily.csv\")\n",
    "jobposting_df = pd.read_csv(\"./data/Burning Glass - State - Weekly.csv\")\n",
    "employment_df = pd.read_csv(\"./data/Employment Combined - State - Daily.csv\")\n",
    "uiclaims_df = pd.read_csv(\"./data/UI Claims - State - Weekly.csv\")\n",
    "sbopen_df = pd.read_csv(\"./data/Womply Merchants - State - Daily.csv\")\n",
    "sbrev_df = pd.read_csv(\"./data/Womply Revenue - State - Daily.csv\")\n",
    "geo_df = pd.read_csv(\"./data/GeoIDs - State.csv\")\n",
    "# us_census_st_df = pd.read_csv(\"./data/us census bureau regions and divisions.csv\")"
   ]
  },
  {
   "cell_type": "code",
   "execution_count": 4,
   "metadata": {},
   "outputs": [
    {
     "data": {
      "application/javascript": [
       "\n",
       "            setTimeout(function() {\n",
       "                var nbb_cell_id = 4;\n",
       "                var nbb_unformatted_code = \"spending_df = spending_df.loc[(spending_df[\\\"month\\\"] >= 4) & (spending_df[\\\"month\\\"] <= 9)]\\nspending_df[\\\"spend_all\\\"] = spending_df[\\\"spend_all\\\"].astype(float)\\nspending_df = spending_df.rename(columns={\\\"spend_all\\\": \\\"avg_spending\\\"})\\nspending_df = spending_df[[\\\"year\\\", \\\"month\\\", \\\"day\\\", \\\"statefips\\\", \\\"avg_spending\\\"]]\\nspending_df[\\\"date\\\"] = pd.to_datetime(spending_df[[\\\"year\\\", \\\"month\\\", \\\"day\\\"]])\\nspending_df[\\\"week\\\"] = ((spending_df[\\\"date\\\"] - pd.Timestamp(\\\"20200401\\\")) / 7).dt.days\\nspending_df = spending_df.loc[(spending_df[\\\"week\\\"] != 26)]\\nspending_df = spending_df.drop([\\\"year\\\", \\\"day\\\"], 1)\\nspending_df_grp = spending_df.groupby([\\\"week\\\", \\\"statefips\\\"]).mean()\";\n",
       "                var nbb_formatted_code = \"spending_df = spending_df.loc[(spending_df[\\\"month\\\"] >= 4) & (spending_df[\\\"month\\\"] <= 9)]\\nspending_df[\\\"spend_all\\\"] = spending_df[\\\"spend_all\\\"].astype(float)\\nspending_df = spending_df.rename(columns={\\\"spend_all\\\": \\\"avg_spending\\\"})\\nspending_df = spending_df[[\\\"year\\\", \\\"month\\\", \\\"day\\\", \\\"statefips\\\", \\\"avg_spending\\\"]]\\nspending_df[\\\"date\\\"] = pd.to_datetime(spending_df[[\\\"year\\\", \\\"month\\\", \\\"day\\\"]])\\nspending_df[\\\"week\\\"] = ((spending_df[\\\"date\\\"] - pd.Timestamp(\\\"20200401\\\")) / 7).dt.days\\nspending_df = spending_df.loc[(spending_df[\\\"week\\\"] != 26)]\\nspending_df = spending_df.drop([\\\"year\\\", \\\"day\\\"], 1)\\nspending_df_grp = spending_df.groupby([\\\"week\\\", \\\"statefips\\\"]).mean()\";\n",
       "                var nbb_cells = Jupyter.notebook.get_cells();\n",
       "                for (var i = 0; i < nbb_cells.length; ++i) {\n",
       "                    if (nbb_cells[i].input_prompt_number == nbb_cell_id) {\n",
       "                        if (nbb_cells[i].get_text() == nbb_unformatted_code) {\n",
       "                             nbb_cells[i].set_text(nbb_formatted_code);\n",
       "                        }\n",
       "                        break;\n",
       "                    }\n",
       "                }\n",
       "            }, 500);\n",
       "            "
      ],
      "text/plain": [
       "<IPython.core.display.Javascript object>"
      ]
     },
     "metadata": {},
     "output_type": "display_data"
    }
   ],
   "source": [
    "spending_df = spending_df.loc[(spending_df[\"month\"] >= 4) & (spending_df[\"month\"] <= 9)]\n",
    "spending_df[\"spend_all\"] = spending_df[\"spend_all\"].astype(float)\n",
    "spending_df = spending_df.rename(columns={\"spend_all\": \"avg_spending\"})\n",
    "spending_df = spending_df[[\"year\", \"month\", \"day\", \"statefips\", \"avg_spending\"]]\n",
    "spending_df[\"date\"] = pd.to_datetime(spending_df[[\"year\", \"month\", \"day\"]])\n",
    "spending_df[\"week\"] = ((spending_df[\"date\"] - pd.Timestamp(\"20200401\")) / 7).dt.days\n",
    "spending_df = spending_df.loc[(spending_df[\"week\"] != 26)]\n",
    "spending_df = spending_df.drop([\"year\", \"day\"], 1)\n",
    "spending_df_grp = spending_df.groupby([\"week\", \"statefips\"]).mean()"
   ]
  },
  {
   "cell_type": "code",
   "execution_count": 5,
   "metadata": {},
   "outputs": [
    {
     "data": {
      "application/javascript": [
       "\n",
       "            setTimeout(function() {\n",
       "                var nbb_cell_id = 5;\n",
       "                var nbb_unformatted_code = \"jobposting_df = jobposting_df.loc[\\n    (jobposting_df[\\\"month\\\"] >= 4) & (jobposting_df[\\\"month\\\"] <= 9)\\n]\\njobposting_df = jobposting_df.rename(\\n    columns={\\\"bg_posts\\\": \\\"avg_jobpost\\\", \\\"day_endofweek\\\": \\\"day\\\"}\\n)\\n\\njobposting_df = jobposting_df[[\\\"year\\\", \\\"month\\\", \\\"day\\\", \\\"statefips\\\", \\\"avg_jobpost\\\"]]\\njobposting_df.sort_values(by=[\\\"month\\\", \\\"day\\\"], inplace=True)\\njobposting_df[\\\"date\\\"] = pd.to_datetime(jobposting_df[[\\\"year\\\", \\\"month\\\", \\\"day\\\"]])\\njobposting_df[\\\"week\\\"] = ((jobposting_df[\\\"date\\\"] - pd.Timestamp(\\\"20200401\\\")) / 7).dt.days\\njobposting_df = jobposting_df.drop([\\\"year\\\", \\\"month\\\", \\\"day\\\"], 1)\\njobposting_df_grp = jobposting_df.groupby([\\\"week\\\", \\\"statefips\\\"]).mean()\";\n",
       "                var nbb_formatted_code = \"jobposting_df = jobposting_df.loc[\\n    (jobposting_df[\\\"month\\\"] >= 4) & (jobposting_df[\\\"month\\\"] <= 9)\\n]\\njobposting_df = jobposting_df.rename(\\n    columns={\\\"bg_posts\\\": \\\"avg_jobpost\\\", \\\"day_endofweek\\\": \\\"day\\\"}\\n)\\n\\njobposting_df = jobposting_df[[\\\"year\\\", \\\"month\\\", \\\"day\\\", \\\"statefips\\\", \\\"avg_jobpost\\\"]]\\njobposting_df.sort_values(by=[\\\"month\\\", \\\"day\\\"], inplace=True)\\njobposting_df[\\\"date\\\"] = pd.to_datetime(jobposting_df[[\\\"year\\\", \\\"month\\\", \\\"day\\\"]])\\njobposting_df[\\\"week\\\"] = ((jobposting_df[\\\"date\\\"] - pd.Timestamp(\\\"20200401\\\")) / 7).dt.days\\njobposting_df = jobposting_df.drop([\\\"year\\\", \\\"month\\\", \\\"day\\\"], 1)\\njobposting_df_grp = jobposting_df.groupby([\\\"week\\\", \\\"statefips\\\"]).mean()\";\n",
       "                var nbb_cells = Jupyter.notebook.get_cells();\n",
       "                for (var i = 0; i < nbb_cells.length; ++i) {\n",
       "                    if (nbb_cells[i].input_prompt_number == nbb_cell_id) {\n",
       "                        if (nbb_cells[i].get_text() == nbb_unformatted_code) {\n",
       "                             nbb_cells[i].set_text(nbb_formatted_code);\n",
       "                        }\n",
       "                        break;\n",
       "                    }\n",
       "                }\n",
       "            }, 500);\n",
       "            "
      ],
      "text/plain": [
       "<IPython.core.display.Javascript object>"
      ]
     },
     "metadata": {},
     "output_type": "display_data"
    }
   ],
   "source": [
    "jobposting_df = jobposting_df.loc[\n",
    "    (jobposting_df[\"month\"] >= 4) & (jobposting_df[\"month\"] <= 9)\n",
    "]\n",
    "jobposting_df = jobposting_df.rename(\n",
    "    columns={\"bg_posts\": \"avg_jobpost\", \"day_endofweek\": \"day\"}\n",
    ")\n",
    "\n",
    "jobposting_df = jobposting_df[[\"year\", \"month\", \"day\", \"statefips\", \"avg_jobpost\"]]\n",
    "jobposting_df.sort_values(by=[\"month\", \"day\"], inplace=True)\n",
    "jobposting_df[\"date\"] = pd.to_datetime(jobposting_df[[\"year\", \"month\", \"day\"]])\n",
    "jobposting_df[\"week\"] = ((jobposting_df[\"date\"] - pd.Timestamp(\"20200401\")) / 7).dt.days\n",
    "jobposting_df = jobposting_df.drop([\"year\", \"month\", \"day\"], 1)\n",
    "jobposting_df_grp = jobposting_df.groupby([\"week\", \"statefips\"]).mean()"
   ]
  },
  {
   "cell_type": "code",
   "execution_count": 6,
   "metadata": {},
   "outputs": [
    {
     "data": {
      "application/javascript": [
       "\n",
       "            setTimeout(function() {\n",
       "                var nbb_cell_id = 6;\n",
       "                var nbb_unformatted_code = \"employment_df = employment_df.loc[\\n    (employment_df[\\\"month\\\"] >= 4) & (employment_df[\\\"month\\\"] <= 9)\\n]\\nemployment_df = employment_df.rename(columns={\\\"emp_combined\\\": \\\"avg_emprate\\\"})\\nemployment_df = employment_df[[\\\"year\\\", \\\"month\\\", \\\"day\\\", \\\"statefips\\\", \\\"avg_emprate\\\"]]\\nemployment_df[\\\"date\\\"] = pd.to_datetime(employment_df[[\\\"year\\\", \\\"month\\\", \\\"day\\\"]])\\nemployment_df[\\\"week\\\"] = ((employment_df[\\\"date\\\"] - pd.Timestamp(\\\"20200401\\\")) / 7).dt.days\\nemployment_df = employment_df.loc[(employment_df[\\\"week\\\"] != 26)]\\nemployment_df = employment_df.drop([\\\"year\\\", \\\"month\\\", \\\"day\\\"], 1)\\nemployment_df_grp = employment_df.groupby([\\\"week\\\", \\\"statefips\\\"]).mean()\";\n",
       "                var nbb_formatted_code = \"employment_df = employment_df.loc[\\n    (employment_df[\\\"month\\\"] >= 4) & (employment_df[\\\"month\\\"] <= 9)\\n]\\nemployment_df = employment_df.rename(columns={\\\"emp_combined\\\": \\\"avg_emprate\\\"})\\nemployment_df = employment_df[[\\\"year\\\", \\\"month\\\", \\\"day\\\", \\\"statefips\\\", \\\"avg_emprate\\\"]]\\nemployment_df[\\\"date\\\"] = pd.to_datetime(employment_df[[\\\"year\\\", \\\"month\\\", \\\"day\\\"]])\\nemployment_df[\\\"week\\\"] = ((employment_df[\\\"date\\\"] - pd.Timestamp(\\\"20200401\\\")) / 7).dt.days\\nemployment_df = employment_df.loc[(employment_df[\\\"week\\\"] != 26)]\\nemployment_df = employment_df.drop([\\\"year\\\", \\\"month\\\", \\\"day\\\"], 1)\\nemployment_df_grp = employment_df.groupby([\\\"week\\\", \\\"statefips\\\"]).mean()\";\n",
       "                var nbb_cells = Jupyter.notebook.get_cells();\n",
       "                for (var i = 0; i < nbb_cells.length; ++i) {\n",
       "                    if (nbb_cells[i].input_prompt_number == nbb_cell_id) {\n",
       "                        if (nbb_cells[i].get_text() == nbb_unformatted_code) {\n",
       "                             nbb_cells[i].set_text(nbb_formatted_code);\n",
       "                        }\n",
       "                        break;\n",
       "                    }\n",
       "                }\n",
       "            }, 500);\n",
       "            "
      ],
      "text/plain": [
       "<IPython.core.display.Javascript object>"
      ]
     },
     "metadata": {},
     "output_type": "display_data"
    }
   ],
   "source": [
    "employment_df = employment_df.loc[\n",
    "    (employment_df[\"month\"] >= 4) & (employment_df[\"month\"] <= 9)\n",
    "]\n",
    "employment_df = employment_df.rename(columns={\"emp_combined\": \"avg_emprate\"})\n",
    "employment_df = employment_df[[\"year\", \"month\", \"day\", \"statefips\", \"avg_emprate\"]]\n",
    "employment_df[\"date\"] = pd.to_datetime(employment_df[[\"year\", \"month\", \"day\"]])\n",
    "employment_df[\"week\"] = ((employment_df[\"date\"] - pd.Timestamp(\"20200401\")) / 7).dt.days\n",
    "employment_df = employment_df.loc[(employment_df[\"week\"] != 26)]\n",
    "employment_df = employment_df.drop([\"year\", \"month\", \"day\"], 1)\n",
    "employment_df_grp = employment_df.groupby([\"week\", \"statefips\"]).mean()"
   ]
  },
  {
   "cell_type": "code",
   "execution_count": 7,
   "metadata": {},
   "outputs": [
    {
     "data": {
      "application/javascript": [
       "\n",
       "            setTimeout(function() {\n",
       "                var nbb_cell_id = 7;\n",
       "                var nbb_unformatted_code = \"uiclaims_df = uiclaims_df.loc[(uiclaims_df[\\\"month\\\"] >= 4) & (uiclaims_df[\\\"month\\\"] <= 9)]\\nuiclaims_df = uiclaims_df.rename(\\n    columns={\\\"initclaims_rate_combined\\\": \\\"avg_uiclaimrate\\\", \\\"day_endofweek\\\": \\\"day\\\"}\\n)\\nuiclaims_df = uiclaims_df[[\\\"year\\\", \\\"month\\\", \\\"day\\\", \\\"statefips\\\", \\\"avg_uiclaimrate\\\"]]\\nuiclaims_df[\\\"date\\\"] = pd.to_datetime(uiclaims_df[[\\\"year\\\", \\\"month\\\", \\\"day\\\"]])\\nuiclaims_df[\\\"week\\\"] = ((uiclaims_df[\\\"date\\\"] - pd.Timestamp(\\\"20200401\\\")) / 7).dt.days\\nuiclaims_df = uiclaims_df.drop([\\\"year\\\", \\\"month\\\", \\\"day\\\"], 1)\\nuiclaims_df_grp = uiclaims_df.groupby([\\\"week\\\", \\\"statefips\\\"]).mean()\";\n",
       "                var nbb_formatted_code = \"uiclaims_df = uiclaims_df.loc[(uiclaims_df[\\\"month\\\"] >= 4) & (uiclaims_df[\\\"month\\\"] <= 9)]\\nuiclaims_df = uiclaims_df.rename(\\n    columns={\\\"initclaims_rate_combined\\\": \\\"avg_uiclaimrate\\\", \\\"day_endofweek\\\": \\\"day\\\"}\\n)\\nuiclaims_df = uiclaims_df[[\\\"year\\\", \\\"month\\\", \\\"day\\\", \\\"statefips\\\", \\\"avg_uiclaimrate\\\"]]\\nuiclaims_df[\\\"date\\\"] = pd.to_datetime(uiclaims_df[[\\\"year\\\", \\\"month\\\", \\\"day\\\"]])\\nuiclaims_df[\\\"week\\\"] = ((uiclaims_df[\\\"date\\\"] - pd.Timestamp(\\\"20200401\\\")) / 7).dt.days\\nuiclaims_df = uiclaims_df.drop([\\\"year\\\", \\\"month\\\", \\\"day\\\"], 1)\\nuiclaims_df_grp = uiclaims_df.groupby([\\\"week\\\", \\\"statefips\\\"]).mean()\";\n",
       "                var nbb_cells = Jupyter.notebook.get_cells();\n",
       "                for (var i = 0; i < nbb_cells.length; ++i) {\n",
       "                    if (nbb_cells[i].input_prompt_number == nbb_cell_id) {\n",
       "                        if (nbb_cells[i].get_text() == nbb_unformatted_code) {\n",
       "                             nbb_cells[i].set_text(nbb_formatted_code);\n",
       "                        }\n",
       "                        break;\n",
       "                    }\n",
       "                }\n",
       "            }, 500);\n",
       "            "
      ],
      "text/plain": [
       "<IPython.core.display.Javascript object>"
      ]
     },
     "metadata": {},
     "output_type": "display_data"
    }
   ],
   "source": [
    "uiclaims_df = uiclaims_df.loc[(uiclaims_df[\"month\"] >= 4) & (uiclaims_df[\"month\"] <= 9)]\n",
    "uiclaims_df = uiclaims_df.rename(\n",
    "    columns={\"initclaims_rate_combined\": \"avg_uiclaimrate\", \"day_endofweek\": \"day\"}\n",
    ")\n",
    "uiclaims_df = uiclaims_df[[\"year\", \"month\", \"day\", \"statefips\", \"avg_uiclaimrate\"]]\n",
    "uiclaims_df[\"date\"] = pd.to_datetime(uiclaims_df[[\"year\", \"month\", \"day\"]])\n",
    "uiclaims_df[\"week\"] = ((uiclaims_df[\"date\"] - pd.Timestamp(\"20200401\")) / 7).dt.days\n",
    "uiclaims_df = uiclaims_df.drop([\"year\", \"month\", \"day\"], 1)\n",
    "uiclaims_df_grp = uiclaims_df.groupby([\"week\", \"statefips\"]).mean()"
   ]
  },
  {
   "cell_type": "code",
   "execution_count": 8,
   "metadata": {},
   "outputs": [
    {
     "data": {
      "application/javascript": [
       "\n",
       "            setTimeout(function() {\n",
       "                var nbb_cell_id = 8;\n",
       "                var nbb_unformatted_code = \"sbopen_df = sbopen_df.loc[(sbopen_df[\\\"month\\\"] >= 4) & (sbopen_df[\\\"month\\\"] <= 9)]\\nsbopen_df = sbopen_df.rename(columns={\\\"merchants_all\\\": \\\"avg_sbopen\\\"})\\nsbopen_df = sbopen_df[[\\\"year\\\", \\\"month\\\", \\\"day\\\", \\\"statefips\\\", \\\"avg_sbopen\\\"]]\\nsbopen_df[\\\"date\\\"] = pd.to_datetime(sbopen_df[[\\\"year\\\", \\\"month\\\", \\\"day\\\"]])\\nsbopen_df[\\\"week\\\"] = ((sbopen_df[\\\"date\\\"] - pd.Timestamp(\\\"20200401\\\")) / 7).dt.days\\nsbopen_df = sbopen_df.loc[(sbopen_df[\\\"week\\\"] != 26)]\\nsbopen_df = sbopen_df.drop([\\\"year\\\", \\\"month\\\", \\\"day\\\"], 1)\\nsbopen_df_grp = sbopen_df.groupby([\\\"week\\\", \\\"statefips\\\"]).mean()\";\n",
       "                var nbb_formatted_code = \"sbopen_df = sbopen_df.loc[(sbopen_df[\\\"month\\\"] >= 4) & (sbopen_df[\\\"month\\\"] <= 9)]\\nsbopen_df = sbopen_df.rename(columns={\\\"merchants_all\\\": \\\"avg_sbopen\\\"})\\nsbopen_df = sbopen_df[[\\\"year\\\", \\\"month\\\", \\\"day\\\", \\\"statefips\\\", \\\"avg_sbopen\\\"]]\\nsbopen_df[\\\"date\\\"] = pd.to_datetime(sbopen_df[[\\\"year\\\", \\\"month\\\", \\\"day\\\"]])\\nsbopen_df[\\\"week\\\"] = ((sbopen_df[\\\"date\\\"] - pd.Timestamp(\\\"20200401\\\")) / 7).dt.days\\nsbopen_df = sbopen_df.loc[(sbopen_df[\\\"week\\\"] != 26)]\\nsbopen_df = sbopen_df.drop([\\\"year\\\", \\\"month\\\", \\\"day\\\"], 1)\\nsbopen_df_grp = sbopen_df.groupby([\\\"week\\\", \\\"statefips\\\"]).mean()\";\n",
       "                var nbb_cells = Jupyter.notebook.get_cells();\n",
       "                for (var i = 0; i < nbb_cells.length; ++i) {\n",
       "                    if (nbb_cells[i].input_prompt_number == nbb_cell_id) {\n",
       "                        if (nbb_cells[i].get_text() == nbb_unformatted_code) {\n",
       "                             nbb_cells[i].set_text(nbb_formatted_code);\n",
       "                        }\n",
       "                        break;\n",
       "                    }\n",
       "                }\n",
       "            }, 500);\n",
       "            "
      ],
      "text/plain": [
       "<IPython.core.display.Javascript object>"
      ]
     },
     "metadata": {},
     "output_type": "display_data"
    }
   ],
   "source": [
    "sbopen_df = sbopen_df.loc[(sbopen_df[\"month\"] >= 4) & (sbopen_df[\"month\"] <= 9)]\n",
    "sbopen_df = sbopen_df.rename(columns={\"merchants_all\": \"avg_sbopen\"})\n",
    "sbopen_df = sbopen_df[[\"year\", \"month\", \"day\", \"statefips\", \"avg_sbopen\"]]\n",
    "sbopen_df[\"date\"] = pd.to_datetime(sbopen_df[[\"year\", \"month\", \"day\"]])\n",
    "sbopen_df[\"week\"] = ((sbopen_df[\"date\"] - pd.Timestamp(\"20200401\")) / 7).dt.days\n",
    "sbopen_df = sbopen_df.loc[(sbopen_df[\"week\"] != 26)]\n",
    "sbopen_df = sbopen_df.drop([\"year\", \"month\", \"day\"], 1)\n",
    "sbopen_df_grp = sbopen_df.groupby([\"week\", \"statefips\"]).mean()"
   ]
  },
  {
   "cell_type": "code",
   "execution_count": 9,
   "metadata": {
    "scrolled": true
   },
   "outputs": [
    {
     "data": {
      "application/javascript": [
       "\n",
       "            setTimeout(function() {\n",
       "                var nbb_cell_id = 9;\n",
       "                var nbb_unformatted_code = \"sbrev_df = sbrev_df.loc[(sbrev_df[\\\"month\\\"] >= 4) & (sbrev_df[\\\"month\\\"] <= 9)]\\nsbrev_df = sbrev_df.rename(columns={\\\"revenue_all\\\": \\\"avg_sbrev\\\"})\\nsbrev_df = sbrev_df[[\\\"year\\\", \\\"month\\\", \\\"day\\\", \\\"statefips\\\", \\\"avg_sbrev\\\"]]\\nsbrev_df[\\\"date\\\"] = pd.to_datetime(sbrev_df[[\\\"year\\\", \\\"month\\\", \\\"day\\\"]])\\nsbrev_df[\\\"week\\\"] = ((sbrev_df[\\\"date\\\"] - pd.Timestamp(\\\"20200401\\\")) / 7).dt.days\\nsbrev_df = sbrev_df.loc[(sbrev_df[\\\"week\\\"] != 26)]\\nsbrev_df = sbrev_df.drop([\\\"year\\\", \\\"month\\\", \\\"day\\\"], 1)\\nsbrev_df_grp = sbrev_df.groupby([\\\"week\\\", \\\"statefips\\\"]).mean()\";\n",
       "                var nbb_formatted_code = \"sbrev_df = sbrev_df.loc[(sbrev_df[\\\"month\\\"] >= 4) & (sbrev_df[\\\"month\\\"] <= 9)]\\nsbrev_df = sbrev_df.rename(columns={\\\"revenue_all\\\": \\\"avg_sbrev\\\"})\\nsbrev_df = sbrev_df[[\\\"year\\\", \\\"month\\\", \\\"day\\\", \\\"statefips\\\", \\\"avg_sbrev\\\"]]\\nsbrev_df[\\\"date\\\"] = pd.to_datetime(sbrev_df[[\\\"year\\\", \\\"month\\\", \\\"day\\\"]])\\nsbrev_df[\\\"week\\\"] = ((sbrev_df[\\\"date\\\"] - pd.Timestamp(\\\"20200401\\\")) / 7).dt.days\\nsbrev_df = sbrev_df.loc[(sbrev_df[\\\"week\\\"] != 26)]\\nsbrev_df = sbrev_df.drop([\\\"year\\\", \\\"month\\\", \\\"day\\\"], 1)\\nsbrev_df_grp = sbrev_df.groupby([\\\"week\\\", \\\"statefips\\\"]).mean()\";\n",
       "                var nbb_cells = Jupyter.notebook.get_cells();\n",
       "                for (var i = 0; i < nbb_cells.length; ++i) {\n",
       "                    if (nbb_cells[i].input_prompt_number == nbb_cell_id) {\n",
       "                        if (nbb_cells[i].get_text() == nbb_unformatted_code) {\n",
       "                             nbb_cells[i].set_text(nbb_formatted_code);\n",
       "                        }\n",
       "                        break;\n",
       "                    }\n",
       "                }\n",
       "            }, 500);\n",
       "            "
      ],
      "text/plain": [
       "<IPython.core.display.Javascript object>"
      ]
     },
     "metadata": {},
     "output_type": "display_data"
    }
   ],
   "source": [
    "sbrev_df = sbrev_df.loc[(sbrev_df[\"month\"] >= 4) & (sbrev_df[\"month\"] <= 9)]\n",
    "sbrev_df = sbrev_df.rename(columns={\"revenue_all\": \"avg_sbrev\"})\n",
    "sbrev_df = sbrev_df[[\"year\", \"month\", \"day\", \"statefips\", \"avg_sbrev\"]]\n",
    "sbrev_df[\"date\"] = pd.to_datetime(sbrev_df[[\"year\", \"month\", \"day\"]])\n",
    "sbrev_df[\"week\"] = ((sbrev_df[\"date\"] - pd.Timestamp(\"20200401\")) / 7).dt.days\n",
    "sbrev_df = sbrev_df.loc[(sbrev_df[\"week\"] != 26)]\n",
    "sbrev_df = sbrev_df.drop([\"year\", \"month\", \"day\"], 1)\n",
    "sbrev_df_grp = sbrev_df.groupby([\"week\", \"statefips\"]).mean()"
   ]
  },
  {
   "cell_type": "code",
   "execution_count": 10,
   "metadata": {
    "id": "K3GcoYAHekmA",
    "slideshow": {
     "slide_type": "subslide"
    }
   },
   "outputs": [
    {
     "data": {
      "application/javascript": [
       "\n",
       "            setTimeout(function() {\n",
       "                var nbb_cell_id = 10;\n",
       "                var nbb_unformatted_code = \"econ_grp_dfs = [\\n    spending_df_grp,\\n    jobposting_df_grp,\\n    employment_df_grp,\\n    uiclaims_df_grp,\\n    sbopen_df_grp,\\n    sbrev_df_grp,\\n]\\n\\necon_df_merged = reduce(\\n    lambda left, right: pd.merge(\\n        left,\\n        right,\\n        left_on=[\\\"week\\\", \\\"statefips\\\"],\\n        how=\\\"inner\\\",\\n        right_on=[\\\"week\\\", \\\"statefips\\\"],\\n    ),\\n    econ_grp_dfs,\\n)\\necon_df_merged.reset_index(inplace=True)\\n\\necon_df_merged = (\\n    econ_df_merged.reset_index().merge(geo_df, how=\\\"left\\\").set_index(\\\"index\\\")\\n)\\necon_df_merged = econ_df_merged.drop([\\\"statefips\\\", \\\"state_pop2019\\\"], 1)\";\n",
       "                var nbb_formatted_code = \"econ_grp_dfs = [\\n    spending_df_grp,\\n    jobposting_df_grp,\\n    employment_df_grp,\\n    uiclaims_df_grp,\\n    sbopen_df_grp,\\n    sbrev_df_grp,\\n]\\n\\necon_df_merged = reduce(\\n    lambda left, right: pd.merge(\\n        left,\\n        right,\\n        left_on=[\\\"week\\\", \\\"statefips\\\"],\\n        how=\\\"inner\\\",\\n        right_on=[\\\"week\\\", \\\"statefips\\\"],\\n    ),\\n    econ_grp_dfs,\\n)\\necon_df_merged.reset_index(inplace=True)\\n\\necon_df_merged = (\\n    econ_df_merged.reset_index().merge(geo_df, how=\\\"left\\\").set_index(\\\"index\\\")\\n)\\necon_df_merged = econ_df_merged.drop([\\\"statefips\\\", \\\"state_pop2019\\\"], 1)\";\n",
       "                var nbb_cells = Jupyter.notebook.get_cells();\n",
       "                for (var i = 0; i < nbb_cells.length; ++i) {\n",
       "                    if (nbb_cells[i].input_prompt_number == nbb_cell_id) {\n",
       "                        if (nbb_cells[i].get_text() == nbb_unformatted_code) {\n",
       "                             nbb_cells[i].set_text(nbb_formatted_code);\n",
       "                        }\n",
       "                        break;\n",
       "                    }\n",
       "                }\n",
       "            }, 500);\n",
       "            "
      ],
      "text/plain": [
       "<IPython.core.display.Javascript object>"
      ]
     },
     "metadata": {},
     "output_type": "display_data"
    }
   ],
   "source": [
    "econ_grp_dfs = [\n",
    "    spending_df_grp,\n",
    "    jobposting_df_grp,\n",
    "    employment_df_grp,\n",
    "    uiclaims_df_grp,\n",
    "    sbopen_df_grp,\n",
    "    sbrev_df_grp,\n",
    "]\n",
    "\n",
    "econ_df_merged = reduce(\n",
    "    lambda left, right: pd.merge(\n",
    "        left,\n",
    "        right,\n",
    "        left_on=[\"week\", \"statefips\"],\n",
    "        how=\"inner\",\n",
    "        right_on=[\"week\", \"statefips\"],\n",
    "    ),\n",
    "    econ_grp_dfs,\n",
    ")\n",
    "econ_df_merged.reset_index(inplace=True)\n",
    "\n",
    "econ_df_merged = (\n",
    "    econ_df_merged.reset_index().merge(geo_df, how=\"left\").set_index(\"index\")\n",
    ")\n",
    "econ_df_merged = econ_df_merged.drop([\"statefips\", \"state_pop2019\"], 1)"
   ]
  },
  {
   "cell_type": "code",
   "execution_count": 11,
   "metadata": {},
   "outputs": [
    {
     "data": {
      "text/html": [
       "<div>\n",
       "<style scoped>\n",
       "    .dataframe tbody tr th:only-of-type {\n",
       "        vertical-align: middle;\n",
       "    }\n",
       "\n",
       "    .dataframe tbody tr th {\n",
       "        vertical-align: top;\n",
       "    }\n",
       "\n",
       "    .dataframe thead th {\n",
       "        text-align: right;\n",
       "    }\n",
       "</style>\n",
       "<table border=\"1\" class=\"dataframe\">\n",
       "  <thead>\n",
       "    <tr style=\"text-align: right;\">\n",
       "      <th></th>\n",
       "      <th>week</th>\n",
       "      <th>month</th>\n",
       "      <th>avg_spending</th>\n",
       "      <th>avg_jobpost</th>\n",
       "      <th>avg_emprate</th>\n",
       "      <th>avg_uiclaimrate</th>\n",
       "      <th>avg_sbopen</th>\n",
       "      <th>avg_sbrev</th>\n",
       "      <th>statename</th>\n",
       "      <th>stateabbrev</th>\n",
       "    </tr>\n",
       "    <tr>\n",
       "      <th>index</th>\n",
       "      <th></th>\n",
       "      <th></th>\n",
       "      <th></th>\n",
       "      <th></th>\n",
       "      <th></th>\n",
       "      <th></th>\n",
       "      <th></th>\n",
       "      <th></th>\n",
       "      <th></th>\n",
       "      <th></th>\n",
       "    </tr>\n",
       "  </thead>\n",
       "  <tbody>\n",
       "    <tr>\n",
       "      <th>0</th>\n",
       "      <td>0</td>\n",
       "      <td>4.0</td>\n",
       "      <td>-0.234714</td>\n",
       "      <td>-0.2180</td>\n",
       "      <td>-0.132286</td>\n",
       "      <td>4.760</td>\n",
       "      <td>-0.329000</td>\n",
       "      <td>-0.388143</td>\n",
       "      <td>Alabama</td>\n",
       "      <td>AL</td>\n",
       "    </tr>\n",
       "    <tr>\n",
       "      <th>1</th>\n",
       "      <td>0</td>\n",
       "      <td>4.0</td>\n",
       "      <td>-0.321429</td>\n",
       "      <td>-0.1350</td>\n",
       "      <td>-0.180714</td>\n",
       "      <td>4.200</td>\n",
       "      <td>-0.397714</td>\n",
       "      <td>-0.490429</td>\n",
       "      <td>Alaska</td>\n",
       "      <td>AK</td>\n",
       "    </tr>\n",
       "    <tr>\n",
       "      <th>2</th>\n",
       "      <td>0</td>\n",
       "      <td>4.0</td>\n",
       "      <td>-0.272000</td>\n",
       "      <td>-0.3370</td>\n",
       "      <td>-0.120286</td>\n",
       "      <td>3.730</td>\n",
       "      <td>-0.304429</td>\n",
       "      <td>-0.427143</td>\n",
       "      <td>Arizona</td>\n",
       "      <td>AZ</td>\n",
       "    </tr>\n",
       "    <tr>\n",
       "      <th>3</th>\n",
       "      <td>0</td>\n",
       "      <td>4.0</td>\n",
       "      <td>-0.197286</td>\n",
       "      <td>-0.3370</td>\n",
       "      <td>-0.120171</td>\n",
       "      <td>4.560</td>\n",
       "      <td>-0.263143</td>\n",
       "      <td>-0.349143</td>\n",
       "      <td>Arkansas</td>\n",
       "      <td>AR</td>\n",
       "    </tr>\n",
       "    <tr>\n",
       "      <th>4</th>\n",
       "      <td>0</td>\n",
       "      <td>4.0</td>\n",
       "      <td>-0.339571</td>\n",
       "      <td>-0.2300</td>\n",
       "      <td>-0.182857</td>\n",
       "      <td>4.730</td>\n",
       "      <td>-0.404571</td>\n",
       "      <td>-0.495429</td>\n",
       "      <td>California</td>\n",
       "      <td>CA</td>\n",
       "    </tr>\n",
       "    <tr>\n",
       "      <th>...</th>\n",
       "      <td>...</td>\n",
       "      <td>...</td>\n",
       "      <td>...</td>\n",
       "      <td>...</td>\n",
       "      <td>...</td>\n",
       "      <td>...</td>\n",
       "      <td>...</td>\n",
       "      <td>...</td>\n",
       "      <td>...</td>\n",
       "      <td>...</td>\n",
       "    </tr>\n",
       "    <tr>\n",
       "      <th>1321</th>\n",
       "      <td>25</td>\n",
       "      <td>9.0</td>\n",
       "      <td>-0.035043</td>\n",
       "      <td>-0.1570</td>\n",
       "      <td>-0.066443</td>\n",
       "      <td>0.283</td>\n",
       "      <td>-0.241429</td>\n",
       "      <td>-0.257429</td>\n",
       "      <td>Virginia</td>\n",
       "      <td>VA</td>\n",
       "    </tr>\n",
       "    <tr>\n",
       "      <th>1322</th>\n",
       "      <td>25</td>\n",
       "      <td>9.0</td>\n",
       "      <td>-0.057986</td>\n",
       "      <td>-0.1810</td>\n",
       "      <td>-0.040886</td>\n",
       "      <td>0.641</td>\n",
       "      <td>-0.267857</td>\n",
       "      <td>-0.277286</td>\n",
       "      <td>Washington</td>\n",
       "      <td>WA</td>\n",
       "    </tr>\n",
       "    <tr>\n",
       "      <th>1323</th>\n",
       "      <td>25</td>\n",
       "      <td>9.0</td>\n",
       "      <td>0.063243</td>\n",
       "      <td>-0.0812</td>\n",
       "      <td>-0.078757</td>\n",
       "      <td>0.239</td>\n",
       "      <td>-0.213857</td>\n",
       "      <td>-0.097443</td>\n",
       "      <td>West Virginia</td>\n",
       "      <td>WV</td>\n",
       "    </tr>\n",
       "    <tr>\n",
       "      <th>1324</th>\n",
       "      <td>25</td>\n",
       "      <td>9.0</td>\n",
       "      <td>-0.082300</td>\n",
       "      <td>-0.1530</td>\n",
       "      <td>-0.055600</td>\n",
       "      <td>0.429</td>\n",
       "      <td>-0.275857</td>\n",
       "      <td>-0.269429</td>\n",
       "      <td>Wisconsin</td>\n",
       "      <td>WI</td>\n",
       "    </tr>\n",
       "    <tr>\n",
       "      <th>1325</th>\n",
       "      <td>25</td>\n",
       "      <td>9.0</td>\n",
       "      <td>0.002658</td>\n",
       "      <td>-0.0550</td>\n",
       "      <td>-0.000527</td>\n",
       "      <td>0.312</td>\n",
       "      <td>-0.320286</td>\n",
       "      <td>-0.230429</td>\n",
       "      <td>Wyoming</td>\n",
       "      <td>WY</td>\n",
       "    </tr>\n",
       "  </tbody>\n",
       "</table>\n",
       "<p>1326 rows × 10 columns</p>\n",
       "</div>"
      ],
      "text/plain": [
       "       week  month  avg_spending  avg_jobpost  avg_emprate  avg_uiclaimrate  \\\n",
       "index                                                                         \n",
       "0         0    4.0     -0.234714      -0.2180    -0.132286            4.760   \n",
       "1         0    4.0     -0.321429      -0.1350    -0.180714            4.200   \n",
       "2         0    4.0     -0.272000      -0.3370    -0.120286            3.730   \n",
       "3         0    4.0     -0.197286      -0.3370    -0.120171            4.560   \n",
       "4         0    4.0     -0.339571      -0.2300    -0.182857            4.730   \n",
       "...     ...    ...           ...          ...          ...              ...   \n",
       "1321     25    9.0     -0.035043      -0.1570    -0.066443            0.283   \n",
       "1322     25    9.0     -0.057986      -0.1810    -0.040886            0.641   \n",
       "1323     25    9.0      0.063243      -0.0812    -0.078757            0.239   \n",
       "1324     25    9.0     -0.082300      -0.1530    -0.055600            0.429   \n",
       "1325     25    9.0      0.002658      -0.0550    -0.000527            0.312   \n",
       "\n",
       "       avg_sbopen  avg_sbrev      statename stateabbrev  \n",
       "index                                                    \n",
       "0       -0.329000  -0.388143        Alabama          AL  \n",
       "1       -0.397714  -0.490429         Alaska          AK  \n",
       "2       -0.304429  -0.427143        Arizona          AZ  \n",
       "3       -0.263143  -0.349143       Arkansas          AR  \n",
       "4       -0.404571  -0.495429     California          CA  \n",
       "...           ...        ...            ...         ...  \n",
       "1321    -0.241429  -0.257429       Virginia          VA  \n",
       "1322    -0.267857  -0.277286     Washington          WA  \n",
       "1323    -0.213857  -0.097443  West Virginia          WV  \n",
       "1324    -0.275857  -0.269429      Wisconsin          WI  \n",
       "1325    -0.320286  -0.230429        Wyoming          WY  \n",
       "\n",
       "[1326 rows x 10 columns]"
      ]
     },
     "execution_count": 11,
     "metadata": {},
     "output_type": "execute_result"
    },
    {
     "data": {
      "application/javascript": [
       "\n",
       "            setTimeout(function() {\n",
       "                var nbb_cell_id = 11;\n",
       "                var nbb_unformatted_code = \"econ_df_merged\";\n",
       "                var nbb_formatted_code = \"econ_df_merged\";\n",
       "                var nbb_cells = Jupyter.notebook.get_cells();\n",
       "                for (var i = 0; i < nbb_cells.length; ++i) {\n",
       "                    if (nbb_cells[i].input_prompt_number == nbb_cell_id) {\n",
       "                        if (nbb_cells[i].get_text() == nbb_unformatted_code) {\n",
       "                             nbb_cells[i].set_text(nbb_formatted_code);\n",
       "                        }\n",
       "                        break;\n",
       "                    }\n",
       "                }\n",
       "            }, 500);\n",
       "            "
      ],
      "text/plain": [
       "<IPython.core.display.Javascript object>"
      ]
     },
     "metadata": {},
     "output_type": "display_data"
    }
   ],
   "source": [
    "econ_df_merged"
   ]
  },
  {
   "cell_type": "code",
   "execution_count": 12,
   "metadata": {
    "id": "dXcHIEPtfB7O",
    "slideshow": {
     "slide_type": "fragment"
    }
   },
   "outputs": [
    {
     "data": {
      "application/javascript": [
       "\n",
       "            setTimeout(function() {\n",
       "                var nbb_cell_id = 12;\n",
       "                var nbb_unformatted_code = \"X = econ_df_merged.drop([\\\"week\\\", \\\"month\\\", \\\"statename\\\", \\\"stateabbrev\\\"], 1)\";\n",
       "                var nbb_formatted_code = \"X = econ_df_merged.drop([\\\"week\\\", \\\"month\\\", \\\"statename\\\", \\\"stateabbrev\\\"], 1)\";\n",
       "                var nbb_cells = Jupyter.notebook.get_cells();\n",
       "                for (var i = 0; i < nbb_cells.length; ++i) {\n",
       "                    if (nbb_cells[i].input_prompt_number == nbb_cell_id) {\n",
       "                        if (nbb_cells[i].get_text() == nbb_unformatted_code) {\n",
       "                             nbb_cells[i].set_text(nbb_formatted_code);\n",
       "                        }\n",
       "                        break;\n",
       "                    }\n",
       "                }\n",
       "            }, 500);\n",
       "            "
      ],
      "text/plain": [
       "<IPython.core.display.Javascript object>"
      ]
     },
     "metadata": {},
     "output_type": "display_data"
    }
   ],
   "source": [
    "X = econ_df_merged.drop([\"week\", \"month\", \"statename\", \"stateabbrev\"], 1)"
   ]
  },
  {
   "cell_type": "code",
   "execution_count": 13,
   "metadata": {
    "id": "nsGzwbOke0xP",
    "slideshow": {
     "slide_type": "subslide"
    }
   },
   "outputs": [
    {
     "data": {
      "application/javascript": [
       "\n",
       "            setTimeout(function() {\n",
       "                var nbb_cell_id = 13;\n",
       "                var nbb_unformatted_code = \"scaler = StandardScaler()\\nX_std = pd.DataFrame(scaler.fit_transform(X), columns=X.columns)\\n\\npca = PCA(n_components=2)\\npca_df = pd.DataFrame(pca.fit_transform(X_std), columns=[\\\"c0\\\", \\\"c1\\\"])\";\n",
       "                var nbb_formatted_code = \"scaler = StandardScaler()\\nX_std = pd.DataFrame(scaler.fit_transform(X), columns=X.columns)\\n\\npca = PCA(n_components=2)\\npca_df = pd.DataFrame(pca.fit_transform(X_std), columns=[\\\"c0\\\", \\\"c1\\\"])\";\n",
       "                var nbb_cells = Jupyter.notebook.get_cells();\n",
       "                for (var i = 0; i < nbb_cells.length; ++i) {\n",
       "                    if (nbb_cells[i].input_prompt_number == nbb_cell_id) {\n",
       "                        if (nbb_cells[i].get_text() == nbb_unformatted_code) {\n",
       "                             nbb_cells[i].set_text(nbb_formatted_code);\n",
       "                        }\n",
       "                        break;\n",
       "                    }\n",
       "                }\n",
       "            }, 500);\n",
       "            "
      ],
      "text/plain": [
       "<IPython.core.display.Javascript object>"
      ]
     },
     "metadata": {},
     "output_type": "display_data"
    }
   ],
   "source": [
    "scaler = StandardScaler()\n",
    "X_std = pd.DataFrame(scaler.fit_transform(X), columns=X.columns)\n",
    "\n",
    "pca = PCA(n_components=2)\n",
    "pca_df = pd.DataFrame(pca.fit_transform(X_std), columns=[\"c0\", \"c1\"])"
   ]
  },
  {
   "cell_type": "code",
   "execution_count": 14,
   "metadata": {
    "colab": {
     "base_uri": "https://localhost:8080/",
     "height": 431
    },
    "hide_input": false,
    "id": "oEjeHU9zLdPM",
    "outputId": "30290151-75dd-4e59-b2c3-24f4188abe05",
    "scrolled": true,
    "slideshow": {
     "slide_type": "fragment"
    }
   },
   "outputs": [
    {
     "data": {
      "image/png": "[encoded data removed]",
      "text/plain": [
       "<Figure size 432x288 with 1 Axes>"
      ]
     },
     "metadata": {
      "needs_background": "light"
     },
     "output_type": "display_data"
    },
    {
     "data": {
      "application/javascript": [
       "\n",
       "            setTimeout(function() {\n",
       "                var nbb_cell_id = 14;\n",
       "                var nbb_unformatted_code = \"km4 = KMeans(n_clusters=4, random_state=42)\\nkm4_preds = km4.fit_predict(X_std)\\necon_df_merged[\\\"clusters\\\"] = km4_preds\\nkm4_cluster_centers = pd.DataFrame(\\n    scaler.inverse_transform(km4.cluster_centers_), columns=X_std.columns\\n).rename_axis(\\\"Clusters\\\")\\nkm4_cluster_centers[\\\"Count\\\"] = pd.Series(km4_preds).value_counts()\\n\\n\\npca_centers = pca.transform(km4.cluster_centers_)\\nsns.scatterplot(x=pca_df[\\\"c0\\\"], y=pca_df[\\\"c1\\\"], hue=km4_preds, palette=\\\"Set2\\\")\\nsns.scatterplot(x=pca_centers[:, 0], y=pca_centers[:, 1], color=\\\"black\\\")\\nplt.legend()\\nplt.show()\";\n",
       "                var nbb_formatted_code = \"km4 = KMeans(n_clusters=4, random_state=42)\\nkm4_preds = km4.fit_predict(X_std)\\necon_df_merged[\\\"clusters\\\"] = km4_preds\\nkm4_cluster_centers = pd.DataFrame(\\n    scaler.inverse_transform(km4.cluster_centers_), columns=X_std.columns\\n).rename_axis(\\\"Clusters\\\")\\nkm4_cluster_centers[\\\"Count\\\"] = pd.Series(km4_preds).value_counts()\\n\\n\\npca_centers = pca.transform(km4.cluster_centers_)\\nsns.scatterplot(x=pca_df[\\\"c0\\\"], y=pca_df[\\\"c1\\\"], hue=km4_preds, palette=\\\"Set2\\\")\\nsns.scatterplot(x=pca_centers[:, 0], y=pca_centers[:, 1], color=\\\"black\\\")\\nplt.legend()\\nplt.show()\";\n",
       "                var nbb_cells = Jupyter.notebook.get_cells();\n",
       "                for (var i = 0; i < nbb_cells.length; ++i) {\n",
       "                    if (nbb_cells[i].input_prompt_number == nbb_cell_id) {\n",
       "                        if (nbb_cells[i].get_text() == nbb_unformatted_code) {\n",
       "                             nbb_cells[i].set_text(nbb_formatted_code);\n",
       "                        }\n",
       "                        break;\n",
       "                    }\n",
       "                }\n",
       "            }, 500);\n",
       "            "
      ],
      "text/plain": [
       "<IPython.core.display.Javascript object>"
      ]
     },
     "metadata": {},
     "output_type": "display_data"
    }
   ],
   "source": [
    "km4 = KMeans(n_clusters=4, random_state=42)\n",
    "km4_preds = km4.fit_predict(X_std)\n",
    "econ_df_merged[\"clusters\"] = km4_preds\n",
    "km4_cluster_centers = pd.DataFrame(\n",
    "    scaler.inverse_transform(km4.cluster_centers_), columns=X_std.columns\n",
    ").rename_axis(\"Clusters\")\n",
    "km4_cluster_centers[\"Count\"] = pd.Series(km4_preds).value_counts()\n",
    "\n",
    "\n",
    "pca_centers = pca.transform(km4.cluster_centers_)\n",
    "sns.scatterplot(x=pca_df[\"c0\"], y=pca_df[\"c1\"], hue=km4_preds, palette=\"Set2\")\n",
    "sns.scatterplot(x=pca_centers[:, 0], y=pca_centers[:, 1], color=\"black\")\n",
    "plt.legend()\n",
    "plt.show()"
   ]
  },
  {
   "cell_type": "code",
   "execution_count": 15,
   "metadata": {
    "slideshow": {
     "slide_type": "subslide"
    }
   },
   "outputs": [
    {
     "data": {
      "text/html": [
       "<style  type=\"text/css\" >\n",
       "#T_d7f1b0d4_35e3_11eb_b460_8c8590bca84drow0_col0{\n",
       "            background-color:  #4697c4;\n",
       "            color:  #000000;\n",
       "        }#T_d7f1b0d4_35e3_11eb_b460_8c8590bca84drow0_col1,#T_d7f1b0d4_35e3_11eb_b460_8c8590bca84drow2_col3,#T_d7f1b0d4_35e3_11eb_b460_8c8590bca84drow3_col0,#T_d7f1b0d4_35e3_11eb_b460_8c8590bca84drow3_col2,#T_d7f1b0d4_35e3_11eb_b460_8c8590bca84drow3_col4,#T_d7f1b0d4_35e3_11eb_b460_8c8590bca84drow3_col5,#T_d7f1b0d4_35e3_11eb_b460_8c8590bca84drow3_col6{\n",
       "            background-color:  #fff7fb;\n",
       "            color:  #000000;\n",
       "        }#T_d7f1b0d4_35e3_11eb_b460_8c8590bca84drow0_col2{\n",
       "            background-color:  #c0c9e2;\n",
       "            color:  #000000;\n",
       "        }#T_d7f1b0d4_35e3_11eb_b460_8c8590bca84drow0_col3{\n",
       "            background-color:  #569dc8;\n",
       "            color:  #000000;\n",
       "        }#T_d7f1b0d4_35e3_11eb_b460_8c8590bca84drow0_col4{\n",
       "            background-color:  #79abd0;\n",
       "            color:  #000000;\n",
       "        }#T_d7f1b0d4_35e3_11eb_b460_8c8590bca84drow0_col5{\n",
       "            background-color:  #6ba5cd;\n",
       "            color:  #000000;\n",
       "        }#T_d7f1b0d4_35e3_11eb_b460_8c8590bca84drow0_col6{\n",
       "            background-color:  #dedcec;\n",
       "            color:  #000000;\n",
       "        }#T_d7f1b0d4_35e3_11eb_b460_8c8590bca84drow1_col0{\n",
       "            background-color:  #045788;\n",
       "            color:  #f1f1f1;\n",
       "        }#T_d7f1b0d4_35e3_11eb_b460_8c8590bca84drow1_col1{\n",
       "            background-color:  #b1c2de;\n",
       "            color:  #000000;\n",
       "        }#T_d7f1b0d4_35e3_11eb_b460_8c8590bca84drow1_col2{\n",
       "            background-color:  #045280;\n",
       "            color:  #f1f1f1;\n",
       "        }#T_d7f1b0d4_35e3_11eb_b460_8c8590bca84drow1_col3{\n",
       "            background-color:  #fdf5fa;\n",
       "            color:  #000000;\n",
       "        }#T_d7f1b0d4_35e3_11eb_b460_8c8590bca84drow1_col4,#T_d7f1b0d4_35e3_11eb_b460_8c8590bca84drow1_col5,#T_d7f1b0d4_35e3_11eb_b460_8c8590bca84drow1_col6,#T_d7f1b0d4_35e3_11eb_b460_8c8590bca84drow2_col0,#T_d7f1b0d4_35e3_11eb_b460_8c8590bca84drow2_col1,#T_d7f1b0d4_35e3_11eb_b460_8c8590bca84drow2_col2,#T_d7f1b0d4_35e3_11eb_b460_8c8590bca84drow3_col3{\n",
       "            background-color:  #023858;\n",
       "            color:  #f1f1f1;\n",
       "        }#T_d7f1b0d4_35e3_11eb_b460_8c8590bca84drow2_col4{\n",
       "            background-color:  #1379b5;\n",
       "            color:  #f1f1f1;\n",
       "        }#T_d7f1b0d4_35e3_11eb_b460_8c8590bca84drow2_col5{\n",
       "            background-color:  #187cb6;\n",
       "            color:  #000000;\n",
       "        }#T_d7f1b0d4_35e3_11eb_b460_8c8590bca84drow2_col6{\n",
       "            background-color:  #034369;\n",
       "            color:  #f1f1f1;\n",
       "        }#T_d7f1b0d4_35e3_11eb_b460_8c8590bca84drow3_col1{\n",
       "            background-color:  #f3edf5;\n",
       "            color:  #000000;\n",
       "        }</style><table id=\"T_d7f1b0d4_35e3_11eb_b460_8c8590bca84d\" ><thead>    <tr>        <th class=\"blank level0\" ></th>        <th class=\"col_heading level0 col0\" >avg_spending</th>        <th class=\"col_heading level0 col1\" >avg_jobpost</th>        <th class=\"col_heading level0 col2\" >avg_emprate</th>        <th class=\"col_heading level0 col3\" >avg_uiclaimrate</th>        <th class=\"col_heading level0 col4\" >avg_sbopen</th>        <th class=\"col_heading level0 col5\" >avg_sbrev</th>        <th class=\"col_heading level0 col6\" >Count</th>    </tr>    <tr>        <th class=\"index_name level0\" >Clusters</th>        <th class=\"blank\" ></th>        <th class=\"blank\" ></th>        <th class=\"blank\" ></th>        <th class=\"blank\" ></th>        <th class=\"blank\" ></th>        <th class=\"blank\" ></th>        <th class=\"blank\" ></th>    </tr></thead><tbody>\n",
       "                <tr>\n",
       "                        <th id=\"T_d7f1b0d4_35e3_11eb_b460_8c8590bca84dlevel0_row0\" class=\"row_heading level0 row0\" >0</th>\n",
       "                        <td id=\"T_d7f1b0d4_35e3_11eb_b460_8c8590bca84drow0_col0\" class=\"data row0 col0\" >-0.135013</td>\n",
       "                        <td id=\"T_d7f1b0d4_35e3_11eb_b460_8c8590bca84drow0_col1\" class=\"data row0 col1\" >-0.326422</td>\n",
       "                        <td id=\"T_d7f1b0d4_35e3_11eb_b460_8c8590bca84drow0_col2\" class=\"data row0 col2\" >-0.174340</td>\n",
       "                        <td id=\"T_d7f1b0d4_35e3_11eb_b460_8c8590bca84drow0_col3\" class=\"data row0 col3\" >2.073041</td>\n",
       "                        <td id=\"T_d7f1b0d4_35e3_11eb_b460_8c8590bca84drow0_col4\" class=\"data row0 col4\" >-0.316672</td>\n",
       "                        <td id=\"T_d7f1b0d4_35e3_11eb_b460_8c8590bca84drow0_col5\" class=\"data row0 col5\" >-0.326551</td>\n",
       "                        <td id=\"T_d7f1b0d4_35e3_11eb_b460_8c8590bca84drow0_col6\" class=\"data row0 col6\" >246</td>\n",
       "            </tr>\n",
       "            <tr>\n",
       "                        <th id=\"T_d7f1b0d4_35e3_11eb_b460_8c8590bca84dlevel0_row1\" class=\"row_heading level0 row1\" >1</th>\n",
       "                        <td id=\"T_d7f1b0d4_35e3_11eb_b460_8c8590bca84drow1_col0\" class=\"data row1 col0\" >-0.067850</td>\n",
       "                        <td id=\"T_d7f1b0d4_35e3_11eb_b460_8c8590bca84drow1_col1\" class=\"data row1 col1\" >-0.221238</td>\n",
       "                        <td id=\"T_d7f1b0d4_35e3_11eb_b460_8c8590bca84drow1_col2\" class=\"data row1 col2\" >-0.086913</td>\n",
       "                        <td id=\"T_d7f1b0d4_35e3_11eb_b460_8c8590bca84drow1_col3\" class=\"data row1 col3\" >0.933052</td>\n",
       "                        <td id=\"T_d7f1b0d4_35e3_11eb_b460_8c8590bca84drow1_col4\" class=\"data row1 col4\" >-0.204964</td>\n",
       "                        <td id=\"T_d7f1b0d4_35e3_11eb_b460_8c8590bca84drow1_col5\" class=\"data row1 col5\" >-0.171601</td>\n",
       "                        <td id=\"T_d7f1b0d4_35e3_11eb_b460_8c8590bca84drow1_col6\" class=\"data row1 col6\" >445</td>\n",
       "            </tr>\n",
       "            <tr>\n",
       "                        <th id=\"T_d7f1b0d4_35e3_11eb_b460_8c8590bca84dlevel0_row2\" class=\"row_heading level0 row2\" >2</th>\n",
       "                        <td id=\"T_d7f1b0d4_35e3_11eb_b460_8c8590bca84drow2_col0\" class=\"data row2 col0\" >-0.041413</td>\n",
       "                        <td id=\"T_d7f1b0d4_35e3_11eb_b460_8c8590bca84drow2_col1\" class=\"data row2 col1\" >-0.018175</td>\n",
       "                        <td id=\"T_d7f1b0d4_35e3_11eb_b460_8c8590bca84drow2_col2\" class=\"data row2 col2\" >-0.072903</td>\n",
       "                        <td id=\"T_d7f1b0d4_35e3_11eb_b460_8c8590bca84drow2_col3\" class=\"data row2 col3\" >0.900124</td>\n",
       "                        <td id=\"T_d7f1b0d4_35e3_11eb_b460_8c8590bca84drow2_col4\" class=\"data row2 col4\" >-0.267454</td>\n",
       "                        <td id=\"T_d7f1b0d4_35e3_11eb_b460_8c8590bca84drow2_col5\" class=\"data row2 col5\" >-0.267240</td>\n",
       "                        <td id=\"T_d7f1b0d4_35e3_11eb_b460_8c8590bca84drow2_col6\" class=\"data row2 col6\" >435</td>\n",
       "            </tr>\n",
       "            <tr>\n",
       "                        <th id=\"T_d7f1b0d4_35e3_11eb_b460_8c8590bca84dlevel0_row3\" class=\"row_heading level0 row3\" >3</th>\n",
       "                        <td id=\"T_d7f1b0d4_35e3_11eb_b460_8c8590bca84drow3_col0\" class=\"data row3 col0\" >-0.271405</td>\n",
       "                        <td id=\"T_d7f1b0d4_35e3_11eb_b460_8c8590bca84drow3_col1\" class=\"data row3 col1\" >-0.301740</td>\n",
       "                        <td id=\"T_d7f1b0d4_35e3_11eb_b460_8c8590bca84drow3_col2\" class=\"data row3 col2\" >-0.217552</td>\n",
       "                        <td id=\"T_d7f1b0d4_35e3_11eb_b460_8c8590bca84drow3_col3\" class=\"data row3 col3\" >2.998565</td>\n",
       "                        <td id=\"T_d7f1b0d4_35e3_11eb_b460_8c8590bca84drow3_col4\" class=\"data row3 col4\" >-0.421855</td>\n",
       "                        <td id=\"T_d7f1b0d4_35e3_11eb_b460_8c8590bca84drow3_col5\" class=\"data row3 col5\" >-0.492776</td>\n",
       "                        <td id=\"T_d7f1b0d4_35e3_11eb_b460_8c8590bca84drow3_col6\" class=\"data row3 col6\" >200</td>\n",
       "            </tr>\n",
       "    </tbody></table>"
      ],
      "text/plain": [
       "<pandas.io.formats.style.Styler at 0x12ad32c10>"
      ]
     },
     "metadata": {},
     "output_type": "display_data"
    },
    {
     "data": {
      "application/javascript": [
       "\n",
       "            setTimeout(function() {\n",
       "                var nbb_cell_id = 15;\n",
       "                var nbb_unformatted_code = \"display(km4_cluster_centers.style.background_gradient())\";\n",
       "                var nbb_formatted_code = \"display(km4_cluster_centers.style.background_gradient())\";\n",
       "                var nbb_cells = Jupyter.notebook.get_cells();\n",
       "                for (var i = 0; i < nbb_cells.length; ++i) {\n",
       "                    if (nbb_cells[i].input_prompt_number == nbb_cell_id) {\n",
       "                        if (nbb_cells[i].get_text() == nbb_unformatted_code) {\n",
       "                             nbb_cells[i].set_text(nbb_formatted_code);\n",
       "                        }\n",
       "                        break;\n",
       "                    }\n",
       "                }\n",
       "            }, 500);\n",
       "            "
      ],
      "text/plain": [
       "<IPython.core.display.Javascript object>"
      ]
     },
     "metadata": {},
     "output_type": "display_data"
    }
   ],
   "source": [
    "display(km4_cluster_centers.style.background_gradient())"
   ]
  },
  {
   "cell_type": "markdown",
   "metadata": {
    "slideshow": {
     "slide_type": "subslide"
    }
   },
   "source": [
    "The following is how the clusters will be re-ranked and defined:\n",
    "\n",
    "Cluster 2 -> 4 - Economy is stabilizing except Small Businesses\n",
    "\n",
    "Cluster 1 -> 3 - Economy is stabilizing except Job Postings\n",
    "\n",
    "Cluster 0 -> 2 - Economy is instable (All metrics moderately low)\n",
    "\n",
    "Cluster 3 -> 1 - Severe economic instability (All metrics are low)"
   ]
  },
  {
   "cell_type": "code",
   "execution_count": 16,
   "metadata": {
    "hide_input": false,
    "id": "KJZWnh3hnssr",
    "slideshow": {
     "slide_type": "fragment"
    }
   },
   "outputs": [
    {
     "data": {
      "application/javascript": [
       "\n",
       "            setTimeout(function() {\n",
       "                var nbb_cell_id = 16;\n",
       "                var nbb_unformatted_code = \"econ_df_merged[\\\"new_clusters\\\"] = econ_df_merged[\\\"clusters\\\"].replace(\\n    {0: 2, 1: 3, 2: 4, 3: 1}\\n)\";\n",
       "                var nbb_formatted_code = \"econ_df_merged[\\\"new_clusters\\\"] = econ_df_merged[\\\"clusters\\\"].replace(\\n    {0: 2, 1: 3, 2: 4, 3: 1}\\n)\";\n",
       "                var nbb_cells = Jupyter.notebook.get_cells();\n",
       "                for (var i = 0; i < nbb_cells.length; ++i) {\n",
       "                    if (nbb_cells[i].input_prompt_number == nbb_cell_id) {\n",
       "                        if (nbb_cells[i].get_text() == nbb_unformatted_code) {\n",
       "                             nbb_cells[i].set_text(nbb_formatted_code);\n",
       "                        }\n",
       "                        break;\n",
       "                    }\n",
       "                }\n",
       "            }, 500);\n",
       "            "
      ],
      "text/plain": [
       "<IPython.core.display.Javascript object>"
      ]
     },
     "metadata": {},
     "output_type": "display_data"
    }
   ],
   "source": [
    "econ_df_merged[\"new_clusters\"] = econ_df_merged[\"clusters\"].replace(\n",
    "    {0: 2, 1: 3, 2: 4, 3: 1}\n",
    ")"
   ]
  },
  {
   "cell_type": "code",
   "execution_count": 17,
   "metadata": {
    "colab": {
     "base_uri": "https://localhost:8080/",
     "height": 542,
     "referenced_widgets": [
      "a862d5524fcd4927bf772b4695320dfd",
      "9eb106c4d7214f19b1a9ea992d84830d",
      "6b97ec05073040968fed3252a2f06348",
      "e45d83db6db140e2b334703b3189a52c"
     ]
    },
    "hide_input": false,
    "id": "246m4pBnOQIe",
    "outputId": "9ed67bd3-33a8-46ae-d832-8dd4d10d5431",
    "scrolled": false,
    "slideshow": {
     "slide_type": "subslide"
    }
   },
   "outputs": [
    {
     "data": {
      "application/vnd.jupyter.widget-view+json": {
       "model_id": "eb83614e75b64d6e85f03a8d37580acc",
       "version_major": 2,
       "version_minor": 0
      },
      "text/plain": [
       "interactive(children=(Output(),), _dom_classes=('widget-interact',))"
      ]
     },
     "metadata": {},
     "output_type": "display_data"
    },
    {
     "data": {
      "application/javascript": [
       "\n",
       "            setTimeout(function() {\n",
       "                var nbb_cell_id = 17;\n",
       "                var nbb_unformatted_code = \"@interact()\\ndef pca_scatter():\\n    pca = PCA(n_components=2, random_state=42)\\n    pca_data = pd.DataFrame(pca.fit_transform(X_std))\\n    pca_data[\\\"new_clusters\\\"] = econ_df_merged[\\\"new_clusters\\\"].astype(\\\"str\\\")\\n\\n    fig = px.scatter(\\n        pca_data,\\n        x=0,\\n        y=1,\\n        color=\\\"new_clusters\\\",\\n        title=f\\\"PCA of KMeans with 4 clusters\\\",\\n    )\\n    fig.update_traces(marker_line_color=\\\"black\\\", marker_line_width=1)\\n    fig.show()\";\n",
       "                var nbb_formatted_code = \"@interact()\\ndef pca_scatter():\\n    pca = PCA(n_components=2, random_state=42)\\n    pca_data = pd.DataFrame(pca.fit_transform(X_std))\\n    pca_data[\\\"new_clusters\\\"] = econ_df_merged[\\\"new_clusters\\\"].astype(\\\"str\\\")\\n\\n    fig = px.scatter(\\n        pca_data,\\n        x=0,\\n        y=1,\\n        color=\\\"new_clusters\\\",\\n        title=f\\\"PCA of KMeans with 4 clusters\\\",\\n    )\\n    fig.update_traces(marker_line_color=\\\"black\\\", marker_line_width=1)\\n    fig.show()\";\n",
       "                var nbb_cells = Jupyter.notebook.get_cells();\n",
       "                for (var i = 0; i < nbb_cells.length; ++i) {\n",
       "                    if (nbb_cells[i].input_prompt_number == nbb_cell_id) {\n",
       "                        if (nbb_cells[i].get_text() == nbb_unformatted_code) {\n",
       "                             nbb_cells[i].set_text(nbb_formatted_code);\n",
       "                        }\n",
       "                        break;\n",
       "                    }\n",
       "                }\n",
       "            }, 500);\n",
       "            "
      ],
      "text/plain": [
       "<IPython.core.display.Javascript object>"
      ]
     },
     "metadata": {},
     "output_type": "display_data"
    }
   ],
   "source": [
    "@interact()\n",
    "def pca_scatter():\n",
    "    pca = PCA(n_components=2, random_state=42)\n",
    "    pca_data = pd.DataFrame(pca.fit_transform(X_std))\n",
    "    pca_data[\"new_clusters\"] = econ_df_merged[\"new_clusters\"].astype(\"str\")\n",
    "\n",
    "    fig = px.scatter(\n",
    "        pca_data,\n",
    "        x=0,\n",
    "        y=1,\n",
    "        color=\"new_clusters\",\n",
    "        title=f\"PCA of KMeans with 4 clusters\",\n",
    "    )\n",
    "    fig.update_traces(marker_line_color=\"black\", marker_line_width=1)\n",
    "    fig.show()"
   ]
  },
  {
   "cell_type": "code",
   "execution_count": 18,
   "metadata": {
    "colab": {
     "base_uri": "https://localhost:8080/",
     "height": 542,
     "referenced_widgets": [
      "ab70e161bc13443895fd8fc568880e70",
      "5ab1ec6dbe114f83b6eaadd940c519a8",
      "b6f40559992d4ce2962d6ca44f501737",
      "3ad23e3bb34549a496459818226b3ba2",
      "a93e80c817cc4d0c8bf2bb70c8e9c9dc",
      "439a7a23a1ac41bda2b381a697323fec",
      "98890b2ebde7462c8a9b90f65b6193d1",
      "2eacc9c6d39046cab8e55fd5a3d675e7",
      "0a652abcd17346ae931b7499dc9ee2ac",
      "bf4cdf40358949b5bec755696154b16c"
     ]
    },
    "hide_input": true,
    "id": "5UBY40GwKdbZ",
    "outputId": "935ff32b-9f92-4180-9235-b7c86376f9ce",
    "scrolled": true,
    "slideshow": {
     "slide_type": "subslide"
    }
   },
   "outputs": [
    {
     "data": {
      "application/vnd.jupyter.widget-view+json": {
       "model_id": "fce2da575f8e4d7387e9d7015ba7d2f1",
       "version_major": 2,
       "version_minor": 0
      },
      "text/plain": [
       "interactive(children=(Dropdown(description='n_neighbors', options=(2, 4, 6, 8, 10, 12, 14, 16, 18, 20, 22, 24)…"
      ]
     },
     "metadata": {},
     "output_type": "display_data"
    },
    {
     "data": {
      "application/javascript": [
       "\n",
       "            setTimeout(function() {\n",
       "                var nbb_cell_id = 18;\n",
       "                var nbb_unformatted_code = \"@interact(n_neighbors=range(2, 25, 2), min_dist=np.arange(0, 1.0, 0.05))\\ndef umap_scatter(n_neighbors, min_dist):\\n    umap_model = umap.UMAP(n_neighbors=n_neighbors, min_dist=min_dist, random_state=42)\\n    data_umap = pd.DataFrame(umap_model.fit_transform(X_std))\\n    data_umap[\\\"new_clusters\\\"] = econ_df_merged[\\\"new_clusters\\\"].astype(\\\"str\\\")\\n\\n    fig = px.scatter(\\n        data_umap,\\n        x=0,\\n        y=1,\\n        color=\\\"new_clusters\\\",\\n        title=f\\\"UMAP {n_neighbors} n_neighbors and {min_dist} min_dist\\\",\\n    )\\n    fig.update_traces(marker_line_color=\\\"black\\\", marker_line_width=1)\\n    fig.show()\";\n",
       "                var nbb_formatted_code = \"@interact(n_neighbors=range(2, 25, 2), min_dist=np.arange(0, 1.0, 0.05))\\ndef umap_scatter(n_neighbors, min_dist):\\n    umap_model = umap.UMAP(n_neighbors=n_neighbors, min_dist=min_dist, random_state=42)\\n    data_umap = pd.DataFrame(umap_model.fit_transform(X_std))\\n    data_umap[\\\"new_clusters\\\"] = econ_df_merged[\\\"new_clusters\\\"].astype(\\\"str\\\")\\n\\n    fig = px.scatter(\\n        data_umap,\\n        x=0,\\n        y=1,\\n        color=\\\"new_clusters\\\",\\n        title=f\\\"UMAP {n_neighbors} n_neighbors and {min_dist} min_dist\\\",\\n    )\\n    fig.update_traces(marker_line_color=\\\"black\\\", marker_line_width=1)\\n    fig.show()\";\n",
       "                var nbb_cells = Jupyter.notebook.get_cells();\n",
       "                for (var i = 0; i < nbb_cells.length; ++i) {\n",
       "                    if (nbb_cells[i].input_prompt_number == nbb_cell_id) {\n",
       "                        if (nbb_cells[i].get_text() == nbb_unformatted_code) {\n",
       "                             nbb_cells[i].set_text(nbb_formatted_code);\n",
       "                        }\n",
       "                        break;\n",
       "                    }\n",
       "                }\n",
       "            }, 500);\n",
       "            "
      ],
      "text/plain": [
       "<IPython.core.display.Javascript object>"
      ]
     },
     "metadata": {},
     "output_type": "display_data"
    }
   ],
   "source": [
    "@interact(n_neighbors=range(2, 25, 2), min_dist=np.arange(0, 1.0, 0.05))\n",
    "def umap_scatter(n_neighbors, min_dist):\n",
    "    umap_model = umap.UMAP(n_neighbors=n_neighbors, min_dist=min_dist, random_state=42)\n",
    "    data_umap = pd.DataFrame(umap_model.fit_transform(X_std))\n",
    "    data_umap[\"new_clusters\"] = econ_df_merged[\"new_clusters\"].astype(\"str\")\n",
    "\n",
    "    fig = px.scatter(\n",
    "        data_umap,\n",
    "        x=0,\n",
    "        y=1,\n",
    "        color=\"new_clusters\",\n",
    "        title=f\"UMAP {n_neighbors} n_neighbors and {min_dist} min_dist\",\n",
    "    )\n",
    "    fig.update_traces(marker_line_color=\"black\", marker_line_width=1)\n",
    "    fig.show()"
   ]
  },
  {
   "cell_type": "code",
   "execution_count": 19,
   "metadata": {
    "colab": {
     "base_uri": "https://localhost:8080/",
     "height": 617
    },
    "hide_input": false,
    "id": "d9Yf-qz1m2fC",
    "outputId": "bd81c06a-6d33-47e5-d20f-f1d5962afea2",
    "slideshow": {
     "slide_type": "slide"
    }
   },
   "outputs": [
    {
     "data": {
      "application/vnd.plotly.v1+json": {
       "config": {
        "plotlyServerURL": "https://plot.ly"
       },
       "data": [
        {
         "coloraxis": "coloraxis",
         "geo": "geo",
         "hovertemplate": "week=0<br>stateabbrev=%{location}<br>new_clusters=%{z}<extra></extra>",
         "locationmode": "USA-states",
         "locations": [
          "AL",
          "AK",
          "AZ",
          "AR",
          "CA",
          "CO",
          "CT",
          "DE",
          "DC",
          "FL",
          "GA",
          "HI",
          "ID",
          "IL",
          "IN",
          "IA",
          "KS",
          "KY",
          "LA",
          "ME",
          "MD",
          "MA",
          "MI",
          "MN",
          "MS",
          "MO",
          "MT",
          "NE",
          "NV",
          "NH",
          "NJ",
          "NM",
          "NY",
          "NC",
          "ND",
          "OH",
          "OK",
          "OR",
          "PA",
          "RI",
          "SC",
          "SD",
          "TN",
          "TX",
          "UT",
          "VT",
          "VA",
          "WA",
          "WV",
          "WI",
          "WY"
         ],
         "name": "",
         "type": "choropleth",
         "z": [
          1,
          1,
          1,
          2,
          1,
          1,
          1,
          1,
          1,
          1,
          1,
          1,
          1,
          1,
          1,
          1,
          1,
          1,
          1,
          1,
          1,
          1,
          1,
          1,
          2,
          1,
          1,
          2,
          1,
          1,
          1,
          1,
          1,
          1,
          1,
          1,
          2,
          1,
          1,
          1,
          1,
          2,
          1,
          1,
          2,
          1,
          1,
          1,
          1,
          1,
          2
         ]
        }
       ],
       "frames": [
        {
         "data": [
          {
           "coloraxis": "coloraxis",
           "geo": "geo",
           "hovertemplate": "week=0<br>stateabbrev=%{location}<br>new_clusters=%{z}<extra></extra>",
           "locationmode": "USA-states",
           "locations": [
            "AL",
            "AK",
            "AZ",
            "AR",
            "CA",
            "CO",
            "CT",
            "DE",
            "DC",
            "FL",
            "GA",
            "HI",
            "ID",
            "IL",
            "IN",
            "IA",
            "KS",
            "KY",
            "LA",
            "ME",
            "MD",
            "MA",
            "MI",
            "MN",
            "MS",
            "MO",
            "MT",
            "NE",
            "NV",
            "NH",
            "NJ",
            "NM",
            "NY",
            "NC",
            "ND",
            "OH",
            "OK",
            "OR",
            "PA",
            "RI",
            "SC",
            "SD",
            "TN",
            "TX",
            "UT",
            "VT",
            "VA",
            "WA",
            "WV",
            "WI",
            "WY"
           ],
           "name": "",
           "type": "choropleth",
           "z": [
            1,
            1,
            1,
            2,
            1,
            1,
            1,
            1,
            1,
            1,
            1,
            1,
            1,
            1,
            1,
            1,
            1,
            1,
            1,
            1,
            1,
            1,
            1,
            1,
            2,
            1,
            1,
            2,
            1,
            1,
            1,
            1,
            1,
            1,
            1,
            1,
            2,
            1,
            1,
            1,
            1,
            2,
            1,
            1,
            2,
            1,
            1,
            1,
            1,
            1,
            2
           ]
          }
         ],
         "name": "0"
        },
        {
         "data": [
          {
           "coloraxis": "coloraxis",
           "geo": "geo",
           "hovertemplate": "week=1<br>stateabbrev=%{location}<br>new_clusters=%{z}<extra></extra>",
           "locationmode": "USA-states",
           "locations": [
            "AL",
            "AK",
            "AZ",
            "AR",
            "CA",
            "CO",
            "CT",
            "DE",
            "DC",
            "FL",
            "GA",
            "HI",
            "ID",
            "IL",
            "IN",
            "IA",
            "KS",
            "KY",
            "LA",
            "ME",
            "MD",
            "MA",
            "MI",
            "MN",
            "MS",
            "MO",
            "MT",
            "NE",
            "NV",
            "NH",
            "NJ",
            "NM",
            "NY",
            "NC",
            "ND",
            "OH",
            "OK",
            "OR",
            "PA",
            "RI",
            "SC",
            "SD",
            "TN",
            "TX",
            "UT",
            "VT",
            "VA",
            "WA",
            "WV",
            "WI",
            "WY"
           ],
           "name": "",
           "type": "choropleth",
           "z": [
            1,
            1,
            1,
            2,
            1,
            1,
            1,
            1,
            1,
            1,
            1,
            1,
            2,
            1,
            1,
            1,
            1,
            1,
            1,
            1,
            1,
            1,
            1,
            1,
            1,
            1,
            1,
            2,
            1,
            1,
            1,
            1,
            1,
            1,
            2,
            1,
            1,
            1,
            1,
            1,
            1,
            3,
            1,
            1,
            2,
            1,
            1,
            1,
            1,
            1,
            2
           ]
          }
         ],
         "name": "1"
        },
        {
         "data": [
          {
           "coloraxis": "coloraxis",
           "geo": "geo",
           "hovertemplate": "week=2<br>stateabbrev=%{location}<br>new_clusters=%{z}<extra></extra>",
           "locationmode": "USA-states",
           "locations": [
            "AL",
            "AK",
            "AZ",
            "AR",
            "CA",
            "CO",
            "CT",
            "DE",
            "DC",
            "FL",
            "GA",
            "HI",
            "ID",
            "IL",
            "IN",
            "IA",
            "KS",
            "KY",
            "LA",
            "ME",
            "MD",
            "MA",
            "MI",
            "MN",
            "MS",
            "MO",
            "MT",
            "NE",
            "NV",
            "NH",
            "NJ",
            "NM",
            "NY",
            "NC",
            "ND",
            "OH",
            "OK",
            "OR",
            "PA",
            "RI",
            "SC",
            "SD",
            "TN",
            "TX",
            "UT",
            "VT",
            "VA",
            "WA",
            "WV",
            "WI",
            "WY"
           ],
           "name": "",
           "type": "choropleth",
           "z": [
            2,
            1,
            2,
            2,
            1,
            1,
            1,
            1,
            1,
            1,
            1,
            1,
            2,
            1,
            2,
            2,
            2,
            2,
            1,
            1,
            1,
            1,
            1,
            1,
            2,
            2,
            2,
            2,
            1,
            1,
            1,
            1,
            1,
            1,
            2,
            2,
            2,
            1,
            1,
            1,
            1,
            3,
            2,
            2,
            2,
            1,
            1,
            1,
            1,
            1,
            2
           ]
          }
         ],
         "name": "2"
        },
        {
         "data": [
          {
           "coloraxis": "coloraxis",
           "geo": "geo",
           "hovertemplate": "week=3<br>stateabbrev=%{location}<br>new_clusters=%{z}<extra></extra>",
           "locationmode": "USA-states",
           "locations": [
            "AL",
            "AK",
            "AZ",
            "AR",
            "CA",
            "CO",
            "CT",
            "DE",
            "DC",
            "FL",
            "GA",
            "HI",
            "ID",
            "IL",
            "IN",
            "IA",
            "KS",
            "KY",
            "LA",
            "ME",
            "MD",
            "MA",
            "MI",
            "MN",
            "MS",
            "MO",
            "MT",
            "NE",
            "NV",
            "NH",
            "NJ",
            "NM",
            "NY",
            "NC",
            "ND",
            "OH",
            "OK",
            "OR",
            "PA",
            "RI",
            "SC",
            "SD",
            "TN",
            "TX",
            "UT",
            "VT",
            "VA",
            "WA",
            "WV",
            "WI",
            "WY"
           ],
           "name": "",
           "type": "choropleth",
           "z": [
            2,
            1,
            2,
            2,
            1,
            1,
            1,
            1,
            1,
            1,
            1,
            1,
            2,
            2,
            2,
            2,
            2,
            2,
            1,
            1,
            1,
            1,
            1,
            2,
            2,
            2,
            2,
            3,
            1,
            1,
            1,
            2,
            1,
            1,
            2,
            2,
            2,
            1,
            1,
            1,
            2,
            3,
            2,
            2,
            2,
            1,
            2,
            1,
            2,
            1,
            2
           ]
          }
         ],
         "name": "3"
        },
        {
         "data": [
          {
           "coloraxis": "coloraxis",
           "geo": "geo",
           "hovertemplate": "week=4<br>stateabbrev=%{location}<br>new_clusters=%{z}<extra></extra>",
           "locationmode": "USA-states",
           "locations": [
            "AL",
            "AK",
            "AZ",
            "AR",
            "CA",
            "CO",
            "CT",
            "DE",
            "DC",
            "FL",
            "GA",
            "HI",
            "ID",
            "IL",
            "IN",
            "IA",
            "KS",
            "KY",
            "LA",
            "ME",
            "MD",
            "MA",
            "MI",
            "MN",
            "MS",
            "MO",
            "MT",
            "NE",
            "NV",
            "NH",
            "NJ",
            "NM",
            "NY",
            "NC",
            "ND",
            "OH",
            "OK",
            "OR",
            "PA",
            "RI",
            "SC",
            "SD",
            "TN",
            "TX",
            "UT",
            "VT",
            "VA",
            "WA",
            "WV",
            "WI",
            "WY"
           ],
           "name": "",
           "type": "choropleth",
           "z": [
            2,
            2,
            2,
            3,
            1,
            2,
            1,
            1,
            1,
            2,
            2,
            1,
            3,
            2,
            2,
            2,
            2,
            2,
            2,
            1,
            1,
            1,
            2,
            2,
            2,
            2,
            2,
            3,
            1,
            2,
            1,
            1,
            1,
            1,
            2,
            2,
            2,
            2,
            1,
            1,
            2,
            3,
            2,
            2,
            3,
            2,
            2,
            1,
            2,
            2,
            2
           ]
          }
         ],
         "name": "4"
        },
        {
         "data": [
          {
           "coloraxis": "coloraxis",
           "geo": "geo",
           "hovertemplate": "week=5<br>stateabbrev=%{location}<br>new_clusters=%{z}<extra></extra>",
           "locationmode": "USA-states",
           "locations": [
            "AL",
            "AK",
            "AZ",
            "AR",
            "CA",
            "CO",
            "CT",
            "DE",
            "DC",
            "FL",
            "GA",
            "HI",
            "ID",
            "IL",
            "IN",
            "IA",
            "KS",
            "KY",
            "LA",
            "ME",
            "MD",
            "MA",
            "MI",
            "MN",
            "MS",
            "MO",
            "MT",
            "NE",
            "NV",
            "NH",
            "NJ",
            "NM",
            "NY",
            "NC",
            "ND",
            "OH",
            "OK",
            "OR",
            "PA",
            "RI",
            "SC",
            "SD",
            "TN",
            "TX",
            "UT",
            "VT",
            "VA",
            "WA",
            "WV",
            "WI",
            "WY"
           ],
           "name": "",
           "type": "choropleth",
           "z": [
            3,
            2,
            2,
            3,
            2,
            2,
            2,
            2,
            1,
            2,
            2,
            1,
            3,
            2,
            2,
            2,
            3,
            2,
            2,
            2,
            1,
            1,
            2,
            2,
            3,
            3,
            3,
            3,
            1,
            2,
            1,
            2,
            1,
            2,
            3,
            2,
            3,
            2,
            2,
            1,
            2,
            3,
            3,
            3,
            3,
            2,
            2,
            1,
            2,
            2,
            2
           ]
          }
         ],
         "name": "5"
        },
        {
         "data": [
          {
           "coloraxis": "coloraxis",
           "geo": "geo",
           "hovertemplate": "week=6<br>stateabbrev=%{location}<br>new_clusters=%{z}<extra></extra>",
           "locationmode": "USA-states",
           "locations": [
            "AL",
            "AK",
            "AZ",
            "AR",
            "CA",
            "CO",
            "CT",
            "DE",
            "DC",
            "FL",
            "GA",
            "HI",
            "ID",
            "IL",
            "IN",
            "IA",
            "KS",
            "KY",
            "LA",
            "ME",
            "MD",
            "MA",
            "MI",
            "MN",
            "MS",
            "MO",
            "MT",
            "NE",
            "NV",
            "NH",
            "NJ",
            "NM",
            "NY",
            "NC",
            "ND",
            "OH",
            "OK",
            "OR",
            "PA",
            "RI",
            "SC",
            "SD",
            "TN",
            "TX",
            "UT",
            "VT",
            "VA",
            "WA",
            "WV",
            "WI",
            "WY"
           ],
           "name": "",
           "type": "choropleth",
           "z": [
            3,
            2,
            3,
            3,
            2,
            2,
            2,
            2,
            1,
            2,
            2,
            1,
            3,
            2,
            3,
            2,
            3,
            2,
            2,
            2,
            2,
            1,
            2,
            2,
            3,
            3,
            3,
            3,
            2,
            4,
            1,
            2,
            1,
            2,
            3,
            2,
            3,
            2,
            2,
            1,
            3,
            3,
            3,
            3,
            3,
            2,
            2,
            1,
            3,
            2,
            3
           ]
          }
         ],
         "name": "6"
        },
        {
         "data": [
          {
           "coloraxis": "coloraxis",
           "geo": "geo",
           "hovertemplate": "week=7<br>stateabbrev=%{location}<br>new_clusters=%{z}<extra></extra>",
           "locationmode": "USA-states",
           "locations": [
            "AL",
            "AK",
            "AZ",
            "AR",
            "CA",
            "CO",
            "CT",
            "DE",
            "DC",
            "FL",
            "GA",
            "HI",
            "ID",
            "IL",
            "IN",
            "IA",
            "KS",
            "KY",
            "LA",
            "ME",
            "MD",
            "MA",
            "MI",
            "MN",
            "MS",
            "MO",
            "MT",
            "NE",
            "NV",
            "NH",
            "NJ",
            "NM",
            "NY",
            "NC",
            "ND",
            "OH",
            "OK",
            "OR",
            "PA",
            "RI",
            "SC",
            "SD",
            "TN",
            "TX",
            "UT",
            "VT",
            "VA",
            "WA",
            "WV",
            "WI",
            "WY"
           ],
           "name": "",
           "type": "choropleth",
           "z": [
            3,
            4,
            3,
            3,
            2,
            3,
            2,
            2,
            1,
            3,
            3,
            2,
            3,
            2,
            3,
            3,
            3,
            3,
            3,
            1,
            2,
            1,
            2,
            3,
            3,
            3,
            3,
            3,
            2,
            4,
            2,
            2,
            1,
            3,
            3,
            3,
            3,
            2,
            2,
            2,
            3,
            3,
            3,
            3,
            3,
            2,
            2,
            2,
            3,
            3,
            3
           ]
          }
         ],
         "name": "7"
        },
        {
         "data": [
          {
           "coloraxis": "coloraxis",
           "geo": "geo",
           "hovertemplate": "week=8<br>stateabbrev=%{location}<br>new_clusters=%{z}<extra></extra>",
           "locationmode": "USA-states",
           "locations": [
            "AL",
            "AK",
            "AZ",
            "AR",
            "CA",
            "CO",
            "CT",
            "DE",
            "DC",
            "FL",
            "GA",
            "HI",
            "ID",
            "IL",
            "IN",
            "IA",
            "KS",
            "KY",
            "LA",
            "ME",
            "MD",
            "MA",
            "MI",
            "MN",
            "MS",
            "MO",
            "MT",
            "NE",
            "NV",
            "NH",
            "NJ",
            "NM",
            "NY",
            "NC",
            "ND",
            "OH",
            "OK",
            "OR",
            "PA",
            "RI",
            "SC",
            "SD",
            "TN",
            "TX",
            "UT",
            "VT",
            "VA",
            "WA",
            "WV",
            "WI",
            "WY"
           ],
           "name": "",
           "type": "choropleth",
           "z": [
            3,
            2,
            3,
            3,
            2,
            3,
            2,
            2,
            1,
            3,
            3,
            2,
            3,
            2,
            3,
            3,
            3,
            3,
            4,
            2,
            2,
            2,
            2,
            3,
            3,
            3,
            3,
            3,
            2,
            4,
            2,
            2,
            2,
            3,
            3,
            3,
            3,
            3,
            2,
            2,
            3,
            3,
            3,
            3,
            3,
            2,
            3,
            2,
            3,
            3,
            3
           ]
          }
         ],
         "name": "8"
        },
        {
         "data": [
          {
           "coloraxis": "coloraxis",
           "geo": "geo",
           "hovertemplate": "week=9<br>stateabbrev=%{location}<br>new_clusters=%{z}<extra></extra>",
           "locationmode": "USA-states",
           "locations": [
            "AL",
            "AK",
            "AZ",
            "AR",
            "CA",
            "CO",
            "CT",
            "DE",
            "DC",
            "FL",
            "GA",
            "HI",
            "ID",
            "IL",
            "IN",
            "IA",
            "KS",
            "KY",
            "LA",
            "ME",
            "MD",
            "MA",
            "MI",
            "MN",
            "MS",
            "MO",
            "MT",
            "NE",
            "NV",
            "NH",
            "NJ",
            "NM",
            "NY",
            "NC",
            "ND",
            "OH",
            "OK",
            "OR",
            "PA",
            "RI",
            "SC",
            "SD",
            "TN",
            "TX",
            "UT",
            "VT",
            "VA",
            "WA",
            "WV",
            "WI",
            "WY"
           ],
           "name": "",
           "type": "choropleth",
           "z": [
            3,
            4,
            4,
            3,
            2,
            3,
            4,
            2,
            1,
            4,
            3,
            2,
            3,
            4,
            4,
            3,
            4,
            4,
            4,
            4,
            2,
            2,
            4,
            3,
            3,
            4,
            3,
            4,
            2,
            4,
            2,
            4,
            2,
            3,
            3,
            3,
            4,
            4,
            2,
            2,
            3,
            3,
            3,
            3,
            3,
            2,
            4,
            2,
            3,
            4,
            3
           ]
          }
         ],
         "name": "9"
        },
        {
         "data": [
          {
           "coloraxis": "coloraxis",
           "geo": "geo",
           "hovertemplate": "week=10<br>stateabbrev=%{location}<br>new_clusters=%{z}<extra></extra>",
           "locationmode": "USA-states",
           "locations": [
            "AL",
            "AK",
            "AZ",
            "AR",
            "CA",
            "CO",
            "CT",
            "DE",
            "DC",
            "FL",
            "GA",
            "HI",
            "ID",
            "IL",
            "IN",
            "IA",
            "KS",
            "KY",
            "LA",
            "ME",
            "MD",
            "MA",
            "MI",
            "MN",
            "MS",
            "MO",
            "MT",
            "NE",
            "NV",
            "NH",
            "NJ",
            "NM",
            "NY",
            "NC",
            "ND",
            "OH",
            "OK",
            "OR",
            "PA",
            "RI",
            "SC",
            "SD",
            "TN",
            "TX",
            "UT",
            "VT",
            "VA",
            "WA",
            "WV",
            "WI",
            "WY"
           ],
           "name": "",
           "type": "choropleth",
           "z": [
            3,
            4,
            2,
            3,
            2,
            3,
            4,
            2,
            1,
            3,
            3,
            2,
            3,
            4,
            4,
            3,
            4,
            4,
            4,
            4,
            2,
            2,
            4,
            3,
            3,
            4,
            4,
            3,
            2,
            4,
            2,
            3,
            2,
            3,
            3,
            3,
            4,
            4,
            2,
            4,
            3,
            3,
            3,
            4,
            3,
            4,
            3,
            2,
            3,
            4,
            3
           ]
          }
         ],
         "name": "10"
        },
        {
         "data": [
          {
           "coloraxis": "coloraxis",
           "geo": "geo",
           "hovertemplate": "week=11<br>stateabbrev=%{location}<br>new_clusters=%{z}<extra></extra>",
           "locationmode": "USA-states",
           "locations": [
            "AL",
            "AK",
            "AZ",
            "AR",
            "CA",
            "CO",
            "CT",
            "DE",
            "DC",
            "FL",
            "GA",
            "HI",
            "ID",
            "IL",
            "IN",
            "IA",
            "KS",
            "KY",
            "LA",
            "ME",
            "MD",
            "MA",
            "MI",
            "MN",
            "MS",
            "MO",
            "MT",
            "NE",
            "NV",
            "NH",
            "NJ",
            "NM",
            "NY",
            "NC",
            "ND",
            "OH",
            "OK",
            "OR",
            "PA",
            "RI",
            "SC",
            "SD",
            "TN",
            "TX",
            "UT",
            "VT",
            "VA",
            "WA",
            "WV",
            "WI",
            "WY"
           ],
           "name": "",
           "type": "choropleth",
           "z": [
            3,
            4,
            2,
            3,
            2,
            3,
            4,
            3,
            1,
            3,
            3,
            2,
            3,
            4,
            4,
            3,
            4,
            4,
            4,
            4,
            4,
            4,
            4,
            3,
            3,
            3,
            4,
            4,
            4,
            4,
            4,
            3,
            2,
            3,
            3,
            3,
            4,
            4,
            4,
            4,
            3,
            3,
            3,
            3,
            3,
            2,
            3,
            3,
            3,
            4,
            3
           ]
          }
         ],
         "name": "11"
        },
        {
         "data": [
          {
           "coloraxis": "coloraxis",
           "geo": "geo",
           "hovertemplate": "week=12<br>stateabbrev=%{location}<br>new_clusters=%{z}<extra></extra>",
           "locationmode": "USA-states",
           "locations": [
            "AL",
            "AK",
            "AZ",
            "AR",
            "CA",
            "CO",
            "CT",
            "DE",
            "DC",
            "FL",
            "GA",
            "HI",
            "ID",
            "IL",
            "IN",
            "IA",
            "KS",
            "KY",
            "LA",
            "ME",
            "MD",
            "MA",
            "MI",
            "MN",
            "MS",
            "MO",
            "MT",
            "NE",
            "NV",
            "NH",
            "NJ",
            "NM",
            "NY",
            "NC",
            "ND",
            "OH",
            "OK",
            "OR",
            "PA",
            "RI",
            "SC",
            "SD",
            "TN",
            "TX",
            "UT",
            "VT",
            "VA",
            "WA",
            "WV",
            "WI",
            "WY"
           ],
           "name": "",
           "type": "choropleth",
           "z": [
            4,
            4,
            4,
            3,
            4,
            4,
            4,
            3,
            1,
            4,
            4,
            2,
            3,
            4,
            4,
            4,
            4,
            4,
            4,
            4,
            4,
            4,
            4,
            4,
            3,
            4,
            3,
            4,
            2,
            4,
            4,
            4,
            2,
            4,
            3,
            3,
            4,
            4,
            4,
            4,
            3,
            3,
            4,
            4,
            3,
            4,
            4,
            4,
            3,
            4,
            3
           ]
          }
         ],
         "name": "12"
        },
        {
         "data": [
          {
           "coloraxis": "coloraxis",
           "geo": "geo",
           "hovertemplate": "week=13<br>stateabbrev=%{location}<br>new_clusters=%{z}<extra></extra>",
           "locationmode": "USA-states",
           "locations": [
            "AL",
            "AK",
            "AZ",
            "AR",
            "CA",
            "CO",
            "CT",
            "DE",
            "DC",
            "FL",
            "GA",
            "HI",
            "ID",
            "IL",
            "IN",
            "IA",
            "KS",
            "KY",
            "LA",
            "ME",
            "MD",
            "MA",
            "MI",
            "MN",
            "MS",
            "MO",
            "MT",
            "NE",
            "NV",
            "NH",
            "NJ",
            "NM",
            "NY",
            "NC",
            "ND",
            "OH",
            "OK",
            "OR",
            "PA",
            "RI",
            "SC",
            "SD",
            "TN",
            "TX",
            "UT",
            "VT",
            "VA",
            "WA",
            "WV",
            "WI",
            "WY"
           ],
           "name": "",
           "type": "choropleth",
           "z": [
            3,
            4,
            3,
            3,
            3,
            3,
            3,
            3,
            1,
            3,
            3,
            2,
            3,
            3,
            4,
            3,
            3,
            3,
            4,
            4,
            4,
            4,
            3,
            3,
            3,
            3,
            4,
            3,
            2,
            4,
            4,
            3,
            2,
            3,
            3,
            3,
            3,
            3,
            3,
            4,
            3,
            3,
            3,
            3,
            3,
            4,
            3,
            3,
            3,
            3,
            4
           ]
          }
         ],
         "name": "13"
        },
        {
         "data": [
          {
           "coloraxis": "coloraxis",
           "geo": "geo",
           "hovertemplate": "week=14<br>stateabbrev=%{location}<br>new_clusters=%{z}<extra></extra>",
           "locationmode": "USA-states",
           "locations": [
            "AL",
            "AK",
            "AZ",
            "AR",
            "CA",
            "CO",
            "CT",
            "DE",
            "DC",
            "FL",
            "GA",
            "HI",
            "ID",
            "IL",
            "IN",
            "IA",
            "KS",
            "KY",
            "LA",
            "ME",
            "MD",
            "MA",
            "MI",
            "MN",
            "MS",
            "MO",
            "MT",
            "NE",
            "NV",
            "NH",
            "NJ",
            "NM",
            "NY",
            "NC",
            "ND",
            "OH",
            "OK",
            "OR",
            "PA",
            "RI",
            "SC",
            "SD",
            "TN",
            "TX",
            "UT",
            "VT",
            "VA",
            "WA",
            "WV",
            "WI",
            "WY"
           ],
           "name": "",
           "type": "choropleth",
           "z": [
            3,
            2,
            3,
            3,
            2,
            3,
            4,
            3,
            1,
            3,
            4,
            2,
            3,
            3,
            4,
            3,
            3,
            3,
            3,
            4,
            3,
            4,
            3,
            3,
            3,
            3,
            3,
            3,
            2,
            4,
            3,
            3,
            2,
            3,
            3,
            3,
            3,
            3,
            3,
            2,
            3,
            3,
            3,
            3,
            3,
            4,
            3,
            3,
            3,
            3,
            3
           ]
          }
         ],
         "name": "14"
        },
        {
         "data": [
          {
           "coloraxis": "coloraxis",
           "geo": "geo",
           "hovertemplate": "week=15<br>stateabbrev=%{location}<br>new_clusters=%{z}<extra></extra>",
           "locationmode": "USA-states",
           "locations": [
            "AL",
            "AK",
            "AZ",
            "AR",
            "CA",
            "CO",
            "CT",
            "DE",
            "DC",
            "FL",
            "GA",
            "HI",
            "ID",
            "IL",
            "IN",
            "IA",
            "KS",
            "KY",
            "LA",
            "ME",
            "MD",
            "MA",
            "MI",
            "MN",
            "MS",
            "MO",
            "MT",
            "NE",
            "NV",
            "NH",
            "NJ",
            "NM",
            "NY",
            "NC",
            "ND",
            "OH",
            "OK",
            "OR",
            "PA",
            "RI",
            "SC",
            "SD",
            "TN",
            "TX",
            "UT",
            "VT",
            "VA",
            "WA",
            "WV",
            "WI",
            "WY"
           ],
           "name": "",
           "type": "choropleth",
           "z": [
            3,
            4,
            3,
            3,
            2,
            3,
            4,
            3,
            1,
            4,
            4,
            2,
            3,
            4,
            4,
            3,
            4,
            4,
            3,
            4,
            3,
            4,
            4,
            3,
            3,
            4,
            3,
            3,
            4,
            2,
            3,
            3,
            2,
            3,
            3,
            3,
            4,
            3,
            3,
            2,
            3,
            3,
            3,
            4,
            3,
            4,
            3,
            3,
            3,
            4,
            3
           ]
          }
         ],
         "name": "15"
        },
        {
         "data": [
          {
           "coloraxis": "coloraxis",
           "geo": "geo",
           "hovertemplate": "week=16<br>stateabbrev=%{location}<br>new_clusters=%{z}<extra></extra>",
           "locationmode": "USA-states",
           "locations": [
            "AL",
            "AK",
            "AZ",
            "AR",
            "CA",
            "CO",
            "CT",
            "DE",
            "DC",
            "FL",
            "GA",
            "HI",
            "ID",
            "IL",
            "IN",
            "IA",
            "KS",
            "KY",
            "LA",
            "ME",
            "MD",
            "MA",
            "MI",
            "MN",
            "MS",
            "MO",
            "MT",
            "NE",
            "NV",
            "NH",
            "NJ",
            "NM",
            "NY",
            "NC",
            "ND",
            "OH",
            "OK",
            "OR",
            "PA",
            "RI",
            "SC",
            "SD",
            "TN",
            "TX",
            "UT",
            "VT",
            "VA",
            "WA",
            "WV",
            "WI",
            "WY"
           ],
           "name": "",
           "type": "choropleth",
           "z": [
            4,
            4,
            3,
            3,
            2,
            3,
            4,
            3,
            1,
            3,
            3,
            2,
            4,
            3,
            4,
            3,
            3,
            4,
            4,
            4,
            3,
            4,
            4,
            4,
            4,
            4,
            4,
            3,
            2,
            4,
            4,
            3,
            4,
            3,
            3,
            3,
            4,
            3,
            3,
            4,
            3,
            3,
            3,
            3,
            3,
            4,
            3,
            3,
            4,
            3,
            3
           ]
          }
         ],
         "name": "16"
        },
        {
         "data": [
          {
           "coloraxis": "coloraxis",
           "geo": "geo",
           "hovertemplate": "week=17<br>stateabbrev=%{location}<br>new_clusters=%{z}<extra></extra>",
           "locationmode": "USA-states",
           "locations": [
            "AL",
            "AK",
            "AZ",
            "AR",
            "CA",
            "CO",
            "CT",
            "DE",
            "DC",
            "FL",
            "GA",
            "HI",
            "ID",
            "IL",
            "IN",
            "IA",
            "KS",
            "KY",
            "LA",
            "ME",
            "MD",
            "MA",
            "MI",
            "MN",
            "MS",
            "MO",
            "MT",
            "NE",
            "NV",
            "NH",
            "NJ",
            "NM",
            "NY",
            "NC",
            "ND",
            "OH",
            "OK",
            "OR",
            "PA",
            "RI",
            "SC",
            "SD",
            "TN",
            "TX",
            "UT",
            "VT",
            "VA",
            "WA",
            "WV",
            "WI",
            "WY"
           ],
           "name": "",
           "type": "choropleth",
           "z": [
            3,
            4,
            3,
            3,
            2,
            3,
            4,
            3,
            1,
            4,
            4,
            2,
            4,
            3,
            4,
            3,
            4,
            3,
            4,
            4,
            4,
            4,
            4,
            3,
            4,
            4,
            4,
            3,
            2,
            4,
            4,
            3,
            4,
            3,
            3,
            3,
            4,
            3,
            3,
            4,
            4,
            3,
            3,
            4,
            3,
            3,
            3,
            3,
            3,
            3,
            3
           ]
          }
         ],
         "name": "17"
        },
        {
         "data": [
          {
           "coloraxis": "coloraxis",
           "geo": "geo",
           "hovertemplate": "week=18<br>stateabbrev=%{location}<br>new_clusters=%{z}<extra></extra>",
           "locationmode": "USA-states",
           "locations": [
            "AL",
            "AK",
            "AZ",
            "AR",
            "CA",
            "CO",
            "CT",
            "DE",
            "DC",
            "FL",
            "GA",
            "HI",
            "ID",
            "IL",
            "IN",
            "IA",
            "KS",
            "KY",
            "LA",
            "ME",
            "MD",
            "MA",
            "MI",
            "MN",
            "MS",
            "MO",
            "MT",
            "NE",
            "NV",
            "NH",
            "NJ",
            "NM",
            "NY",
            "NC",
            "ND",
            "OH",
            "OK",
            "OR",
            "PA",
            "RI",
            "SC",
            "SD",
            "TN",
            "TX",
            "UT",
            "VT",
            "VA",
            "WA",
            "WV",
            "WI",
            "WY"
           ],
           "name": "",
           "type": "choropleth",
           "z": [
            4,
            4,
            4,
            3,
            4,
            4,
            4,
            4,
            1,
            4,
            4,
            2,
            4,
            4,
            4,
            4,
            4,
            4,
            4,
            4,
            4,
            4,
            4,
            3,
            3,
            4,
            4,
            3,
            2,
            4,
            4,
            3,
            4,
            4,
            3,
            4,
            4,
            4,
            4,
            4,
            3,
            4,
            4,
            4,
            4,
            3,
            4,
            4,
            3,
            4,
            4
           ]
          }
         ],
         "name": "18"
        },
        {
         "data": [
          {
           "coloraxis": "coloraxis",
           "geo": "geo",
           "hovertemplate": "week=19<br>stateabbrev=%{location}<br>new_clusters=%{z}<extra></extra>",
           "locationmode": "USA-states",
           "locations": [
            "AL",
            "AK",
            "AZ",
            "AR",
            "CA",
            "CO",
            "CT",
            "DE",
            "DC",
            "FL",
            "GA",
            "HI",
            "ID",
            "IL",
            "IN",
            "IA",
            "KS",
            "KY",
            "LA",
            "ME",
            "MD",
            "MA",
            "MI",
            "MN",
            "MS",
            "MO",
            "MT",
            "NE",
            "NV",
            "NH",
            "NJ",
            "NM",
            "NY",
            "NC",
            "ND",
            "OH",
            "OK",
            "OR",
            "PA",
            "RI",
            "SC",
            "SD",
            "TN",
            "TX",
            "UT",
            "VT",
            "VA",
            "WA",
            "WV",
            "WI",
            "WY"
           ],
           "name": "",
           "type": "choropleth",
           "z": [
            3,
            4,
            3,
            3,
            2,
            3,
            4,
            3,
            1,
            4,
            4,
            2,
            4,
            4,
            4,
            4,
            3,
            4,
            4,
            4,
            3,
            4,
            4,
            3,
            3,
            3,
            3,
            3,
            2,
            4,
            3,
            3,
            2,
            3,
            3,
            3,
            4,
            3,
            3,
            2,
            3,
            3,
            3,
            2,
            3,
            4,
            3,
            4,
            3,
            4,
            3
           ]
          }
         ],
         "name": "19"
        },
        {
         "data": [
          {
           "coloraxis": "coloraxis",
           "geo": "geo",
           "hovertemplate": "week=20<br>stateabbrev=%{location}<br>new_clusters=%{z}<extra></extra>",
           "locationmode": "USA-states",
           "locations": [
            "AL",
            "AK",
            "AZ",
            "AR",
            "CA",
            "CO",
            "CT",
            "DE",
            "DC",
            "FL",
            "GA",
            "HI",
            "ID",
            "IL",
            "IN",
            "IA",
            "KS",
            "KY",
            "LA",
            "ME",
            "MD",
            "MA",
            "MI",
            "MN",
            "MS",
            "MO",
            "MT",
            "NE",
            "NV",
            "NH",
            "NJ",
            "NM",
            "NY",
            "NC",
            "ND",
            "OH",
            "OK",
            "OR",
            "PA",
            "RI",
            "SC",
            "SD",
            "TN",
            "TX",
            "UT",
            "VT",
            "VA",
            "WA",
            "WV",
            "WI",
            "WY"
           ],
           "name": "",
           "type": "choropleth",
           "z": [
            4,
            4,
            4,
            4,
            2,
            4,
            4,
            4,
            1,
            4,
            4,
            2,
            4,
            4,
            4,
            4,
            4,
            4,
            4,
            4,
            4,
            4,
            4,
            3,
            4,
            4,
            3,
            3,
            3,
            4,
            4,
            3,
            4,
            3,
            3,
            4,
            4,
            3,
            4,
            4,
            3,
            3,
            3,
            4,
            3,
            4,
            4,
            3,
            4,
            4,
            4
           ]
          }
         ],
         "name": "20"
        },
        {
         "data": [
          {
           "coloraxis": "coloraxis",
           "geo": "geo",
           "hovertemplate": "week=21<br>stateabbrev=%{location}<br>new_clusters=%{z}<extra></extra>",
           "locationmode": "USA-states",
           "locations": [
            "AL",
            "AK",
            "AZ",
            "AR",
            "CA",
            "CO",
            "CT",
            "DE",
            "DC",
            "FL",
            "GA",
            "HI",
            "ID",
            "IL",
            "IN",
            "IA",
            "KS",
            "KY",
            "LA",
            "ME",
            "MD",
            "MA",
            "MI",
            "MN",
            "MS",
            "MO",
            "MT",
            "NE",
            "NV",
            "NH",
            "NJ",
            "NM",
            "NY",
            "NC",
            "ND",
            "OH",
            "OK",
            "OR",
            "PA",
            "RI",
            "SC",
            "SD",
            "TN",
            "TX",
            "UT",
            "VT",
            "VA",
            "WA",
            "WV",
            "WI",
            "WY"
           ],
           "name": "",
           "type": "choropleth",
           "z": [
            4,
            4,
            4,
            4,
            2,
            4,
            4,
            4,
            1,
            4,
            4,
            2,
            4,
            4,
            4,
            4,
            4,
            4,
            4,
            4,
            4,
            4,
            4,
            4,
            4,
            4,
            3,
            3,
            3,
            4,
            4,
            4,
            4,
            3,
            3,
            3,
            4,
            3,
            4,
            2,
            3,
            3,
            3,
            4,
            3,
            4,
            4,
            3,
            4,
            4,
            4
           ]
          }
         ],
         "name": "21"
        },
        {
         "data": [
          {
           "coloraxis": "coloraxis",
           "geo": "geo",
           "hovertemplate": "week=22<br>stateabbrev=%{location}<br>new_clusters=%{z}<extra></extra>",
           "locationmode": "USA-states",
           "locations": [
            "AL",
            "AK",
            "AZ",
            "AR",
            "CA",
            "CO",
            "CT",
            "DE",
            "DC",
            "FL",
            "GA",
            "HI",
            "ID",
            "IL",
            "IN",
            "IA",
            "KS",
            "KY",
            "LA",
            "ME",
            "MD",
            "MA",
            "MI",
            "MN",
            "MS",
            "MO",
            "MT",
            "NE",
            "NV",
            "NH",
            "NJ",
            "NM",
            "NY",
            "NC",
            "ND",
            "OH",
            "OK",
            "OR",
            "PA",
            "RI",
            "SC",
            "SD",
            "TN",
            "TX",
            "UT",
            "VT",
            "VA",
            "WA",
            "WV",
            "WI",
            "WY"
           ],
           "name": "",
           "type": "choropleth",
           "z": [
            4,
            4,
            4,
            4,
            2,
            4,
            4,
            4,
            1,
            3,
            4,
            2,
            4,
            4,
            4,
            4,
            4,
            4,
            2,
            4,
            4,
            4,
            4,
            3,
            4,
            4,
            4,
            3,
            3,
            4,
            4,
            4,
            4,
            3,
            3,
            3,
            4,
            4,
            4,
            2,
            3,
            4,
            3,
            4,
            3,
            4,
            3,
            3,
            4,
            4,
            4
           ]
          }
         ],
         "name": "22"
        },
        {
         "data": [
          {
           "coloraxis": "coloraxis",
           "geo": "geo",
           "hovertemplate": "week=23<br>stateabbrev=%{location}<br>new_clusters=%{z}<extra></extra>",
           "locationmode": "USA-states",
           "locations": [
            "AL",
            "AK",
            "AZ",
            "AR",
            "CA",
            "CO",
            "CT",
            "DE",
            "DC",
            "FL",
            "GA",
            "HI",
            "ID",
            "IL",
            "IN",
            "IA",
            "KS",
            "KY",
            "LA",
            "ME",
            "MD",
            "MA",
            "MI",
            "MN",
            "MS",
            "MO",
            "MT",
            "NE",
            "NV",
            "NH",
            "NJ",
            "NM",
            "NY",
            "NC",
            "ND",
            "OH",
            "OK",
            "OR",
            "PA",
            "RI",
            "SC",
            "SD",
            "TN",
            "TX",
            "UT",
            "VT",
            "VA",
            "WA",
            "WV",
            "WI",
            "WY"
           ],
           "name": "",
           "type": "choropleth",
           "z": [
            4,
            4,
            2,
            3,
            2,
            4,
            4,
            3,
            1,
            3,
            4,
            1,
            3,
            4,
            4,
            3,
            4,
            4,
            2,
            4,
            3,
            4,
            4,
            3,
            4,
            3,
            3,
            3,
            3,
            4,
            4,
            3,
            3,
            3,
            3,
            4,
            4,
            3,
            3,
            4,
            3,
            4,
            3,
            4,
            3,
            4,
            3,
            3,
            4,
            4,
            4
           ]
          }
         ],
         "name": "23"
        },
        {
         "data": [
          {
           "coloraxis": "coloraxis",
           "geo": "geo",
           "hovertemplate": "week=24<br>stateabbrev=%{location}<br>new_clusters=%{z}<extra></extra>",
           "locationmode": "USA-states",
           "locations": [
            "AL",
            "AK",
            "AZ",
            "AR",
            "CA",
            "CO",
            "CT",
            "DE",
            "DC",
            "FL",
            "GA",
            "HI",
            "ID",
            "IL",
            "IN",
            "IA",
            "KS",
            "KY",
            "LA",
            "ME",
            "MD",
            "MA",
            "MI",
            "MN",
            "MS",
            "MO",
            "MT",
            "NE",
            "NV",
            "NH",
            "NJ",
            "NM",
            "NY",
            "NC",
            "ND",
            "OH",
            "OK",
            "OR",
            "PA",
            "RI",
            "SC",
            "SD",
            "TN",
            "TX",
            "UT",
            "VT",
            "VA",
            "WA",
            "WV",
            "WI",
            "WY"
           ],
           "name": "",
           "type": "choropleth",
           "z": [
            4,
            4,
            2,
            4,
            4,
            4,
            4,
            4,
            1,
            4,
            4,
            1,
            4,
            4,
            4,
            4,
            4,
            4,
            4,
            4,
            4,
            4,
            4,
            4,
            4,
            4,
            4,
            4,
            4,
            4,
            4,
            4,
            4,
            3,
            3,
            4,
            4,
            4,
            3,
            4,
            3,
            4,
            4,
            4,
            3,
            4,
            4,
            4,
            4,
            4,
            4
           ]
          }
         ],
         "name": "24"
        },
        {
         "data": [
          {
           "coloraxis": "coloraxis",
           "geo": "geo",
           "hovertemplate": "week=25<br>stateabbrev=%{location}<br>new_clusters=%{z}<extra></extra>",
           "locationmode": "USA-states",
           "locations": [
            "AL",
            "AK",
            "AZ",
            "AR",
            "CA",
            "CO",
            "CT",
            "DE",
            "DC",
            "FL",
            "GA",
            "HI",
            "ID",
            "IL",
            "IN",
            "IA",
            "KS",
            "KY",
            "LA",
            "ME",
            "MD",
            "MA",
            "MI",
            "MN",
            "MS",
            "MO",
            "MT",
            "NE",
            "NV",
            "NH",
            "NJ",
            "NM",
            "NY",
            "NC",
            "ND",
            "OH",
            "OK",
            "OR",
            "PA",
            "RI",
            "SC",
            "SD",
            "TN",
            "TX",
            "UT",
            "VT",
            "VA",
            "WA",
            "WV",
            "WI",
            "WY"
           ],
           "name": "",
           "type": "choropleth",
           "z": [
            4,
            4,
            4,
            4,
            3,
            3,
            4,
            4,
            1,
            4,
            4,
            2,
            4,
            4,
            4,
            4,
            4,
            4,
            2,
            4,
            3,
            4,
            4,
            3,
            4,
            3,
            3,
            3,
            3,
            4,
            4,
            3,
            3,
            3,
            3,
            3,
            4,
            3,
            4,
            4,
            3,
            3,
            3,
            4,
            4,
            4,
            4,
            4,
            3,
            4,
            4
           ]
          }
         ],
         "name": "25"
        }
       ],
       "layout": {
        "coloraxis": {
         "cmax": 4,
         "cmin": 1,
         "colorbar": {
          "len": 200,
          "lenmode": "pixels",
          "ticktext": [
           "1- Severely unstable",
           "2- Moderately unstable",
           "3- Stabilizing/low small business growth",
           "4- Stabilizing/low job posting"
          ],
          "tickvals": [
           1,
           2,
           3,
           4
          ],
          "title": {
           "text": "Cluster Number"
          }
         },
         "colorscale": [
          [
           0,
           "rgb(158,1,66)"
          ],
          [
           0.1,
           "rgb(213,62,79)"
          ],
          [
           0.2,
           "rgb(244,109,67)"
          ],
          [
           0.3,
           "rgb(253,174,97)"
          ],
          [
           0.4,
           "rgb(254,224,139)"
          ],
          [
           0.5,
           "rgb(255,255,191)"
          ],
          [
           0.6,
           "rgb(230,245,152)"
          ],
          [
           0.7,
           "rgb(171,221,164)"
          ],
          [
           0.8,
           "rgb(102,194,165)"
          ],
          [
           0.9,
           "rgb(50,136,189)"
          ],
          [
           1,
           "rgb(94,79,162)"
          ]
         ]
        },
        "geo": {
         "center": {},
         "domain": {
          "x": [
           0,
           1
          ],
          "y": [
           0,
           1
          ]
         },
         "scope": "usa"
        },
        "height": 600,
        "legend": {
         "tracegroupgap": 0
        },
        "sliders": [
         {
          "active": 0,
          "currentvalue": {
           "prefix": "week="
          },
          "len": 0.9,
          "pad": {
           "b": 10,
           "t": 60
          },
          "steps": [
           {
            "args": [
             [
              "0"
             ],
             {
              "frame": {
               "duration": 0,
               "redraw": true
              },
              "fromcurrent": true,
              "mode": "immediate",
              "transition": {
               "duration": 0,
               "easing": "linear"
              }
             }
            ],
            "label": "0",
            "method": "animate"
           },
           {
            "args": [
             [
              "1"
             ],
             {
              "frame": {
               "duration": 0,
               "redraw": true
              },
              "fromcurrent": true,
              "mode": "immediate",
              "transition": {
               "duration": 0,
               "easing": "linear"
              }
             }
            ],
            "label": "1",
            "method": "animate"
           },
           {
            "args": [
             [
              "2"
             ],
             {
              "frame": {
               "duration": 0,
               "redraw": true
              },
              "fromcurrent": true,
              "mode": "immediate",
              "transition": {
               "duration": 0,
               "easing": "linear"
              }
             }
            ],
            "label": "2",
            "method": "animate"
           },
           {
            "args": [
             [
              "3"
             ],
             {
              "frame": {
               "duration": 0,
               "redraw": true
              },
              "fromcurrent": true,
              "mode": "immediate",
              "transition": {
               "duration": 0,
               "easing": "linear"
              }
             }
            ],
            "label": "3",
            "method": "animate"
           },
           {
            "args": [
             [
              "4"
             ],
             {
              "frame": {
               "duration": 0,
               "redraw": true
              },
              "fromcurrent": true,
              "mode": "immediate",
              "transition": {
               "duration": 0,
               "easing": "linear"
              }
             }
            ],
            "label": "4",
            "method": "animate"
           },
           {
            "args": [
             [
              "5"
             ],
             {
              "frame": {
               "duration": 0,
               "redraw": true
              },
              "fromcurrent": true,
              "mode": "immediate",
              "transition": {
               "duration": 0,
               "easing": "linear"
              }
             }
            ],
            "label": "5",
            "method": "animate"
           },
           {
            "args": [
             [
              "6"
             ],
             {
              "frame": {
               "duration": 0,
               "redraw": true
              },
              "fromcurrent": true,
              "mode": "immediate",
              "transition": {
               "duration": 0,
               "easing": "linear"
              }
             }
            ],
            "label": "6",
            "method": "animate"
           },
           {
            "args": [
             [
              "7"
             ],
             {
              "frame": {
               "duration": 0,
               "redraw": true
              },
              "fromcurrent": true,
              "mode": "immediate",
              "transition": {
               "duration": 0,
               "easing": "linear"
              }
             }
            ],
            "label": "7",
            "method": "animate"
           },
           {
            "args": [
             [
              "8"
             ],
             {
              "frame": {
               "duration": 0,
               "redraw": true
              },
              "fromcurrent": true,
              "mode": "immediate",
              "transition": {
               "duration": 0,
               "easing": "linear"
              }
             }
            ],
            "label": "8",
            "method": "animate"
           },
           {
            "args": [
             [
              "9"
             ],
             {
              "frame": {
               "duration": 0,
               "redraw": true
              },
              "fromcurrent": true,
              "mode": "immediate",
              "transition": {
               "duration": 0,
               "easing": "linear"
              }
             }
            ],
            "label": "9",
            "method": "animate"
           },
           {
            "args": [
             [
              "10"
             ],
             {
              "frame": {
               "duration": 0,
               "redraw": true
              },
              "fromcurrent": true,
              "mode": "immediate",
              "transition": {
               "duration": 0,
               "easing": "linear"
              }
             }
            ],
            "label": "10",
            "method": "animate"
           },
           {
            "args": [
             [
              "11"
             ],
             {
              "frame": {
               "duration": 0,
               "redraw": true
              },
              "fromcurrent": true,
              "mode": "immediate",
              "transition": {
               "duration": 0,
               "easing": "linear"
              }
             }
            ],
            "label": "11",
            "method": "animate"
           },
           {
            "args": [
             [
              "12"
             ],
             {
              "frame": {
               "duration": 0,
               "redraw": true
              },
              "fromcurrent": true,
              "mode": "immediate",
              "transition": {
               "duration": 0,
               "easing": "linear"
              }
             }
            ],
            "label": "12",
            "method": "animate"
           },
           {
            "args": [
             [
              "13"
             ],
             {
              "frame": {
               "duration": 0,
               "redraw": true
              },
              "fromcurrent": true,
              "mode": "immediate",
              "transition": {
               "duration": 0,
               "easing": "linear"
              }
             }
            ],
            "label": "13",
            "method": "animate"
           },
           {
            "args": [
             [
              "14"
             ],
             {
              "frame": {
               "duration": 0,
               "redraw": true
              },
              "fromcurrent": true,
              "mode": "immediate",
              "transition": {
               "duration": 0,
               "easing": "linear"
              }
             }
            ],
            "label": "14",
            "method": "animate"
           },
           {
            "args": [
             [
              "15"
             ],
             {
              "frame": {
               "duration": 0,
               "redraw": true
              },
              "fromcurrent": true,
              "mode": "immediate",
              "transition": {
               "duration": 0,
               "easing": "linear"
              }
             }
            ],
            "label": "15",
            "method": "animate"
           },
           {
            "args": [
             [
              "16"
             ],
             {
              "frame": {
               "duration": 0,
               "redraw": true
              },
              "fromcurrent": true,
              "mode": "immediate",
              "transition": {
               "duration": 0,
               "easing": "linear"
              }
             }
            ],
            "label": "16",
            "method": "animate"
           },
           {
            "args": [
             [
              "17"
             ],
             {
              "frame": {
               "duration": 0,
               "redraw": true
              },
              "fromcurrent": true,
              "mode": "immediate",
              "transition": {
               "duration": 0,
               "easing": "linear"
              }
             }
            ],
            "label": "17",
            "method": "animate"
           },
           {
            "args": [
             [
              "18"
             ],
             {
              "frame": {
               "duration": 0,
               "redraw": true
              },
              "fromcurrent": true,
              "mode": "immediate",
              "transition": {
               "duration": 0,
               "easing": "linear"
              }
             }
            ],
            "label": "18",
            "method": "animate"
           },
           {
            "args": [
             [
              "19"
             ],
             {
              "frame": {
               "duration": 0,
               "redraw": true
              },
              "fromcurrent": true,
              "mode": "immediate",
              "transition": {
               "duration": 0,
               "easing": "linear"
              }
             }
            ],
            "label": "19",
            "method": "animate"
           },
           {
            "args": [
             [
              "20"
             ],
             {
              "frame": {
               "duration": 0,
               "redraw": true
              },
              "fromcurrent": true,
              "mode": "immediate",
              "transition": {
               "duration": 0,
               "easing": "linear"
              }
             }
            ],
            "label": "20",
            "method": "animate"
           },
           {
            "args": [
             [
              "21"
             ],
             {
              "frame": {
               "duration": 0,
               "redraw": true
              },
              "fromcurrent": true,
              "mode": "immediate",
              "transition": {
               "duration": 0,
               "easing": "linear"
              }
             }
            ],
            "label": "21",
            "method": "animate"
           },
           {
            "args": [
             [
              "22"
             ],
             {
              "frame": {
               "duration": 0,
               "redraw": true
              },
              "fromcurrent": true,
              "mode": "immediate",
              "transition": {
               "duration": 0,
               "easing": "linear"
              }
             }
            ],
            "label": "22",
            "method": "animate"
           },
           {
            "args": [
             [
              "23"
             ],
             {
              "frame": {
               "duration": 0,
               "redraw": true
              },
              "fromcurrent": true,
              "mode": "immediate",
              "transition": {
               "duration": 0,
               "easing": "linear"
              }
             }
            ],
            "label": "23",
            "method": "animate"
           },
           {
            "args": [
             [
              "24"
             ],
             {
              "frame": {
               "duration": 0,
               "redraw": true
              },
              "fromcurrent": true,
              "mode": "immediate",
              "transition": {
               "duration": 0,
               "easing": "linear"
              }
             }
            ],
            "label": "24",
            "method": "animate"
           },
           {
            "args": [
             [
              "25"
             ],
             {
              "frame": {
               "duration": 0,
               "redraw": true
              },
              "fromcurrent": true,
              "mode": "immediate",
              "transition": {
               "duration": 0,
               "easing": "linear"
              }
             }
            ],
            "label": "25",
            "method": "animate"
           }
          ],
          "x": 0.1,
          "xanchor": "left",
          "y": 0,
          "yanchor": "top"
         }
        ],
        "template": {
         "data": {
          "bar": [
           {
            "error_x": {
             "color": "#2a3f5f"
            },
            "error_y": {
             "color": "#2a3f5f"
            },
            "marker": {
             "line": {
              "color": "#E5ECF6",
              "width": 0.5
             }
            },
            "type": "bar"
           }
          ],
          "barpolar": [
           {
            "marker": {
             "line": {
              "color": "#E5ECF6",
              "width": 0.5
             }
            },
            "type": "barpolar"
           }
          ],
          "carpet": [
           {
            "aaxis": {
             "endlinecolor": "#2a3f5f",
             "gridcolor": "white",
             "linecolor": "white",
             "minorgridcolor": "white",
             "startlinecolor": "#2a3f5f"
            },
            "baxis": {
             "endlinecolor": "#2a3f5f",
             "gridcolor": "white",
             "linecolor": "white",
             "minorgridcolor": "white",
             "startlinecolor": "#2a3f5f"
            },
            "type": "carpet"
           }
          ],
          "choropleth": [
           {
            "colorbar": {
             "outlinewidth": 0,
             "ticks": ""
            },
            "type": "choropleth"
           }
          ],
          "contour": [
           {
            "colorbar": {
             "outlinewidth": 0,
             "ticks": ""
            },
            "colorscale": [
             [
              0,
              "#0d0887"
             ],
             [
              0.1111111111111111,
              "#46039f"
             ],
             [
              0.2222222222222222,
              "#7201a8"
             ],
             [
              0.3333333333333333,
              "#9c179e"
             ],
             [
              0.4444444444444444,
              "#bd3786"
             ],
             [
              0.5555555555555556,
              "#d8576b"
             ],
             [
              0.6666666666666666,
              "#ed7953"
             ],
             [
              0.7777777777777778,
              "#fb9f3a"
             ],
             [
              0.8888888888888888,
              "#fdca26"
             ],
             [
              1,
              "#f0f921"
             ]
            ],
            "type": "contour"
           }
          ],
          "contourcarpet": [
           {
            "colorbar": {
             "outlinewidth": 0,
             "ticks": ""
            },
            "type": "contourcarpet"
           }
          ],
          "heatmap": [
           {
            "colorbar": {
             "outlinewidth": 0,
             "ticks": ""
            },
            "colorscale": [
             [
              0,
              "#0d0887"
             ],
             [
              0.1111111111111111,
              "#46039f"
             ],
             [
              0.2222222222222222,
              "#7201a8"
             ],
             [
              0.3333333333333333,
              "#9c179e"
             ],
             [
              0.4444444444444444,
              "#bd3786"
             ],
             [
              0.5555555555555556,
              "#d8576b"
             ],
             [
              0.6666666666666666,
              "#ed7953"
             ],
             [
              0.7777777777777778,
              "#fb9f3a"
             ],
             [
              0.8888888888888888,
              "#fdca26"
             ],
             [
              1,
              "#f0f921"
             ]
            ],
            "type": "heatmap"
           }
          ],
          "heatmapgl": [
           {
            "colorbar": {
             "outlinewidth": 0,
             "ticks": ""
            },
            "colorscale": [
             [
              0,
              "#0d0887"
             ],
             [
              0.1111111111111111,
              "#46039f"
             ],
             [
              0.2222222222222222,
              "#7201a8"
             ],
             [
              0.3333333333333333,
              "#9c179e"
             ],
             [
              0.4444444444444444,
              "#bd3786"
             ],
             [
              0.5555555555555556,
              "#d8576b"
             ],
             [
              0.6666666666666666,
              "#ed7953"
             ],
             [
              0.7777777777777778,
              "#fb9f3a"
             ],
             [
              0.8888888888888888,
              "#fdca26"
             ],
             [
              1,
              "#f0f921"
             ]
            ],
            "type": "heatmapgl"
           }
          ],
          "histogram": [
           {
            "marker": {
             "colorbar": {
              "outlinewidth": 0,
              "ticks": ""
             }
            },
            "type": "histogram"
           }
          ],
          "histogram2d": [
           {
            "colorbar": {
             "outlinewidth": 0,
             "ticks": ""
            },
            "colorscale": [
             [
              0,
              "#0d0887"
             ],
             [
              0.1111111111111111,
              "#46039f"
             ],
             [
              0.2222222222222222,
              "#7201a8"
             ],
             [
              0.3333333333333333,
              "#9c179e"
             ],
             [
              0.4444444444444444,
              "#bd3786"
             ],
             [
              0.5555555555555556,
              "#d8576b"
             ],
             [
              0.6666666666666666,
              "#ed7953"
             ],
             [
              0.7777777777777778,
              "#fb9f3a"
             ],
             [
              0.8888888888888888,
              "#fdca26"
             ],
             [
              1,
              "#f0f921"
             ]
            ],
            "type": "histogram2d"
           }
          ],
          "histogram2dcontour": [
           {
            "colorbar": {
             "outlinewidth": 0,
             "ticks": ""
            },
            "colorscale": [
             [
              0,
              "#0d0887"
             ],
             [
              0.1111111111111111,
              "#46039f"
             ],
             [
              0.2222222222222222,
              "#7201a8"
             ],
             [
              0.3333333333333333,
              "#9c179e"
             ],
             [
              0.4444444444444444,
              "#bd3786"
             ],
             [
              0.5555555555555556,
              "#d8576b"
             ],
             [
              0.6666666666666666,
              "#ed7953"
             ],
             [
              0.7777777777777778,
              "#fb9f3a"
             ],
             [
              0.8888888888888888,
              "#fdca26"
             ],
             [
              1,
              "#f0f921"
             ]
            ],
            "type": "histogram2dcontour"
           }
          ],
          "mesh3d": [
           {
            "colorbar": {
             "outlinewidth": 0,
             "ticks": ""
            },
            "type": "mesh3d"
           }
          ],
          "parcoords": [
           {
            "line": {
             "colorbar": {
              "outlinewidth": 0,
              "ticks": ""
             }
            },
            "type": "parcoords"
           }
          ],
          "pie": [
           {
            "automargin": true,
            "type": "pie"
           }
          ],
          "scatter": [
           {
            "marker": {
             "colorbar": {
              "outlinewidth": 0,
              "ticks": ""
             }
            },
            "type": "scatter"
           }
          ],
          "scatter3d": [
           {
            "line": {
             "colorbar": {
              "outlinewidth": 0,
              "ticks": ""
             }
            },
            "marker": {
             "colorbar": {
              "outlinewidth": 0,
              "ticks": ""
             }
            },
            "type": "scatter3d"
           }
          ],
          "scattercarpet": [
           {
            "marker": {
             "colorbar": {
              "outlinewidth": 0,
              "ticks": ""
             }
            },
            "type": "scattercarpet"
           }
          ],
          "scattergeo": [
           {
            "marker": {
             "colorbar": {
              "outlinewidth": 0,
              "ticks": ""
             }
            },
            "type": "scattergeo"
           }
          ],
          "scattergl": [
           {
            "marker": {
             "colorbar": {
              "outlinewidth": 0,
              "ticks": ""
             }
            },
            "type": "scattergl"
           }
          ],
          "scattermapbox": [
           {
            "marker": {
             "colorbar": {
              "outlinewidth": 0,
              "ticks": ""
             }
            },
            "type": "scattermapbox"
           }
          ],
          "scatterpolar": [
           {
            "marker": {
             "colorbar": {
              "outlinewidth": 0,
              "ticks": ""
             }
            },
            "type": "scatterpolar"
           }
          ],
          "scatterpolargl": [
           {
            "marker": {
             "colorbar": {
              "outlinewidth": 0,
              "ticks": ""
             }
            },
            "type": "scatterpolargl"
           }
          ],
          "scatterternary": [
           {
            "marker": {
             "colorbar": {
              "outlinewidth": 0,
              "ticks": ""
             }
            },
            "type": "scatterternary"
           }
          ],
          "surface": [
           {
            "colorbar": {
             "outlinewidth": 0,
             "ticks": ""
            },
            "colorscale": [
             [
              0,
              "#0d0887"
             ],
             [
              0.1111111111111111,
              "#46039f"
             ],
             [
              0.2222222222222222,
              "#7201a8"
             ],
             [
              0.3333333333333333,
              "#9c179e"
             ],
             [
              0.4444444444444444,
              "#bd3786"
             ],
             [
              0.5555555555555556,
              "#d8576b"
             ],
             [
              0.6666666666666666,
              "#ed7953"
             ],
             [
              0.7777777777777778,
              "#fb9f3a"
             ],
             [
              0.8888888888888888,
              "#fdca26"
             ],
             [
              1,
              "#f0f921"
             ]
            ],
            "type": "surface"
           }
          ],
          "table": [
           {
            "cells": {
             "fill": {
              "color": "#EBF0F8"
             },
             "line": {
              "color": "white"
             }
            },
            "header": {
             "fill": {
              "color": "#C8D4E3"
             },
             "line": {
              "color": "white"
             }
            },
            "type": "table"
           }
          ]
         },
         "layout": {
          "annotationdefaults": {
           "arrowcolor": "#2a3f5f",
           "arrowhead": 0,
           "arrowwidth": 1
          },
          "coloraxis": {
           "colorbar": {
            "outlinewidth": 0,
            "ticks": ""
           }
          },
          "colorscale": {
           "diverging": [
            [
             0,
             "#8e0152"
            ],
            [
             0.1,
             "#c51b7d"
            ],
            [
             0.2,
             "#de77ae"
            ],
            [
             0.3,
             "#f1b6da"
            ],
            [
             0.4,
             "#fde0ef"
            ],
            [
             0.5,
             "#f7f7f7"
            ],
            [
             0.6,
             "#e6f5d0"
            ],
            [
             0.7,
             "#b8e186"
            ],
            [
             0.8,
             "#7fbc41"
            ],
            [
             0.9,
             "#4d9221"
            ],
            [
             1,
             "#276419"
            ]
           ],
           "sequential": [
            [
             0,
             "#0d0887"
            ],
            [
             0.1111111111111111,
             "#46039f"
            ],
            [
             0.2222222222222222,
             "#7201a8"
            ],
            [
             0.3333333333333333,
             "#9c179e"
            ],
            [
             0.4444444444444444,
             "#bd3786"
            ],
            [
             0.5555555555555556,
             "#d8576b"
            ],
            [
             0.6666666666666666,
             "#ed7953"
            ],
            [
             0.7777777777777778,
             "#fb9f3a"
            ],
            [
             0.8888888888888888,
             "#fdca26"
            ],
            [
             1,
             "#f0f921"
            ]
           ],
           "sequentialminus": [
            [
             0,
             "#0d0887"
            ],
            [
             0.1111111111111111,
             "#46039f"
            ],
            [
             0.2222222222222222,
             "#7201a8"
            ],
            [
             0.3333333333333333,
             "#9c179e"
            ],
            [
             0.4444444444444444,
             "#bd3786"
            ],
            [
             0.5555555555555556,
             "#d8576b"
            ],
            [
             0.6666666666666666,
             "#ed7953"
            ],
            [
             0.7777777777777778,
             "#fb9f3a"
            ],
            [
             0.8888888888888888,
             "#fdca26"
            ],
            [
             1,
             "#f0f921"
            ]
           ]
          },
          "colorway": [
           "#636efa",
           "#EF553B",
           "#00cc96",
           "#ab63fa",
           "#FFA15A",
           "#19d3f3",
           "#FF6692",
           "#B6E880",
           "#FF97FF",
           "#FECB52"
          ],
          "font": {
           "color": "#2a3f5f"
          },
          "geo": {
           "bgcolor": "white",
           "lakecolor": "white",
           "landcolor": "#E5ECF6",
           "showlakes": true,
           "showland": true,
           "subunitcolor": "white"
          },
          "hoverlabel": {
           "align": "left"
          },
          "hovermode": "closest",
          "mapbox": {
           "style": "light"
          },
          "paper_bgcolor": "white",
          "plot_bgcolor": "#E5ECF6",
          "polar": {
           "angularaxis": {
            "gridcolor": "white",
            "linecolor": "white",
            "ticks": ""
           },
           "bgcolor": "#E5ECF6",
           "radialaxis": {
            "gridcolor": "white",
            "linecolor": "white",
            "ticks": ""
           }
          },
          "scene": {
           "xaxis": {
            "backgroundcolor": "#E5ECF6",
            "gridcolor": "white",
            "gridwidth": 2,
            "linecolor": "white",
            "showbackground": true,
            "ticks": "",
            "zerolinecolor": "white"
           },
           "yaxis": {
            "backgroundcolor": "#E5ECF6",
            "gridcolor": "white",
            "gridwidth": 2,
            "linecolor": "white",
            "showbackground": true,
            "ticks": "",
            "zerolinecolor": "white"
           },
           "zaxis": {
            "backgroundcolor": "#E5ECF6",
            "gridcolor": "white",
            "gridwidth": 2,
            "linecolor": "white",
            "showbackground": true,
            "ticks": "",
            "zerolinecolor": "white"
           }
          },
          "shapedefaults": {
           "line": {
            "color": "#2a3f5f"
           }
          },
          "ternary": {
           "aaxis": {
            "gridcolor": "white",
            "linecolor": "white",
            "ticks": ""
           },
           "baxis": {
            "gridcolor": "white",
            "linecolor": "white",
            "ticks": ""
           },
           "bgcolor": "#E5ECF6",
           "caxis": {
            "gridcolor": "white",
            "linecolor": "white",
            "ticks": ""
           }
          },
          "title": {
           "x": 0.05
          },
          "xaxis": {
           "automargin": true,
           "gridcolor": "white",
           "linecolor": "white",
           "ticks": "",
           "title": {
            "standoff": 15
           },
           "zerolinecolor": "white",
           "zerolinewidth": 2
          },
          "yaxis": {
           "automargin": true,
           "gridcolor": "white",
           "linecolor": "white",
           "ticks": "",
           "title": {
            "standoff": 15
           },
           "zerolinecolor": "white",
           "zerolinewidth": 2
          }
         }
        },
        "title": {
         "text": "Economic Status After COVID by Week per State"
        },
        "updatemenus": [
         {
          "buttons": [
           {
            "args": [
             null,
             {
              "frame": {
               "duration": 500,
               "redraw": true
              },
              "fromcurrent": true,
              "mode": "immediate",
              "transition": {
               "duration": 500,
               "easing": "linear"
              }
             }
            ],
            "label": "&#9654;",
            "method": "animate"
           },
           {
            "args": [
             [
              null
             ],
             {
              "frame": {
               "duration": 0,
               "redraw": true
              },
              "fromcurrent": true,
              "mode": "immediate",
              "transition": {
               "duration": 0,
               "easing": "linear"
              }
             }
            ],
            "label": "&#9724;",
            "method": "animate"
           }
          ],
          "direction": "left",
          "pad": {
           "r": 10,
           "t": 70
          },
          "showactive": false,
          "type": "buttons",
          "x": 0.1,
          "xanchor": "right",
          "y": 0,
          "yanchor": "top"
         }
        ]
       }
      },
      "text/html": [
       "<div>                            <div id=\"9966ed3c-2074-4f5d-9fa6-46d90af0410e\" class=\"plotly-graph-div\" style=\"height:600px; width:100%;\"></div>            <script type=\"text/javascript\">                require([\"plotly\"], function(Plotly) {                    window.PLOTLYENV=window.PLOTLYENV || {};                                    if (document.getElementById(\"9966ed3c-2074-4f5d-9fa6-46d90af0410e\")) {                    Plotly.newPlot(                        \"9966ed3c-2074-4f5d-9fa6-46d90af0410e\",                        [{\"coloraxis\": \"coloraxis\", \"geo\": \"geo\", \"hovertemplate\": \"week=0<br>stateabbrev=%{location}<br>new_clusters=%{z}<extra></extra>\", \"locationmode\": \"USA-states\", \"locations\": [\"AL\", \"AK\", \"AZ\", \"AR\", \"CA\", \"CO\", \"CT\", \"DE\", \"DC\", \"FL\", \"GA\", \"HI\", \"ID\", \"IL\", \"IN\", \"IA\", \"KS\", \"KY\", \"LA\", \"ME\", \"MD\", \"MA\", \"MI\", \"MN\", \"MS\", \"MO\", \"MT\", \"NE\", \"NV\", \"NH\", \"NJ\", \"NM\", \"NY\", \"NC\", \"ND\", \"OH\", \"OK\", \"OR\", \"PA\", \"RI\", \"SC\", \"SD\", \"TN\", \"TX\", \"UT\", \"VT\", \"VA\", \"WA\", \"WV\", \"WI\", \"WY\"], \"name\": \"\", \"type\": \"choropleth\", \"z\": [1, 1, 1, 2, 1, 1, 1, 1, 1, 1, 1, 1, 1, 1, 1, 1, 1, 1, 1, 1, 1, 1, 1, 1, 2, 1, 1, 2, 1, 1, 1, 1, 1, 1, 1, 1, 2, 1, 1, 1, 1, 2, 1, 1, 2, 1, 1, 1, 1, 1, 2]}],                        {\"coloraxis\": {\"cmax\": 4, \"cmin\": 1, \"colorbar\": {\"len\": 200, \"lenmode\": \"pixels\", \"ticktext\": [\"1- Severely unstable\", \"2- Moderately unstable\", \"3- Stabilizing/low small business growth\", \"4- Stabilizing/low job posting\"], \"tickvals\": [1, 2, 3, 4], \"title\": {\"text\": \"Cluster Number\"}}, \"colorscale\": [[0.0, \"rgb(158,1,66)\"], [0.1, \"rgb(213,62,79)\"], [0.2, \"rgb(244,109,67)\"], [0.3, \"rgb(253,174,97)\"], [0.4, \"rgb(254,224,139)\"], [0.5, \"rgb(255,255,191)\"], [0.6, \"rgb(230,245,152)\"], [0.7, \"rgb(171,221,164)\"], [0.8, \"rgb(102,194,165)\"], [0.9, \"rgb(50,136,189)\"], [1.0, \"rgb(94,79,162)\"]]}, \"geo\": {\"center\": {}, \"domain\": {\"x\": [0.0, 1.0], \"y\": [0.0, 1.0]}, \"scope\": \"usa\"}, \"height\": 600, \"legend\": {\"tracegroupgap\": 0}, \"sliders\": [{\"active\": 0, \"currentvalue\": {\"prefix\": \"week=\"}, \"len\": 0.9, \"pad\": {\"b\": 10, \"t\": 60}, \"steps\": [{\"args\": [[\"0\"], {\"frame\": {\"duration\": 0, \"redraw\": true}, \"fromcurrent\": true, \"mode\": \"immediate\", \"transition\": {\"duration\": 0, \"easing\": \"linear\"}}], \"label\": \"0\", \"method\": \"animate\"}, {\"args\": [[\"1\"], {\"frame\": {\"duration\": 0, \"redraw\": true}, \"fromcurrent\": true, \"mode\": \"immediate\", \"transition\": {\"duration\": 0, \"easing\": \"linear\"}}], \"label\": \"1\", \"method\": \"animate\"}, {\"args\": [[\"2\"], {\"frame\": {\"duration\": 0, \"redraw\": true}, \"fromcurrent\": true, \"mode\": \"immediate\", \"transition\": {\"duration\": 0, \"easing\": \"linear\"}}], \"label\": \"2\", \"method\": \"animate\"}, {\"args\": [[\"3\"], {\"frame\": {\"duration\": 0, \"redraw\": true}, \"fromcurrent\": true, \"mode\": \"immediate\", \"transition\": {\"duration\": 0, \"easing\": \"linear\"}}], \"label\": \"3\", \"method\": \"animate\"}, {\"args\": [[\"4\"], {\"frame\": {\"duration\": 0, \"redraw\": true}, \"fromcurrent\": true, \"mode\": \"immediate\", \"transition\": {\"duration\": 0, \"easing\": \"linear\"}}], \"label\": \"4\", \"method\": \"animate\"}, {\"args\": [[\"5\"], {\"frame\": {\"duration\": 0, \"redraw\": true}, \"fromcurrent\": true, \"mode\": \"immediate\", \"transition\": {\"duration\": 0, \"easing\": \"linear\"}}], \"label\": \"5\", \"method\": \"animate\"}, {\"args\": [[\"6\"], {\"frame\": {\"duration\": 0, \"redraw\": true}, \"fromcurrent\": true, \"mode\": \"immediate\", \"transition\": {\"duration\": 0, \"easing\": \"linear\"}}], \"label\": \"6\", \"method\": \"animate\"}, {\"args\": [[\"7\"], {\"frame\": {\"duration\": 0, \"redraw\": true}, \"fromcurrent\": true, \"mode\": \"immediate\", \"transition\": {\"duration\": 0, \"easing\": \"linear\"}}], \"label\": \"7\", \"method\": \"animate\"}, {\"args\": [[\"8\"], {\"frame\": {\"duration\": 0, \"redraw\": true}, \"fromcurrent\": true, \"mode\": \"immediate\", \"transition\": {\"duration\": 0, \"easing\": \"linear\"}}], \"label\": \"8\", \"method\": \"animate\"}, {\"args\": [[\"9\"], {\"frame\": {\"duration\": 0, \"redraw\": true}, \"fromcurrent\": true, \"mode\": \"immediate\", \"transition\": {\"duration\": 0, \"easing\": \"linear\"}}], \"label\": \"9\", \"method\": \"animate\"}, {\"args\": [[\"10\"], {\"frame\": {\"duration\": 0, \"redraw\": true}, \"fromcurrent\": true, \"mode\": \"immediate\", \"transition\": {\"duration\": 0, \"easing\": \"linear\"}}], \"label\": \"10\", \"method\": \"animate\"}, {\"args\": [[\"11\"], {\"frame\": {\"duration\": 0, \"redraw\": true}, \"fromcurrent\": true, \"mode\": \"immediate\", \"transition\": {\"duration\": 0, \"easing\": \"linear\"}}], \"label\": \"11\", \"method\": \"animate\"}, {\"args\": [[\"12\"], {\"frame\": {\"duration\": 0, \"redraw\": true}, \"fromcurrent\": true, \"mode\": \"immediate\", \"transition\": {\"duration\": 0, \"easing\": \"linear\"}}], \"label\": \"12\", \"method\": \"animate\"}, {\"args\": [[\"13\"], {\"frame\": {\"duration\": 0, \"redraw\": true}, \"fromcurrent\": true, \"mode\": \"immediate\", \"transition\": {\"duration\": 0, \"easing\": \"linear\"}}], \"label\": \"13\", \"method\": \"animate\"}, {\"args\": [[\"14\"], {\"frame\": {\"duration\": 0, \"redraw\": true}, \"fromcurrent\": true, \"mode\": \"immediate\", \"transition\": {\"duration\": 0, \"easing\": \"linear\"}}], \"label\": \"14\", \"method\": \"animate\"}, {\"args\": [[\"15\"], {\"frame\": {\"duration\": 0, \"redraw\": true}, \"fromcurrent\": true, \"mode\": \"immediate\", \"transition\": {\"duration\": 0, \"easing\": \"linear\"}}], \"label\": \"15\", \"method\": \"animate\"}, {\"args\": [[\"16\"], {\"frame\": {\"duration\": 0, \"redraw\": true}, \"fromcurrent\": true, \"mode\": \"immediate\", \"transition\": {\"duration\": 0, \"easing\": \"linear\"}}], \"label\": \"16\", \"method\": \"animate\"}, {\"args\": [[\"17\"], {\"frame\": {\"duration\": 0, \"redraw\": true}, \"fromcurrent\": true, \"mode\": \"immediate\", \"transition\": {\"duration\": 0, \"easing\": \"linear\"}}], \"label\": \"17\", \"method\": \"animate\"}, {\"args\": [[\"18\"], {\"frame\": {\"duration\": 0, \"redraw\": true}, \"fromcurrent\": true, \"mode\": \"immediate\", \"transition\": {\"duration\": 0, \"easing\": \"linear\"}}], \"label\": \"18\", \"method\": \"animate\"}, {\"args\": [[\"19\"], {\"frame\": {\"duration\": 0, \"redraw\": true}, \"fromcurrent\": true, \"mode\": \"immediate\", \"transition\": {\"duration\": 0, \"easing\": \"linear\"}}], \"label\": \"19\", \"method\": \"animate\"}, {\"args\": [[\"20\"], {\"frame\": {\"duration\": 0, \"redraw\": true}, \"fromcurrent\": true, \"mode\": \"immediate\", \"transition\": {\"duration\": 0, \"easing\": \"linear\"}}], \"label\": \"20\", \"method\": \"animate\"}, {\"args\": [[\"21\"], {\"frame\": {\"duration\": 0, \"redraw\": true}, \"fromcurrent\": true, \"mode\": \"immediate\", \"transition\": {\"duration\": 0, \"easing\": \"linear\"}}], \"label\": \"21\", \"method\": \"animate\"}, {\"args\": [[\"22\"], {\"frame\": {\"duration\": 0, \"redraw\": true}, \"fromcurrent\": true, \"mode\": \"immediate\", \"transition\": {\"duration\": 0, \"easing\": \"linear\"}}], \"label\": \"22\", \"method\": \"animate\"}, {\"args\": [[\"23\"], {\"frame\": {\"duration\": 0, \"redraw\": true}, \"fromcurrent\": true, \"mode\": \"immediate\", \"transition\": {\"duration\": 0, \"easing\": \"linear\"}}], \"label\": \"23\", \"method\": \"animate\"}, {\"args\": [[\"24\"], {\"frame\": {\"duration\": 0, \"redraw\": true}, \"fromcurrent\": true, \"mode\": \"immediate\", \"transition\": {\"duration\": 0, \"easing\": \"linear\"}}], \"label\": \"24\", \"method\": \"animate\"}, {\"args\": [[\"25\"], {\"frame\": {\"duration\": 0, \"redraw\": true}, \"fromcurrent\": true, \"mode\": \"immediate\", \"transition\": {\"duration\": 0, \"easing\": \"linear\"}}], \"label\": \"25\", \"method\": \"animate\"}], \"x\": 0.1, \"xanchor\": \"left\", \"y\": 0, \"yanchor\": \"top\"}], \"template\": {\"data\": {\"bar\": [{\"error_x\": {\"color\": \"#2a3f5f\"}, \"error_y\": {\"color\": \"#2a3f5f\"}, \"marker\": {\"line\": {\"color\": \"#E5ECF6\", \"width\": 0.5}}, \"type\": \"bar\"}], \"barpolar\": [{\"marker\": {\"line\": {\"color\": \"#E5ECF6\", \"width\": 0.5}}, \"type\": \"barpolar\"}], \"carpet\": [{\"aaxis\": {\"endlinecolor\": \"#2a3f5f\", \"gridcolor\": \"white\", \"linecolor\": \"white\", \"minorgridcolor\": \"white\", \"startlinecolor\": \"#2a3f5f\"}, \"baxis\": {\"endlinecolor\": \"#2a3f5f\", \"gridcolor\": \"white\", \"linecolor\": \"white\", \"minorgridcolor\": \"white\", \"startlinecolor\": \"#2a3f5f\"}, \"type\": \"carpet\"}], \"choropleth\": [{\"colorbar\": {\"outlinewidth\": 0, \"ticks\": \"\"}, \"type\": \"choropleth\"}], \"contour\": [{\"colorbar\": {\"outlinewidth\": 0, \"ticks\": \"\"}, \"colorscale\": [[0.0, \"#0d0887\"], [0.1111111111111111, \"#46039f\"], [0.2222222222222222, \"#7201a8\"], [0.3333333333333333, \"#9c179e\"], [0.4444444444444444, \"#bd3786\"], [0.5555555555555556, \"#d8576b\"], [0.6666666666666666, \"#ed7953\"], [0.7777777777777778, \"#fb9f3a\"], [0.8888888888888888, \"#fdca26\"], [1.0, \"#f0f921\"]], \"type\": \"contour\"}], \"contourcarpet\": [{\"colorbar\": {\"outlinewidth\": 0, \"ticks\": \"\"}, \"type\": \"contourcarpet\"}], \"heatmap\": [{\"colorbar\": {\"outlinewidth\": 0, \"ticks\": \"\"}, \"colorscale\": [[0.0, \"#0d0887\"], [0.1111111111111111, \"#46039f\"], [0.2222222222222222, \"#7201a8\"], [0.3333333333333333, \"#9c179e\"], [0.4444444444444444, \"#bd3786\"], [0.5555555555555556, \"#d8576b\"], [0.6666666666666666, \"#ed7953\"], [0.7777777777777778, \"#fb9f3a\"], [0.8888888888888888, \"#fdca26\"], [1.0, \"#f0f921\"]], \"type\": \"heatmap\"}], \"heatmapgl\": [{\"colorbar\": {\"outlinewidth\": 0, \"ticks\": \"\"}, \"colorscale\": [[0.0, \"#0d0887\"], [0.1111111111111111, \"#46039f\"], [0.2222222222222222, \"#7201a8\"], [0.3333333333333333, \"#9c179e\"], [0.4444444444444444, \"#bd3786\"], [0.5555555555555556, \"#d8576b\"], [0.6666666666666666, \"#ed7953\"], [0.7777777777777778, \"#fb9f3a\"], [0.8888888888888888, \"#fdca26\"], [1.0, \"#f0f921\"]], \"type\": \"heatmapgl\"}], \"histogram\": [{\"marker\": {\"colorbar\": {\"outlinewidth\": 0, \"ticks\": \"\"}}, \"type\": \"histogram\"}], \"histogram2d\": [{\"colorbar\": {\"outlinewidth\": 0, \"ticks\": \"\"}, \"colorscale\": [[0.0, \"#0d0887\"], [0.1111111111111111, \"#46039f\"], [0.2222222222222222, \"#7201a8\"], [0.3333333333333333, \"#9c179e\"], [0.4444444444444444, \"#bd3786\"], [0.5555555555555556, \"#d8576b\"], [0.6666666666666666, \"#ed7953\"], [0.7777777777777778, \"#fb9f3a\"], [0.8888888888888888, \"#fdca26\"], [1.0, \"#f0f921\"]], \"type\": \"histogram2d\"}], \"histogram2dcontour\": [{\"colorbar\": {\"outlinewidth\": 0, \"ticks\": \"\"}, \"colorscale\": [[0.0, \"#0d0887\"], [0.1111111111111111, \"#46039f\"], [0.2222222222222222, \"#7201a8\"], [0.3333333333333333, \"#9c179e\"], [0.4444444444444444, \"#bd3786\"], [0.5555555555555556, \"#d8576b\"], [0.6666666666666666, \"#ed7953\"], [0.7777777777777778, \"#fb9f3a\"], [0.8888888888888888, \"#fdca26\"], [1.0, \"#f0f921\"]], \"type\": \"histogram2dcontour\"}], \"mesh3d\": [{\"colorbar\": {\"outlinewidth\": 0, \"ticks\": \"\"}, \"type\": \"mesh3d\"}], \"parcoords\": [{\"line\": {\"colorbar\": {\"outlinewidth\": 0, \"ticks\": \"\"}}, \"type\": \"parcoords\"}], \"pie\": [{\"automargin\": true, \"type\": \"pie\"}], \"scatter\": [{\"marker\": {\"colorbar\": {\"outlinewidth\": 0, \"ticks\": \"\"}}, \"type\": \"scatter\"}], \"scatter3d\": [{\"line\": {\"colorbar\": {\"outlinewidth\": 0, \"ticks\": \"\"}}, \"marker\": {\"colorbar\": {\"outlinewidth\": 0, \"ticks\": \"\"}}, \"type\": \"scatter3d\"}], \"scattercarpet\": [{\"marker\": {\"colorbar\": {\"outlinewidth\": 0, \"ticks\": \"\"}}, \"type\": \"scattercarpet\"}], \"scattergeo\": [{\"marker\": {\"colorbar\": {\"outlinewidth\": 0, \"ticks\": \"\"}}, \"type\": \"scattergeo\"}], \"scattergl\": [{\"marker\": {\"colorbar\": {\"outlinewidth\": 0, \"ticks\": \"\"}}, \"type\": \"scattergl\"}], \"scattermapbox\": [{\"marker\": {\"colorbar\": {\"outlinewidth\": 0, \"ticks\": \"\"}}, \"type\": \"scattermapbox\"}], \"scatterpolar\": [{\"marker\": {\"colorbar\": {\"outlinewidth\": 0, \"ticks\": \"\"}}, \"type\": \"scatterpolar\"}], \"scatterpolargl\": [{\"marker\": {\"colorbar\": {\"outlinewidth\": 0, \"ticks\": \"\"}}, \"type\": \"scatterpolargl\"}], \"scatterternary\": [{\"marker\": {\"colorbar\": {\"outlinewidth\": 0, \"ticks\": \"\"}}, \"type\": \"scatterternary\"}], \"surface\": [{\"colorbar\": {\"outlinewidth\": 0, \"ticks\": \"\"}, \"colorscale\": [[0.0, \"#0d0887\"], [0.1111111111111111, \"#46039f\"], [0.2222222222222222, \"#7201a8\"], [0.3333333333333333, \"#9c179e\"], [0.4444444444444444, \"#bd3786\"], [0.5555555555555556, \"#d8576b\"], [0.6666666666666666, \"#ed7953\"], [0.7777777777777778, \"#fb9f3a\"], [0.8888888888888888, \"#fdca26\"], [1.0, \"#f0f921\"]], \"type\": \"surface\"}], \"table\": [{\"cells\": {\"fill\": {\"color\": \"#EBF0F8\"}, \"line\": {\"color\": \"white\"}}, \"header\": {\"fill\": {\"color\": \"#C8D4E3\"}, \"line\": {\"color\": \"white\"}}, \"type\": \"table\"}]}, \"layout\": {\"annotationdefaults\": {\"arrowcolor\": \"#2a3f5f\", \"arrowhead\": 0, \"arrowwidth\": 1}, \"coloraxis\": {\"colorbar\": {\"outlinewidth\": 0, \"ticks\": \"\"}}, \"colorscale\": {\"diverging\": [[0, \"#8e0152\"], [0.1, \"#c51b7d\"], [0.2, \"#de77ae\"], [0.3, \"#f1b6da\"], [0.4, \"#fde0ef\"], [0.5, \"#f7f7f7\"], [0.6, \"#e6f5d0\"], [0.7, \"#b8e186\"], [0.8, \"#7fbc41\"], [0.9, \"#4d9221\"], [1, \"#276419\"]], \"sequential\": [[0.0, \"#0d0887\"], [0.1111111111111111, \"#46039f\"], [0.2222222222222222, \"#7201a8\"], [0.3333333333333333, \"#9c179e\"], [0.4444444444444444, \"#bd3786\"], [0.5555555555555556, \"#d8576b\"], [0.6666666666666666, \"#ed7953\"], [0.7777777777777778, \"#fb9f3a\"], [0.8888888888888888, \"#fdca26\"], [1.0, \"#f0f921\"]], \"sequentialminus\": [[0.0, \"#0d0887\"], [0.1111111111111111, \"#46039f\"], [0.2222222222222222, \"#7201a8\"], [0.3333333333333333, \"#9c179e\"], [0.4444444444444444, \"#bd3786\"], [0.5555555555555556, \"#d8576b\"], [0.6666666666666666, \"#ed7953\"], [0.7777777777777778, \"#fb9f3a\"], [0.8888888888888888, \"#fdca26\"], [1.0, \"#f0f921\"]]}, \"colorway\": [\"#636efa\", \"#EF553B\", \"#00cc96\", \"#ab63fa\", \"#FFA15A\", \"#19d3f3\", \"#FF6692\", \"#B6E880\", \"#FF97FF\", \"#FECB52\"], \"font\": {\"color\": \"#2a3f5f\"}, \"geo\": {\"bgcolor\": \"white\", \"lakecolor\": \"white\", \"landcolor\": \"#E5ECF6\", \"showlakes\": true, \"showland\": true, \"subunitcolor\": \"white\"}, \"hoverlabel\": {\"align\": \"left\"}, \"hovermode\": \"closest\", \"mapbox\": {\"style\": \"light\"}, \"paper_bgcolor\": \"white\", \"plot_bgcolor\": \"#E5ECF6\", \"polar\": {\"angularaxis\": {\"gridcolor\": \"white\", \"linecolor\": \"white\", \"ticks\": \"\"}, \"bgcolor\": \"#E5ECF6\", \"radialaxis\": {\"gridcolor\": \"white\", \"linecolor\": \"white\", \"ticks\": \"\"}}, \"scene\": {\"xaxis\": {\"backgroundcolor\": \"#E5ECF6\", \"gridcolor\": \"white\", \"gridwidth\": 2, \"linecolor\": \"white\", \"showbackground\": true, \"ticks\": \"\", \"zerolinecolor\": \"white\"}, \"yaxis\": {\"backgroundcolor\": \"#E5ECF6\", \"gridcolor\": \"white\", \"gridwidth\": 2, \"linecolor\": \"white\", \"showbackground\": true, \"ticks\": \"\", \"zerolinecolor\": \"white\"}, \"zaxis\": {\"backgroundcolor\": \"#E5ECF6\", \"gridcolor\": \"white\", \"gridwidth\": 2, \"linecolor\": \"white\", \"showbackground\": true, \"ticks\": \"\", \"zerolinecolor\": \"white\"}}, \"shapedefaults\": {\"line\": {\"color\": \"#2a3f5f\"}}, \"ternary\": {\"aaxis\": {\"gridcolor\": \"white\", \"linecolor\": \"white\", \"ticks\": \"\"}, \"baxis\": {\"gridcolor\": \"white\", \"linecolor\": \"white\", \"ticks\": \"\"}, \"bgcolor\": \"#E5ECF6\", \"caxis\": {\"gridcolor\": \"white\", \"linecolor\": \"white\", \"ticks\": \"\"}}, \"title\": {\"x\": 0.05}, \"xaxis\": {\"automargin\": true, \"gridcolor\": \"white\", \"linecolor\": \"white\", \"ticks\": \"\", \"title\": {\"standoff\": 15}, \"zerolinecolor\": \"white\", \"zerolinewidth\": 2}, \"yaxis\": {\"automargin\": true, \"gridcolor\": \"white\", \"linecolor\": \"white\", \"ticks\": \"\", \"title\": {\"standoff\": 15}, \"zerolinecolor\": \"white\", \"zerolinewidth\": 2}}}, \"title\": {\"text\": \"Economic Status After COVID by Week per State\"}, \"updatemenus\": [{\"buttons\": [{\"args\": [null, {\"frame\": {\"duration\": 500, \"redraw\": true}, \"fromcurrent\": true, \"mode\": \"immediate\", \"transition\": {\"duration\": 500, \"easing\": \"linear\"}}], \"label\": \"&#9654;\", \"method\": \"animate\"}, {\"args\": [[null], {\"frame\": {\"duration\": 0, \"redraw\": true}, \"fromcurrent\": true, \"mode\": \"immediate\", \"transition\": {\"duration\": 0, \"easing\": \"linear\"}}], \"label\": \"&#9724;\", \"method\": \"animate\"}], \"direction\": \"left\", \"pad\": {\"r\": 10, \"t\": 70}, \"showactive\": false, \"type\": \"buttons\", \"x\": 0.1, \"xanchor\": \"right\", \"y\": 0, \"yanchor\": \"top\"}]},                        {\"responsive\": true}                    ).then(function(){\n",
       "                            Plotly.addFrames('9966ed3c-2074-4f5d-9fa6-46d90af0410e', [{\"data\": [{\"coloraxis\": \"coloraxis\", \"geo\": \"geo\", \"hovertemplate\": \"week=0<br>stateabbrev=%{location}<br>new_clusters=%{z}<extra></extra>\", \"locationmode\": \"USA-states\", \"locations\": [\"AL\", \"AK\", \"AZ\", \"AR\", \"CA\", \"CO\", \"CT\", \"DE\", \"DC\", \"FL\", \"GA\", \"HI\", \"ID\", \"IL\", \"IN\", \"IA\", \"KS\", \"KY\", \"LA\", \"ME\", \"MD\", \"MA\", \"MI\", \"MN\", \"MS\", \"MO\", \"MT\", \"NE\", \"NV\", \"NH\", \"NJ\", \"NM\", \"NY\", \"NC\", \"ND\", \"OH\", \"OK\", \"OR\", \"PA\", \"RI\", \"SC\", \"SD\", \"TN\", \"TX\", \"UT\", \"VT\", \"VA\", \"WA\", \"WV\", \"WI\", \"WY\"], \"name\": \"\", \"z\": [1, 1, 1, 2, 1, 1, 1, 1, 1, 1, 1, 1, 1, 1, 1, 1, 1, 1, 1, 1, 1, 1, 1, 1, 2, 1, 1, 2, 1, 1, 1, 1, 1, 1, 1, 1, 2, 1, 1, 1, 1, 2, 1, 1, 2, 1, 1, 1, 1, 1, 2], \"type\": \"choropleth\"}], \"name\": \"0\"}, {\"data\": [{\"coloraxis\": \"coloraxis\", \"geo\": \"geo\", \"hovertemplate\": \"week=1<br>stateabbrev=%{location}<br>new_clusters=%{z}<extra></extra>\", \"locationmode\": \"USA-states\", \"locations\": [\"AL\", \"AK\", \"AZ\", \"AR\", \"CA\", \"CO\", \"CT\", \"DE\", \"DC\", \"FL\", \"GA\", \"HI\", \"ID\", \"IL\", \"IN\", \"IA\", \"KS\", \"KY\", \"LA\", \"ME\", \"MD\", \"MA\", \"MI\", \"MN\", \"MS\", \"MO\", \"MT\", \"NE\", \"NV\", \"NH\", \"NJ\", \"NM\", \"NY\", \"NC\", \"ND\", \"OH\", \"OK\", \"OR\", \"PA\", \"RI\", \"SC\", \"SD\", \"TN\", \"TX\", \"UT\", \"VT\", \"VA\", \"WA\", \"WV\", \"WI\", \"WY\"], \"name\": \"\", \"z\": [1, 1, 1, 2, 1, 1, 1, 1, 1, 1, 1, 1, 2, 1, 1, 1, 1, 1, 1, 1, 1, 1, 1, 1, 1, 1, 1, 2, 1, 1, 1, 1, 1, 1, 2, 1, 1, 1, 1, 1, 1, 3, 1, 1, 2, 1, 1, 1, 1, 1, 2], \"type\": \"choropleth\"}], \"name\": \"1\"}, {\"data\": [{\"coloraxis\": \"coloraxis\", \"geo\": \"geo\", \"hovertemplate\": \"week=2<br>stateabbrev=%{location}<br>new_clusters=%{z}<extra></extra>\", \"locationmode\": \"USA-states\", \"locations\": [\"AL\", \"AK\", \"AZ\", \"AR\", \"CA\", \"CO\", \"CT\", \"DE\", \"DC\", \"FL\", \"GA\", \"HI\", \"ID\", \"IL\", \"IN\", \"IA\", \"KS\", \"KY\", \"LA\", \"ME\", \"MD\", \"MA\", \"MI\", \"MN\", \"MS\", \"MO\", \"MT\", \"NE\", \"NV\", \"NH\", \"NJ\", \"NM\", \"NY\", \"NC\", \"ND\", \"OH\", \"OK\", \"OR\", \"PA\", \"RI\", \"SC\", \"SD\", \"TN\", \"TX\", \"UT\", \"VT\", \"VA\", \"WA\", \"WV\", \"WI\", \"WY\"], \"name\": \"\", \"z\": [2, 1, 2, 2, 1, 1, 1, 1, 1, 1, 1, 1, 2, 1, 2, 2, 2, 2, 1, 1, 1, 1, 1, 1, 2, 2, 2, 2, 1, 1, 1, 1, 1, 1, 2, 2, 2, 1, 1, 1, 1, 3, 2, 2, 2, 1, 1, 1, 1, 1, 2], \"type\": \"choropleth\"}], \"name\": \"2\"}, {\"data\": [{\"coloraxis\": \"coloraxis\", \"geo\": \"geo\", \"hovertemplate\": \"week=3<br>stateabbrev=%{location}<br>new_clusters=%{z}<extra></extra>\", \"locationmode\": \"USA-states\", \"locations\": [\"AL\", \"AK\", \"AZ\", \"AR\", \"CA\", \"CO\", \"CT\", \"DE\", \"DC\", \"FL\", \"GA\", \"HI\", \"ID\", \"IL\", \"IN\", \"IA\", \"KS\", \"KY\", \"LA\", \"ME\", \"MD\", \"MA\", \"MI\", \"MN\", \"MS\", \"MO\", \"MT\", \"NE\", \"NV\", \"NH\", \"NJ\", \"NM\", \"NY\", \"NC\", \"ND\", \"OH\", \"OK\", \"OR\", \"PA\", \"RI\", \"SC\", \"SD\", \"TN\", \"TX\", \"UT\", \"VT\", \"VA\", \"WA\", \"WV\", \"WI\", \"WY\"], \"name\": \"\", \"z\": [2, 1, 2, 2, 1, 1, 1, 1, 1, 1, 1, 1, 2, 2, 2, 2, 2, 2, 1, 1, 1, 1, 1, 2, 2, 2, 2, 3, 1, 1, 1, 2, 1, 1, 2, 2, 2, 1, 1, 1, 2, 3, 2, 2, 2, 1, 2, 1, 2, 1, 2], \"type\": \"choropleth\"}], \"name\": \"3\"}, {\"data\": [{\"coloraxis\": \"coloraxis\", \"geo\": \"geo\", \"hovertemplate\": \"week=4<br>stateabbrev=%{location}<br>new_clusters=%{z}<extra></extra>\", \"locationmode\": \"USA-states\", \"locations\": [\"AL\", \"AK\", \"AZ\", \"AR\", \"CA\", \"CO\", \"CT\", \"DE\", \"DC\", \"FL\", \"GA\", \"HI\", \"ID\", \"IL\", \"IN\", \"IA\", \"KS\", \"KY\", \"LA\", \"ME\", \"MD\", \"MA\", \"MI\", \"MN\", \"MS\", \"MO\", \"MT\", \"NE\", \"NV\", \"NH\", \"NJ\", \"NM\", \"NY\", \"NC\", \"ND\", \"OH\", \"OK\", \"OR\", \"PA\", \"RI\", \"SC\", \"SD\", \"TN\", \"TX\", \"UT\", \"VT\", \"VA\", \"WA\", \"WV\", \"WI\", \"WY\"], \"name\": \"\", \"z\": [2, 2, 2, 3, 1, 2, 1, 1, 1, 2, 2, 1, 3, 2, 2, 2, 2, 2, 2, 1, 1, 1, 2, 2, 2, 2, 2, 3, 1, 2, 1, 1, 1, 1, 2, 2, 2, 2, 1, 1, 2, 3, 2, 2, 3, 2, 2, 1, 2, 2, 2], \"type\": \"choropleth\"}], \"name\": \"4\"}, {\"data\": [{\"coloraxis\": \"coloraxis\", \"geo\": \"geo\", \"hovertemplate\": \"week=5<br>stateabbrev=%{location}<br>new_clusters=%{z}<extra></extra>\", \"locationmode\": \"USA-states\", \"locations\": [\"AL\", \"AK\", \"AZ\", \"AR\", \"CA\", \"CO\", \"CT\", \"DE\", \"DC\", \"FL\", \"GA\", \"HI\", \"ID\", \"IL\", \"IN\", \"IA\", \"KS\", \"KY\", \"LA\", \"ME\", \"MD\", \"MA\", \"MI\", \"MN\", \"MS\", \"MO\", \"MT\", \"NE\", \"NV\", \"NH\", \"NJ\", \"NM\", \"NY\", \"NC\", \"ND\", \"OH\", \"OK\", \"OR\", \"PA\", \"RI\", \"SC\", \"SD\", \"TN\", \"TX\", \"UT\", \"VT\", \"VA\", \"WA\", \"WV\", \"WI\", \"WY\"], \"name\": \"\", \"z\": [3, 2, 2, 3, 2, 2, 2, 2, 1, 2, 2, 1, 3, 2, 2, 2, 3, 2, 2, 2, 1, 1, 2, 2, 3, 3, 3, 3, 1, 2, 1, 2, 1, 2, 3, 2, 3, 2, 2, 1, 2, 3, 3, 3, 3, 2, 2, 1, 2, 2, 2], \"type\": \"choropleth\"}], \"name\": \"5\"}, {\"data\": [{\"coloraxis\": \"coloraxis\", \"geo\": \"geo\", \"hovertemplate\": \"week=6<br>stateabbrev=%{location}<br>new_clusters=%{z}<extra></extra>\", \"locationmode\": \"USA-states\", \"locations\": [\"AL\", \"AK\", \"AZ\", \"AR\", \"CA\", \"CO\", \"CT\", \"DE\", \"DC\", \"FL\", \"GA\", \"HI\", \"ID\", \"IL\", \"IN\", \"IA\", \"KS\", \"KY\", \"LA\", \"ME\", \"MD\", \"MA\", \"MI\", \"MN\", \"MS\", \"MO\", \"MT\", \"NE\", \"NV\", \"NH\", \"NJ\", \"NM\", \"NY\", \"NC\", \"ND\", \"OH\", \"OK\", \"OR\", \"PA\", \"RI\", \"SC\", \"SD\", \"TN\", \"TX\", \"UT\", \"VT\", \"VA\", \"WA\", \"WV\", \"WI\", \"WY\"], \"name\": \"\", \"z\": [3, 2, 3, 3, 2, 2, 2, 2, 1, 2, 2, 1, 3, 2, 3, 2, 3, 2, 2, 2, 2, 1, 2, 2, 3, 3, 3, 3, 2, 4, 1, 2, 1, 2, 3, 2, 3, 2, 2, 1, 3, 3, 3, 3, 3, 2, 2, 1, 3, 2, 3], \"type\": \"choropleth\"}], \"name\": \"6\"}, {\"data\": [{\"coloraxis\": \"coloraxis\", \"geo\": \"geo\", \"hovertemplate\": \"week=7<br>stateabbrev=%{location}<br>new_clusters=%{z}<extra></extra>\", \"locationmode\": \"USA-states\", \"locations\": [\"AL\", \"AK\", \"AZ\", \"AR\", \"CA\", \"CO\", \"CT\", \"DE\", \"DC\", \"FL\", \"GA\", \"HI\", \"ID\", \"IL\", \"IN\", \"IA\", \"KS\", \"KY\", \"LA\", \"ME\", \"MD\", \"MA\", \"MI\", \"MN\", \"MS\", \"MO\", \"MT\", \"NE\", \"NV\", \"NH\", \"NJ\", \"NM\", \"NY\", \"NC\", \"ND\", \"OH\", \"OK\", \"OR\", \"PA\", \"RI\", \"SC\", \"SD\", \"TN\", \"TX\", \"UT\", \"VT\", \"VA\", \"WA\", \"WV\", \"WI\", \"WY\"], \"name\": \"\", \"z\": [3, 4, 3, 3, 2, 3, 2, 2, 1, 3, 3, 2, 3, 2, 3, 3, 3, 3, 3, 1, 2, 1, 2, 3, 3, 3, 3, 3, 2, 4, 2, 2, 1, 3, 3, 3, 3, 2, 2, 2, 3, 3, 3, 3, 3, 2, 2, 2, 3, 3, 3], \"type\": \"choropleth\"}], \"name\": \"7\"}, {\"data\": [{\"coloraxis\": \"coloraxis\", \"geo\": \"geo\", \"hovertemplate\": \"week=8<br>stateabbrev=%{location}<br>new_clusters=%{z}<extra></extra>\", \"locationmode\": \"USA-states\", \"locations\": [\"AL\", \"AK\", \"AZ\", \"AR\", \"CA\", \"CO\", \"CT\", \"DE\", \"DC\", \"FL\", \"GA\", \"HI\", \"ID\", \"IL\", \"IN\", \"IA\", \"KS\", \"KY\", \"LA\", \"ME\", \"MD\", \"MA\", \"MI\", \"MN\", \"MS\", \"MO\", \"MT\", \"NE\", \"NV\", \"NH\", \"NJ\", \"NM\", \"NY\", \"NC\", \"ND\", \"OH\", \"OK\", \"OR\", \"PA\", \"RI\", \"SC\", \"SD\", \"TN\", \"TX\", \"UT\", \"VT\", \"VA\", \"WA\", \"WV\", \"WI\", \"WY\"], \"name\": \"\", \"z\": [3, 2, 3, 3, 2, 3, 2, 2, 1, 3, 3, 2, 3, 2, 3, 3, 3, 3, 4, 2, 2, 2, 2, 3, 3, 3, 3, 3, 2, 4, 2, 2, 2, 3, 3, 3, 3, 3, 2, 2, 3, 3, 3, 3, 3, 2, 3, 2, 3, 3, 3], \"type\": \"choropleth\"}], \"name\": \"8\"}, {\"data\": [{\"coloraxis\": \"coloraxis\", \"geo\": \"geo\", \"hovertemplate\": \"week=9<br>stateabbrev=%{location}<br>new_clusters=%{z}<extra></extra>\", \"locationmode\": \"USA-states\", \"locations\": [\"AL\", \"AK\", \"AZ\", \"AR\", \"CA\", \"CO\", \"CT\", \"DE\", \"DC\", \"FL\", \"GA\", \"HI\", \"ID\", \"IL\", \"IN\", \"IA\", \"KS\", \"KY\", \"LA\", \"ME\", \"MD\", \"MA\", \"MI\", \"MN\", \"MS\", \"MO\", \"MT\", \"NE\", \"NV\", \"NH\", \"NJ\", \"NM\", \"NY\", \"NC\", \"ND\", \"OH\", \"OK\", \"OR\", \"PA\", \"RI\", \"SC\", \"SD\", \"TN\", \"TX\", \"UT\", \"VT\", \"VA\", \"WA\", \"WV\", \"WI\", \"WY\"], \"name\": \"\", \"z\": [3, 4, 4, 3, 2, 3, 4, 2, 1, 4, 3, 2, 3, 4, 4, 3, 4, 4, 4, 4, 2, 2, 4, 3, 3, 4, 3, 4, 2, 4, 2, 4, 2, 3, 3, 3, 4, 4, 2, 2, 3, 3, 3, 3, 3, 2, 4, 2, 3, 4, 3], \"type\": \"choropleth\"}], \"name\": \"9\"}, {\"data\": [{\"coloraxis\": \"coloraxis\", \"geo\": \"geo\", \"hovertemplate\": \"week=10<br>stateabbrev=%{location}<br>new_clusters=%{z}<extra></extra>\", \"locationmode\": \"USA-states\", \"locations\": [\"AL\", \"AK\", \"AZ\", \"AR\", \"CA\", \"CO\", \"CT\", \"DE\", \"DC\", \"FL\", \"GA\", \"HI\", \"ID\", \"IL\", \"IN\", \"IA\", \"KS\", \"KY\", \"LA\", \"ME\", \"MD\", \"MA\", \"MI\", \"MN\", \"MS\", \"MO\", \"MT\", \"NE\", \"NV\", \"NH\", \"NJ\", \"NM\", \"NY\", \"NC\", \"ND\", \"OH\", \"OK\", \"OR\", \"PA\", \"RI\", \"SC\", \"SD\", \"TN\", \"TX\", \"UT\", \"VT\", \"VA\", \"WA\", \"WV\", \"WI\", \"WY\"], \"name\": \"\", \"z\": [3, 4, 2, 3, 2, 3, 4, 2, 1, 3, 3, 2, 3, 4, 4, 3, 4, 4, 4, 4, 2, 2, 4, 3, 3, 4, 4, 3, 2, 4, 2, 3, 2, 3, 3, 3, 4, 4, 2, 4, 3, 3, 3, 4, 3, 4, 3, 2, 3, 4, 3], \"type\": \"choropleth\"}], \"name\": \"10\"}, {\"data\": [{\"coloraxis\": \"coloraxis\", \"geo\": \"geo\", \"hovertemplate\": \"week=11<br>stateabbrev=%{location}<br>new_clusters=%{z}<extra></extra>\", \"locationmode\": \"USA-states\", \"locations\": [\"AL\", \"AK\", \"AZ\", \"AR\", \"CA\", \"CO\", \"CT\", \"DE\", \"DC\", \"FL\", \"GA\", \"HI\", \"ID\", \"IL\", \"IN\", \"IA\", \"KS\", \"KY\", \"LA\", \"ME\", \"MD\", \"MA\", \"MI\", \"MN\", \"MS\", \"MO\", \"MT\", \"NE\", \"NV\", \"NH\", \"NJ\", \"NM\", \"NY\", \"NC\", \"ND\", \"OH\", \"OK\", \"OR\", \"PA\", \"RI\", \"SC\", \"SD\", \"TN\", \"TX\", \"UT\", \"VT\", \"VA\", \"WA\", \"WV\", \"WI\", \"WY\"], \"name\": \"\", \"z\": [3, 4, 2, 3, 2, 3, 4, 3, 1, 3, 3, 2, 3, 4, 4, 3, 4, 4, 4, 4, 4, 4, 4, 3, 3, 3, 4, 4, 4, 4, 4, 3, 2, 3, 3, 3, 4, 4, 4, 4, 3, 3, 3, 3, 3, 2, 3, 3, 3, 4, 3], \"type\": \"choropleth\"}], \"name\": \"11\"}, {\"data\": [{\"coloraxis\": \"coloraxis\", \"geo\": \"geo\", \"hovertemplate\": \"week=12<br>stateabbrev=%{location}<br>new_clusters=%{z}<extra></extra>\", \"locationmode\": \"USA-states\", \"locations\": [\"AL\", \"AK\", \"AZ\", \"AR\", \"CA\", \"CO\", \"CT\", \"DE\", \"DC\", \"FL\", \"GA\", \"HI\", \"ID\", \"IL\", \"IN\", \"IA\", \"KS\", \"KY\", \"LA\", \"ME\", \"MD\", \"MA\", \"MI\", \"MN\", \"MS\", \"MO\", \"MT\", \"NE\", \"NV\", \"NH\", \"NJ\", \"NM\", \"NY\", \"NC\", \"ND\", \"OH\", \"OK\", \"OR\", \"PA\", \"RI\", \"SC\", \"SD\", \"TN\", \"TX\", \"UT\", \"VT\", \"VA\", \"WA\", \"WV\", \"WI\", \"WY\"], \"name\": \"\", \"z\": [4, 4, 4, 3, 4, 4, 4, 3, 1, 4, 4, 2, 3, 4, 4, 4, 4, 4, 4, 4, 4, 4, 4, 4, 3, 4, 3, 4, 2, 4, 4, 4, 2, 4, 3, 3, 4, 4, 4, 4, 3, 3, 4, 4, 3, 4, 4, 4, 3, 4, 3], \"type\": \"choropleth\"}], \"name\": \"12\"}, {\"data\": [{\"coloraxis\": \"coloraxis\", \"geo\": \"geo\", \"hovertemplate\": \"week=13<br>stateabbrev=%{location}<br>new_clusters=%{z}<extra></extra>\", \"locationmode\": \"USA-states\", \"locations\": [\"AL\", \"AK\", \"AZ\", \"AR\", \"CA\", \"CO\", \"CT\", \"DE\", \"DC\", \"FL\", \"GA\", \"HI\", \"ID\", \"IL\", \"IN\", \"IA\", \"KS\", \"KY\", \"LA\", \"ME\", \"MD\", \"MA\", \"MI\", \"MN\", \"MS\", \"MO\", \"MT\", \"NE\", \"NV\", \"NH\", \"NJ\", \"NM\", \"NY\", \"NC\", \"ND\", \"OH\", \"OK\", \"OR\", \"PA\", \"RI\", \"SC\", \"SD\", \"TN\", \"TX\", \"UT\", \"VT\", \"VA\", \"WA\", \"WV\", \"WI\", \"WY\"], \"name\": \"\", \"z\": [3, 4, 3, 3, 3, 3, 3, 3, 1, 3, 3, 2, 3, 3, 4, 3, 3, 3, 4, 4, 4, 4, 3, 3, 3, 3, 4, 3, 2, 4, 4, 3, 2, 3, 3, 3, 3, 3, 3, 4, 3, 3, 3, 3, 3, 4, 3, 3, 3, 3, 4], \"type\": \"choropleth\"}], \"name\": \"13\"}, {\"data\": [{\"coloraxis\": \"coloraxis\", \"geo\": \"geo\", \"hovertemplate\": \"week=14<br>stateabbrev=%{location}<br>new_clusters=%{z}<extra></extra>\", \"locationmode\": \"USA-states\", \"locations\": [\"AL\", \"AK\", \"AZ\", \"AR\", \"CA\", \"CO\", \"CT\", \"DE\", \"DC\", \"FL\", \"GA\", \"HI\", \"ID\", \"IL\", \"IN\", \"IA\", \"KS\", \"KY\", \"LA\", \"ME\", \"MD\", \"MA\", \"MI\", \"MN\", \"MS\", \"MO\", \"MT\", \"NE\", \"NV\", \"NH\", \"NJ\", \"NM\", \"NY\", \"NC\", \"ND\", \"OH\", \"OK\", \"OR\", \"PA\", \"RI\", \"SC\", \"SD\", \"TN\", \"TX\", \"UT\", \"VT\", \"VA\", \"WA\", \"WV\", \"WI\", \"WY\"], \"name\": \"\", \"z\": [3, 2, 3, 3, 2, 3, 4, 3, 1, 3, 4, 2, 3, 3, 4, 3, 3, 3, 3, 4, 3, 4, 3, 3, 3, 3, 3, 3, 2, 4, 3, 3, 2, 3, 3, 3, 3, 3, 3, 2, 3, 3, 3, 3, 3, 4, 3, 3, 3, 3, 3], \"type\": \"choropleth\"}], \"name\": \"14\"}, {\"data\": [{\"coloraxis\": \"coloraxis\", \"geo\": \"geo\", \"hovertemplate\": \"week=15<br>stateabbrev=%{location}<br>new_clusters=%{z}<extra></extra>\", \"locationmode\": \"USA-states\", \"locations\": [\"AL\", \"AK\", \"AZ\", \"AR\", \"CA\", \"CO\", \"CT\", \"DE\", \"DC\", \"FL\", \"GA\", \"HI\", \"ID\", \"IL\", \"IN\", \"IA\", \"KS\", \"KY\", \"LA\", \"ME\", \"MD\", \"MA\", \"MI\", \"MN\", \"MS\", \"MO\", \"MT\", \"NE\", \"NV\", \"NH\", \"NJ\", \"NM\", \"NY\", \"NC\", \"ND\", \"OH\", \"OK\", \"OR\", \"PA\", \"RI\", \"SC\", \"SD\", \"TN\", \"TX\", \"UT\", \"VT\", \"VA\", \"WA\", \"WV\", \"WI\", \"WY\"], \"name\": \"\", \"z\": [3, 4, 3, 3, 2, 3, 4, 3, 1, 4, 4, 2, 3, 4, 4, 3, 4, 4, 3, 4, 3, 4, 4, 3, 3, 4, 3, 3, 4, 2, 3, 3, 2, 3, 3, 3, 4, 3, 3, 2, 3, 3, 3, 4, 3, 4, 3, 3, 3, 4, 3], \"type\": \"choropleth\"}], \"name\": \"15\"}, {\"data\": [{\"coloraxis\": \"coloraxis\", \"geo\": \"geo\", \"hovertemplate\": \"week=16<br>stateabbrev=%{location}<br>new_clusters=%{z}<extra></extra>\", \"locationmode\": \"USA-states\", \"locations\": [\"AL\", \"AK\", \"AZ\", \"AR\", \"CA\", \"CO\", \"CT\", \"DE\", \"DC\", \"FL\", \"GA\", \"HI\", \"ID\", \"IL\", \"IN\", \"IA\", \"KS\", \"KY\", \"LA\", \"ME\", \"MD\", \"MA\", \"MI\", \"MN\", \"MS\", \"MO\", \"MT\", \"NE\", \"NV\", \"NH\", \"NJ\", \"NM\", \"NY\", \"NC\", \"ND\", \"OH\", \"OK\", \"OR\", \"PA\", \"RI\", \"SC\", \"SD\", \"TN\", \"TX\", \"UT\", \"VT\", \"VA\", \"WA\", \"WV\", \"WI\", \"WY\"], \"name\": \"\", \"z\": [4, 4, 3, 3, 2, 3, 4, 3, 1, 3, 3, 2, 4, 3, 4, 3, 3, 4, 4, 4, 3, 4, 4, 4, 4, 4, 4, 3, 2, 4, 4, 3, 4, 3, 3, 3, 4, 3, 3, 4, 3, 3, 3, 3, 3, 4, 3, 3, 4, 3, 3], \"type\": \"choropleth\"}], \"name\": \"16\"}, {\"data\": [{\"coloraxis\": \"coloraxis\", \"geo\": \"geo\", \"hovertemplate\": \"week=17<br>stateabbrev=%{location}<br>new_clusters=%{z}<extra></extra>\", \"locationmode\": \"USA-states\", \"locations\": [\"AL\", \"AK\", \"AZ\", \"AR\", \"CA\", \"CO\", \"CT\", \"DE\", \"DC\", \"FL\", \"GA\", \"HI\", \"ID\", \"IL\", \"IN\", \"IA\", \"KS\", \"KY\", \"LA\", \"ME\", \"MD\", \"MA\", \"MI\", \"MN\", \"MS\", \"MO\", \"MT\", \"NE\", \"NV\", \"NH\", \"NJ\", \"NM\", \"NY\", \"NC\", \"ND\", \"OH\", \"OK\", \"OR\", \"PA\", \"RI\", \"SC\", \"SD\", \"TN\", \"TX\", \"UT\", \"VT\", \"VA\", \"WA\", \"WV\", \"WI\", \"WY\"], \"name\": \"\", \"z\": [3, 4, 3, 3, 2, 3, 4, 3, 1, 4, 4, 2, 4, 3, 4, 3, 4, 3, 4, 4, 4, 4, 4, 3, 4, 4, 4, 3, 2, 4, 4, 3, 4, 3, 3, 3, 4, 3, 3, 4, 4, 3, 3, 4, 3, 3, 3, 3, 3, 3, 3], \"type\": \"choropleth\"}], \"name\": \"17\"}, {\"data\": [{\"coloraxis\": \"coloraxis\", \"geo\": \"geo\", \"hovertemplate\": \"week=18<br>stateabbrev=%{location}<br>new_clusters=%{z}<extra></extra>\", \"locationmode\": \"USA-states\", \"locations\": [\"AL\", \"AK\", \"AZ\", \"AR\", \"CA\", \"CO\", \"CT\", \"DE\", \"DC\", \"FL\", \"GA\", \"HI\", \"ID\", \"IL\", \"IN\", \"IA\", \"KS\", \"KY\", \"LA\", \"ME\", \"MD\", \"MA\", \"MI\", \"MN\", \"MS\", \"MO\", \"MT\", \"NE\", \"NV\", \"NH\", \"NJ\", \"NM\", \"NY\", \"NC\", \"ND\", \"OH\", \"OK\", \"OR\", \"PA\", \"RI\", \"SC\", \"SD\", \"TN\", \"TX\", \"UT\", \"VT\", \"VA\", \"WA\", \"WV\", \"WI\", \"WY\"], \"name\": \"\", \"z\": [4, 4, 4, 3, 4, 4, 4, 4, 1, 4, 4, 2, 4, 4, 4, 4, 4, 4, 4, 4, 4, 4, 4, 3, 3, 4, 4, 3, 2, 4, 4, 3, 4, 4, 3, 4, 4, 4, 4, 4, 3, 4, 4, 4, 4, 3, 4, 4, 3, 4, 4], \"type\": \"choropleth\"}], \"name\": \"18\"}, {\"data\": [{\"coloraxis\": \"coloraxis\", \"geo\": \"geo\", \"hovertemplate\": \"week=19<br>stateabbrev=%{location}<br>new_clusters=%{z}<extra></extra>\", \"locationmode\": \"USA-states\", \"locations\": [\"AL\", \"AK\", \"AZ\", \"AR\", \"CA\", \"CO\", \"CT\", \"DE\", \"DC\", \"FL\", \"GA\", \"HI\", \"ID\", \"IL\", \"IN\", \"IA\", \"KS\", \"KY\", \"LA\", \"ME\", \"MD\", \"MA\", \"MI\", \"MN\", \"MS\", \"MO\", \"MT\", \"NE\", \"NV\", \"NH\", \"NJ\", \"NM\", \"NY\", \"NC\", \"ND\", \"OH\", \"OK\", \"OR\", \"PA\", \"RI\", \"SC\", \"SD\", \"TN\", \"TX\", \"UT\", \"VT\", \"VA\", \"WA\", \"WV\", \"WI\", \"WY\"], \"name\": \"\", \"z\": [3, 4, 3, 3, 2, 3, 4, 3, 1, 4, 4, 2, 4, 4, 4, 4, 3, 4, 4, 4, 3, 4, 4, 3, 3, 3, 3, 3, 2, 4, 3, 3, 2, 3, 3, 3, 4, 3, 3, 2, 3, 3, 3, 2, 3, 4, 3, 4, 3, 4, 3], \"type\": \"choropleth\"}], \"name\": \"19\"}, {\"data\": [{\"coloraxis\": \"coloraxis\", \"geo\": \"geo\", \"hovertemplate\": \"week=20<br>stateabbrev=%{location}<br>new_clusters=%{z}<extra></extra>\", \"locationmode\": \"USA-states\", \"locations\": [\"AL\", \"AK\", \"AZ\", \"AR\", \"CA\", \"CO\", \"CT\", \"DE\", \"DC\", \"FL\", \"GA\", \"HI\", \"ID\", \"IL\", \"IN\", \"IA\", \"KS\", \"KY\", \"LA\", \"ME\", \"MD\", \"MA\", \"MI\", \"MN\", \"MS\", \"MO\", \"MT\", \"NE\", \"NV\", \"NH\", \"NJ\", \"NM\", \"NY\", \"NC\", \"ND\", \"OH\", \"OK\", \"OR\", \"PA\", \"RI\", \"SC\", \"SD\", \"TN\", \"TX\", \"UT\", \"VT\", \"VA\", \"WA\", \"WV\", \"WI\", \"WY\"], \"name\": \"\", \"z\": [4, 4, 4, 4, 2, 4, 4, 4, 1, 4, 4, 2, 4, 4, 4, 4, 4, 4, 4, 4, 4, 4, 4, 3, 4, 4, 3, 3, 3, 4, 4, 3, 4, 3, 3, 4, 4, 3, 4, 4, 3, 3, 3, 4, 3, 4, 4, 3, 4, 4, 4], \"type\": \"choropleth\"}], \"name\": \"20\"}, {\"data\": [{\"coloraxis\": \"coloraxis\", \"geo\": \"geo\", \"hovertemplate\": \"week=21<br>stateabbrev=%{location}<br>new_clusters=%{z}<extra></extra>\", \"locationmode\": \"USA-states\", \"locations\": [\"AL\", \"AK\", \"AZ\", \"AR\", \"CA\", \"CO\", \"CT\", \"DE\", \"DC\", \"FL\", \"GA\", \"HI\", \"ID\", \"IL\", \"IN\", \"IA\", \"KS\", \"KY\", \"LA\", \"ME\", \"MD\", \"MA\", \"MI\", \"MN\", \"MS\", \"MO\", \"MT\", \"NE\", \"NV\", \"NH\", \"NJ\", \"NM\", \"NY\", \"NC\", \"ND\", \"OH\", \"OK\", \"OR\", \"PA\", \"RI\", \"SC\", \"SD\", \"TN\", \"TX\", \"UT\", \"VT\", \"VA\", \"WA\", \"WV\", \"WI\", \"WY\"], \"name\": \"\", \"z\": [4, 4, 4, 4, 2, 4, 4, 4, 1, 4, 4, 2, 4, 4, 4, 4, 4, 4, 4, 4, 4, 4, 4, 4, 4, 4, 3, 3, 3, 4, 4, 4, 4, 3, 3, 3, 4, 3, 4, 2, 3, 3, 3, 4, 3, 4, 4, 3, 4, 4, 4], \"type\": \"choropleth\"}], \"name\": \"21\"}, {\"data\": [{\"coloraxis\": \"coloraxis\", \"geo\": \"geo\", \"hovertemplate\": \"week=22<br>stateabbrev=%{location}<br>new_clusters=%{z}<extra></extra>\", \"locationmode\": \"USA-states\", \"locations\": [\"AL\", \"AK\", \"AZ\", \"AR\", \"CA\", \"CO\", \"CT\", \"DE\", \"DC\", \"FL\", \"GA\", \"HI\", \"ID\", \"IL\", \"IN\", \"IA\", \"KS\", \"KY\", \"LA\", \"ME\", \"MD\", \"MA\", \"MI\", \"MN\", \"MS\", \"MO\", \"MT\", \"NE\", \"NV\", \"NH\", \"NJ\", \"NM\", \"NY\", \"NC\", \"ND\", \"OH\", \"OK\", \"OR\", \"PA\", \"RI\", \"SC\", \"SD\", \"TN\", \"TX\", \"UT\", \"VT\", \"VA\", \"WA\", \"WV\", \"WI\", \"WY\"], \"name\": \"\", \"z\": [4, 4, 4, 4, 2, 4, 4, 4, 1, 3, 4, 2, 4, 4, 4, 4, 4, 4, 2, 4, 4, 4, 4, 3, 4, 4, 4, 3, 3, 4, 4, 4, 4, 3, 3, 3, 4, 4, 4, 2, 3, 4, 3, 4, 3, 4, 3, 3, 4, 4, 4], \"type\": \"choropleth\"}], \"name\": \"22\"}, {\"data\": [{\"coloraxis\": \"coloraxis\", \"geo\": \"geo\", \"hovertemplate\": \"week=23<br>stateabbrev=%{location}<br>new_clusters=%{z}<extra></extra>\", \"locationmode\": \"USA-states\", \"locations\": [\"AL\", \"AK\", \"AZ\", \"AR\", \"CA\", \"CO\", \"CT\", \"DE\", \"DC\", \"FL\", \"GA\", \"HI\", \"ID\", \"IL\", \"IN\", \"IA\", \"KS\", \"KY\", \"LA\", \"ME\", \"MD\", \"MA\", \"MI\", \"MN\", \"MS\", \"MO\", \"MT\", \"NE\", \"NV\", \"NH\", \"NJ\", \"NM\", \"NY\", \"NC\", \"ND\", \"OH\", \"OK\", \"OR\", \"PA\", \"RI\", \"SC\", \"SD\", \"TN\", \"TX\", \"UT\", \"VT\", \"VA\", \"WA\", \"WV\", \"WI\", \"WY\"], \"name\": \"\", \"z\": [4, 4, 2, 3, 2, 4, 4, 3, 1, 3, 4, 1, 3, 4, 4, 3, 4, 4, 2, 4, 3, 4, 4, 3, 4, 3, 3, 3, 3, 4, 4, 3, 3, 3, 3, 4, 4, 3, 3, 4, 3, 4, 3, 4, 3, 4, 3, 3, 4, 4, 4], \"type\": \"choropleth\"}], \"name\": \"23\"}, {\"data\": [{\"coloraxis\": \"coloraxis\", \"geo\": \"geo\", \"hovertemplate\": \"week=24<br>stateabbrev=%{location}<br>new_clusters=%{z}<extra></extra>\", \"locationmode\": \"USA-states\", \"locations\": [\"AL\", \"AK\", \"AZ\", \"AR\", \"CA\", \"CO\", \"CT\", \"DE\", \"DC\", \"FL\", \"GA\", \"HI\", \"ID\", \"IL\", \"IN\", \"IA\", \"KS\", \"KY\", \"LA\", \"ME\", \"MD\", \"MA\", \"MI\", \"MN\", \"MS\", \"MO\", \"MT\", \"NE\", \"NV\", \"NH\", \"NJ\", \"NM\", \"NY\", \"NC\", \"ND\", \"OH\", \"OK\", \"OR\", \"PA\", \"RI\", \"SC\", \"SD\", \"TN\", \"TX\", \"UT\", \"VT\", \"VA\", \"WA\", \"WV\", \"WI\", \"WY\"], \"name\": \"\", \"z\": [4, 4, 2, 4, 4, 4, 4, 4, 1, 4, 4, 1, 4, 4, 4, 4, 4, 4, 4, 4, 4, 4, 4, 4, 4, 4, 4, 4, 4, 4, 4, 4, 4, 3, 3, 4, 4, 4, 3, 4, 3, 4, 4, 4, 3, 4, 4, 4, 4, 4, 4], \"type\": \"choropleth\"}], \"name\": \"24\"}, {\"data\": [{\"coloraxis\": \"coloraxis\", \"geo\": \"geo\", \"hovertemplate\": \"week=25<br>stateabbrev=%{location}<br>new_clusters=%{z}<extra></extra>\", \"locationmode\": \"USA-states\", \"locations\": [\"AL\", \"AK\", \"AZ\", \"AR\", \"CA\", \"CO\", \"CT\", \"DE\", \"DC\", \"FL\", \"GA\", \"HI\", \"ID\", \"IL\", \"IN\", \"IA\", \"KS\", \"KY\", \"LA\", \"ME\", \"MD\", \"MA\", \"MI\", \"MN\", \"MS\", \"MO\", \"MT\", \"NE\", \"NV\", \"NH\", \"NJ\", \"NM\", \"NY\", \"NC\", \"ND\", \"OH\", \"OK\", \"OR\", \"PA\", \"RI\", \"SC\", \"SD\", \"TN\", \"TX\", \"UT\", \"VT\", \"VA\", \"WA\", \"WV\", \"WI\", \"WY\"], \"name\": \"\", \"z\": [4, 4, 4, 4, 3, 3, 4, 4, 1, 4, 4, 2, 4, 4, 4, 4, 4, 4, 2, 4, 3, 4, 4, 3, 4, 3, 3, 3, 3, 4, 4, 3, 3, 3, 3, 3, 4, 3, 4, 4, 3, 3, 3, 4, 4, 4, 4, 4, 3, 4, 4], \"type\": \"choropleth\"}], \"name\": \"25\"}]);\n",
       "                        }).then(function(){\n",
       "                            \n",
       "var gd = document.getElementById('9966ed3c-2074-4f5d-9fa6-46d90af0410e');\n",
       "var x = new MutationObserver(function (mutations, observer) {{\n",
       "        var display = window.getComputedStyle(gd).display;\n",
       "        if (!display || display === 'none') {{\n",
       "            console.log([gd, 'removed!']);\n",
       "            Plotly.purge(gd);\n",
       "            observer.disconnect();\n",
       "        }}\n",
       "}});\n",
       "\n",
       "// Listen for the removal of the full notebook cells\n",
       "var notebookContainer = gd.closest('#notebook-container');\n",
       "if (notebookContainer) {{\n",
       "    x.observe(notebookContainer, {childList: true});\n",
       "}}\n",
       "\n",
       "// Listen for the clearing of the current output cell\n",
       "var outputEl = gd.closest('.output');\n",
       "if (outputEl) {{\n",
       "    x.observe(outputEl, {childList: true});\n",
       "}}\n",
       "\n",
       "                        })                };                });            </script>        </div>"
      ]
     },
     "metadata": {},
     "output_type": "display_data"
    },
    {
     "data": {
      "application/javascript": [
       "\n",
       "            setTimeout(function() {\n",
       "                var nbb_cell_id = 19;\n",
       "                var nbb_unformatted_code = \"fig = px.choropleth(\\n    econ_df_merged,\\n    locations=\\\"stateabbrev\\\",\\n    color=\\\"new_clusters\\\",\\n    animation_frame=\\\"week\\\",\\n    color_continuous_scale=\\\"spectral\\\",\\n    locationmode=\\\"USA-states\\\",\\n    scope=\\\"usa\\\",\\n    range_color=(1, 4),\\n    title=\\\"Economic Status After COVID by Week per State\\\",\\n    height=600,\\n)\\n\\nfig.update_layout(\\n    coloraxis_colorbar=dict(\\n        title=\\\"Cluster Number\\\",\\n        tickvals=[1, 2, 3, 4],\\n        ticktext=[\\n            \\\"1- Severely unstable\\\",\\n            \\\"2- Moderately unstable\\\",\\n            \\\"3- Stabilizing/low small business growth\\\",\\n            \\\"4- Stabilizing/low job posting\\\",\\n        ],\\n        lenmode=\\\"pixels\\\",\\n        len=200,\\n    )\\n)\\n\\nfig.show()\";\n",
       "                var nbb_formatted_code = \"fig = px.choropleth(\\n    econ_df_merged,\\n    locations=\\\"stateabbrev\\\",\\n    color=\\\"new_clusters\\\",\\n    animation_frame=\\\"week\\\",\\n    color_continuous_scale=\\\"spectral\\\",\\n    locationmode=\\\"USA-states\\\",\\n    scope=\\\"usa\\\",\\n    range_color=(1, 4),\\n    title=\\\"Economic Status After COVID by Week per State\\\",\\n    height=600,\\n)\\n\\nfig.update_layout(\\n    coloraxis_colorbar=dict(\\n        title=\\\"Cluster Number\\\",\\n        tickvals=[1, 2, 3, 4],\\n        ticktext=[\\n            \\\"1- Severely unstable\\\",\\n            \\\"2- Moderately unstable\\\",\\n            \\\"3- Stabilizing/low small business growth\\\",\\n            \\\"4- Stabilizing/low job posting\\\",\\n        ],\\n        lenmode=\\\"pixels\\\",\\n        len=200,\\n    )\\n)\\n\\nfig.show()\";\n",
       "                var nbb_cells = Jupyter.notebook.get_cells();\n",
       "                for (var i = 0; i < nbb_cells.length; ++i) {\n",
       "                    if (nbb_cells[i].input_prompt_number == nbb_cell_id) {\n",
       "                        if (nbb_cells[i].get_text() == nbb_unformatted_code) {\n",
       "                             nbb_cells[i].set_text(nbb_formatted_code);\n",
       "                        }\n",
       "                        break;\n",
       "                    }\n",
       "                }\n",
       "            }, 500);\n",
       "            "
      ],
      "text/plain": [
       "<IPython.core.display.Javascript object>"
      ]
     },
     "metadata": {},
     "output_type": "display_data"
    }
   ],
   "source": [
    "fig = px.choropleth(\n",
    "    econ_df_merged,\n",
    "    locations=\"stateabbrev\",\n",
    "    color=\"new_clusters\",\n",
    "    animation_frame=\"week\",\n",
    "    color_continuous_scale=\"spectral\",\n",
    "    locationmode=\"USA-states\",\n",
    "    scope=\"usa\",\n",
    "    range_color=(1, 4),\n",
    "    title=\"Economic Status After COVID by Week per State\",\n",
    "    height=600,\n",
    ")\n",
    "\n",
    "fig.update_layout(\n",
    "    coloraxis_colorbar=dict(\n",
    "        title=\"Cluster Number\",\n",
    "        tickvals=[1, 2, 3, 4],\n",
    "        ticktext=[\n",
    "            \"1- Severely unstable\",\n",
    "            \"2- Moderately unstable\",\n",
    "            \"3- Stabilizing/low small business growth\",\n",
    "            \"4- Stabilizing/low job posting\",\n",
    "        ],\n",
    "        lenmode=\"pixels\",\n",
    "        len=200,\n",
    "    )\n",
    ")\n",
    "\n",
    "fig.show()"
   ]
  }
 ],
 "metadata": {
  "celltoolbar": "Slideshow",
  "colab": {
   "name": "OIET_EDA_v2.ipynb",
   "provenance": []
  },
  "kernelspec": {
   "display_name": "Python 3",
   "language": "python",
   "name": "python3"
  },
  "language_info": {
   "codemirror_mode": {
    "name": "ipython",
    "version": 3
   },
   "file_extension": ".py",
   "mimetype": "text/x-python",
   "name": "python",
   "nbconvert_exporter": "python",
   "pygments_lexer": "ipython3",
   "version": "3.8.5"
  },
  "toc": {
   "base_numbering": 1,
   "nav_menu": {},
   "number_sections": true,
   "sideBar": true,
   "skip_h1_title": true,
   "title_cell": "Table of Contents",
   "title_sidebar": "Clustering State Level COVID Economic Metrics",
   "toc_cell": false,
   "toc_position": {
    "height": "calc(100% - 180px)",
    "left": "10px",
    "top": "150px",
    "width": "165px"
   },
   "toc_section_display": true,
   "toc_window_display": false
  },
  "widgets": {
   "application/vnd.jupyter.widget-state+json": {
    "0a652abcd17346ae931b7499dc9ee2ac": {
     "model_module": "@jupyter-widgets/base",
     "model_name": "LayoutModel",
     "state": {
      "_model_module": "@jupyter-widgets/base",
      "_model_module_version": "1.2.0",
      "_model_name": "LayoutModel",
      "_view_count": null,
      "_view_module": "@jupyter-widgets/base",
      "_view_module_version": "1.2.0",
      "_view_name": "LayoutView",
      "align_content": null,
      "align_items": null,
      "align_self": null,
      "border": null,
      "bottom": null,
      "display": null,
      "flex": null,
      "flex_flow": null,
      "grid_area": null,
      "grid_auto_columns": null,
      "grid_auto_flow": null,
      "grid_auto_rows": null,
      "grid_column": null,
      "grid_gap": null,
      "grid_row": null,
      "grid_template_areas": null,
      "grid_template_columns": null,
      "grid_template_rows": null,
      "height": null,
      "justify_content": null,
      "justify_items": null,
      "left": null,
      "margin": null,
      "max_height": null,
      "max_width": null,
      "min_height": null,
      "min_width": null,
      "object_fit": null,
      "object_position": null,
      "order": null,
      "overflow": null,
      "overflow_x": null,
      "overflow_y": null,
      "padding": null,
      "right": null,
      "top": null,
      "visibility": null,
      "width": null
     }
    },
    "1412a8dec58947ff9b366df80e87453e": {
     "model_module": "@jupyter-widgets/base",
     "model_name": "LayoutModel",
     "state": {
      "_model_module": "@jupyter-widgets/base",
      "_model_module_version": "1.2.0",
      "_model_name": "LayoutModel",
      "_view_count": null,
      "_view_module": "@jupyter-widgets/base",
      "_view_module_version": "1.2.0",
      "_view_name": "LayoutView",
      "align_content": null,
      "align_items": null,
      "align_self": null,
      "border": null,
      "bottom": null,
      "display": null,
      "flex": null,
      "flex_flow": null,
      "grid_area": null,
      "grid_auto_columns": null,
      "grid_auto_flow": null,
      "grid_auto_rows": null,
      "grid_column": null,
      "grid_gap": null,
      "grid_row": null,
      "grid_template_areas": null,
      "grid_template_columns": null,
      "grid_template_rows": null,
      "height": null,
      "justify_content": null,
      "justify_items": null,
      "left": null,
      "margin": null,
      "max_height": null,
      "max_width": null,
      "min_height": null,
      "min_width": null,
      "object_fit": null,
      "object_position": null,
      "order": null,
      "overflow": null,
      "overflow_x": null,
      "overflow_y": null,
      "padding": null,
      "right": null,
      "top": null,
      "visibility": null,
      "width": null
     }
    },
    "2eacc9c6d39046cab8e55fd5a3d675e7": {
     "model_module": "@jupyter-widgets/controls",
     "model_name": "DescriptionStyleModel",
     "state": {
      "_model_module": "@jupyter-widgets/controls",
      "_model_module_version": "1.5.0",
      "_model_name": "DescriptionStyleModel",
      "_view_count": null,
      "_view_module": "@jupyter-widgets/base",
      "_view_module_version": "1.2.0",
      "_view_name": "StyleView",
      "description_width": ""
     }
    },
    "3ad23e3bb34549a496459818226b3ba2": {
     "model_module": "@jupyter-widgets/controls",
     "model_name": "DropdownModel",
     "state": {
      "_dom_classes": [],
      "_model_module": "@jupyter-widgets/controls",
      "_model_module_version": "1.5.0",
      "_model_name": "DropdownModel",
      "_options_labels": [
       "0.0",
       "0.05",
       "0.1",
       "0.15000000000000002",
       "0.2",
       "0.25",
       "0.30000000000000004",
       "0.35000000000000003",
       "0.4",
       "0.45",
       "0.5",
       "0.55",
       "0.6000000000000001",
       "0.65",
       "0.7000000000000001",
       "0.75",
       "0.8",
       "0.8500000000000001",
       "0.9",
       "0.9500000000000001"
      ],
      "_view_count": null,
      "_view_module": "@jupyter-widgets/controls",
      "_view_module_version": "1.5.0",
      "_view_name": "DropdownView",
      "description": "min_dist",
      "description_tooltip": null,
      "disabled": false,
      "index": 5,
      "layout": "IPY_MODEL_0a652abcd17346ae931b7499dc9ee2ac",
      "style": "IPY_MODEL_2eacc9c6d39046cab8e55fd5a3d675e7"
     }
    },
    "439a7a23a1ac41bda2b381a697323fec": {
     "model_module": "@jupyter-widgets/controls",
     "model_name": "DescriptionStyleModel",
     "state": {
      "_model_module": "@jupyter-widgets/controls",
      "_model_module_version": "1.5.0",
      "_model_name": "DescriptionStyleModel",
      "_view_count": null,
      "_view_module": "@jupyter-widgets/base",
      "_view_module_version": "1.2.0",
      "_view_name": "StyleView",
      "description_width": ""
     }
    },
    "5ab1ec6dbe114f83b6eaadd940c519a8": {
     "model_module": "@jupyter-widgets/base",
     "model_name": "LayoutModel",
     "state": {
      "_model_module": "@jupyter-widgets/base",
      "_model_module_version": "1.2.0",
      "_model_name": "LayoutModel",
      "_view_count": null,
      "_view_module": "@jupyter-widgets/base",
      "_view_module_version": "1.2.0",
      "_view_name": "LayoutView",
      "align_content": null,
      "align_items": null,
      "align_self": null,
      "border": null,
      "bottom": null,
      "display": null,
      "flex": null,
      "flex_flow": null,
      "grid_area": null,
      "grid_auto_columns": null,
      "grid_auto_flow": null,
      "grid_auto_rows": null,
      "grid_column": null,
      "grid_gap": null,
      "grid_row": null,
      "grid_template_areas": null,
      "grid_template_columns": null,
      "grid_template_rows": null,
      "height": null,
      "justify_content": null,
      "justify_items": null,
      "left": null,
      "margin": null,
      "max_height": null,
      "max_width": null,
      "min_height": null,
      "min_width": null,
      "object_fit": null,
      "object_position": null,
      "order": null,
      "overflow": null,
      "overflow_x": null,
      "overflow_y": null,
      "padding": null,
      "right": null,
      "top": null,
      "visibility": null,
      "width": null
     }
    },
    "5dbe93d3c89f4b63a98aef6959243709": {
     "model_module": "@jupyter-widgets/output",
     "model_name": "OutputModel",
     "state": {
      "_dom_classes": [],
      "_model_module": "@jupyter-widgets/output",
      "_model_module_version": "1.0.0",
      "_model_name": "OutputModel",
      "_view_count": null,
      "_view_module": "@jupyter-widgets/output",
      "_view_module_version": "1.0.0",
      "_view_name": "OutputView",
      "layout": "IPY_MODEL_b638ee69adee4b10bc36cb0750aba942",
      "msg_id": "",
      "outputs": [
       {
        "metadata": {
         "tags": []
        },
        "output_type": "display_data",
        "text/html": "<html>\n<head><meta charset=\"utf-8\" /></head>\n<body>\n    <div>\n            <script src=\"https://cdnjs.cloudflare.com/ajax/libs/mathjax/2.7.5/MathJax.js?config=TeX-AMS-MML_SVG\"></script><script type=\"text/javascript\">if (window.MathJax) {MathJax.Hub.Config({SVG: {font: \"STIX-Web\"}});}</script>\n                <script type=\"text/javascript\">window.PlotlyConfig = {MathJaxConfig: 'local'};</script>\n        <script src=\"https://cdn.plot.ly/plotly-latest.min.js\"></script>    \n            <div id=\"33b23c31-5e37-46b5-bcb3-491709498a3c\" class=\"plotly-graph-div\" style=\"height:525px; width:100%;\"></div>\n            <script type=\"text/javascript\">\n                \n                    window.PLOTLYENV=window.PLOTLYENV || {};\n                    \n                if (document.getElementById(\"33b23c31-5e37-46b5-bcb3-491709498a3c\")) {\n                    Plotly.newPlot(\n                        '33b23c31-5e37-46b5-bcb3-491709498a3c',\n                        [{\"colorbar\": {\"len\": 200, \"lenmode\": \"pixels\", \"ticktext\": [\"0- Unstable\", \"1- Stabilizing/low job posting\", \"2- Stabilizing/low small business growth\", \"3- Stable\"], \"tickvals\": [0, 1, 2, 3], \"title\": {\"text\": \"Cluster Number\"}}, \"colorscale\": [[0.0, \"rgb(158,1,66)\"], [0.1, \"rgb(213,62,79)\"], [0.2, \"rgb(244,109,67)\"], [0.3, \"rgb(253,174,97)\"], [0.4, \"rgb(254,224,139)\"], [0.5, \"rgb(255,255,191)\"], [0.6, \"rgb(230,245,152)\"], [0.7, \"rgb(171,221,164)\"], [0.8, \"rgb(102,194,165)\"], [0.9, \"rgb(50,136,189)\"], [1.0, \"rgb(94,79,162)\"]], \"locationmode\": \"USA-states\", \"locations\": [\"AL\", \"AK\", \"AZ\", \"AR\", \"CA\", \"CO\", \"CT\", \"DE\", \"DC\", \"FL\", \"GA\", \"HI\", \"ID\", \"IL\", \"IN\", \"IA\", \"KS\", \"KY\", \"LA\", \"ME\", \"MD\", \"MA\", \"MI\", \"MN\", \"MS\", \"MO\", \"MT\", \"NE\", \"NV\", \"NH\", \"NJ\", \"NM\", \"NY\", \"NC\", \"ND\", \"OH\", \"OK\", \"OR\", \"PA\", \"RI\", \"SC\", \"SD\", \"TN\", \"TX\", \"UT\", \"VT\", \"VA\", \"WA\", \"WV\", \"WI\", \"WY\"], \"type\": \"choropleth\", \"z\": [\"3\", \"2\", \"2\", \"3\", \"2\", \"2\", \"2\", \"2\", \"0\", \"3\", \"2\", \"0\", \"3\", \"2\", \"3\", \"3\", \"2\", \"3\", \"2\", \"2\", \"2\", \"2\", \"3\", \"3\", \"3\", \"3\", \"3\", \"3\", \"1\", \"3\", \"2\", \"2\", \"2\", \"3\", \"1\", \"3\", \"2\", \"2\", \"3\", \"2\", \"3\", \"3\", \"3\", \"2\", \"3\", \"3\", \"3\", \"2\", \"3\", \"2\", \"2\"], \"zmax\": 3, \"zmin\": 0}],\n                        {\"geo\": {\"scope\": \"usa\"}, \"template\": {\"data\": {\"bar\": [{\"error_x\": {\"color\": \"#2a3f5f\"}, \"error_y\": {\"color\": \"#2a3f5f\"}, \"marker\": {\"line\": {\"color\": \"#E5ECF6\", \"width\": 0.5}}, \"type\": \"bar\"}], \"barpolar\": [{\"marker\": {\"line\": {\"color\": \"#E5ECF6\", \"width\": 0.5}}, \"type\": \"barpolar\"}], \"carpet\": [{\"aaxis\": {\"endlinecolor\": \"#2a3f5f\", \"gridcolor\": \"white\", \"linecolor\": \"white\", \"minorgridcolor\": \"white\", \"startlinecolor\": \"#2a3f5f\"}, \"baxis\": {\"endlinecolor\": \"#2a3f5f\", \"gridcolor\": \"white\", \"linecolor\": \"white\", \"minorgridcolor\": \"white\", \"startlinecolor\": \"#2a3f5f\"}, \"type\": \"carpet\"}], \"choropleth\": [{\"colorbar\": {\"outlinewidth\": 0, \"ticks\": \"\"}, \"type\": \"choropleth\"}], \"contour\": [{\"colorbar\": {\"outlinewidth\": 0, \"ticks\": \"\"}, \"colorscale\": [[0.0, \"#0d0887\"], [0.1111111111111111, \"#46039f\"], [0.2222222222222222, \"#7201a8\"], [0.3333333333333333, \"#9c179e\"], [0.4444444444444444, \"#bd3786\"], [0.5555555555555556, \"#d8576b\"], [0.6666666666666666, \"#ed7953\"], [0.7777777777777778, \"#fb9f3a\"], [0.8888888888888888, \"#fdca26\"], [1.0, \"#f0f921\"]], \"type\": \"contour\"}], \"contourcarpet\": [{\"colorbar\": {\"outlinewidth\": 0, \"ticks\": \"\"}, \"type\": \"contourcarpet\"}], \"heatmap\": [{\"colorbar\": {\"outlinewidth\": 0, \"ticks\": \"\"}, \"colorscale\": [[0.0, \"#0d0887\"], [0.1111111111111111, \"#46039f\"], [0.2222222222222222, \"#7201a8\"], [0.3333333333333333, \"#9c179e\"], [0.4444444444444444, \"#bd3786\"], [0.5555555555555556, \"#d8576b\"], [0.6666666666666666, \"#ed7953\"], [0.7777777777777778, \"#fb9f3a\"], [0.8888888888888888, \"#fdca26\"], [1.0, \"#f0f921\"]], \"type\": \"heatmap\"}], \"heatmapgl\": [{\"colorbar\": {\"outlinewidth\": 0, \"ticks\": \"\"}, \"colorscale\": [[0.0, \"#0d0887\"], [0.1111111111111111, \"#46039f\"], [0.2222222222222222, \"#7201a8\"], [0.3333333333333333, \"#9c179e\"], [0.4444444444444444, \"#bd3786\"], [0.5555555555555556, \"#d8576b\"], [0.6666666666666666, \"#ed7953\"], [0.7777777777777778, \"#fb9f3a\"], [0.8888888888888888, \"#fdca26\"], [1.0, \"#f0f921\"]], \"type\": \"heatmapgl\"}], \"histogram\": [{\"marker\": {\"colorbar\": {\"outlinewidth\": 0, \"ticks\": \"\"}}, \"type\": \"histogram\"}], \"histogram2d\": [{\"colorbar\": {\"outlinewidth\": 0, \"ticks\": \"\"}, \"colorscale\": [[0.0, \"#0d0887\"], [0.1111111111111111, \"#46039f\"], [0.2222222222222222, \"#7201a8\"], [0.3333333333333333, \"#9c179e\"], [0.4444444444444444, \"#bd3786\"], [0.5555555555555556, \"#d8576b\"], [0.6666666666666666, \"#ed7953\"], [0.7777777777777778, \"#fb9f3a\"], [0.8888888888888888, \"#fdca26\"], [1.0, \"#f0f921\"]], \"type\": \"histogram2d\"}], \"histogram2dcontour\": [{\"colorbar\": {\"outlinewidth\": 0, \"ticks\": \"\"}, \"colorscale\": [[0.0, \"#0d0887\"], [0.1111111111111111, \"#46039f\"], [0.2222222222222222, \"#7201a8\"], [0.3333333333333333, \"#9c179e\"], [0.4444444444444444, \"#bd3786\"], [0.5555555555555556, \"#d8576b\"], [0.6666666666666666, \"#ed7953\"], [0.7777777777777778, \"#fb9f3a\"], [0.8888888888888888, \"#fdca26\"], [1.0, \"#f0f921\"]], \"type\": \"histogram2dcontour\"}], \"mesh3d\": [{\"colorbar\": {\"outlinewidth\": 0, \"ticks\": \"\"}, \"type\": \"mesh3d\"}], \"parcoords\": [{\"line\": {\"colorbar\": {\"outlinewidth\": 0, \"ticks\": \"\"}}, \"type\": \"parcoords\"}], \"pie\": [{\"automargin\": true, \"type\": \"pie\"}], \"scatter\": [{\"marker\": {\"colorbar\": {\"outlinewidth\": 0, \"ticks\": \"\"}}, \"type\": \"scatter\"}], \"scatter3d\": [{\"line\": {\"colorbar\": {\"outlinewidth\": 0, \"ticks\": \"\"}}, \"marker\": {\"colorbar\": {\"outlinewidth\": 0, \"ticks\": \"\"}}, \"type\": \"scatter3d\"}], \"scattercarpet\": [{\"marker\": {\"colorbar\": {\"outlinewidth\": 0, \"ticks\": \"\"}}, \"type\": \"scattercarpet\"}], \"scattergeo\": [{\"marker\": {\"colorbar\": {\"outlinewidth\": 0, \"ticks\": \"\"}}, \"type\": \"scattergeo\"}], \"scattergl\": [{\"marker\": {\"colorbar\": {\"outlinewidth\": 0, \"ticks\": \"\"}}, \"type\": \"scattergl\"}], \"scattermapbox\": [{\"marker\": {\"colorbar\": {\"outlinewidth\": 0, \"ticks\": \"\"}}, \"type\": \"scattermapbox\"}], \"scatterpolar\": [{\"marker\": {\"colorbar\": {\"outlinewidth\": 0, \"ticks\": \"\"}}, \"type\": \"scatterpolar\"}], \"scatterpolargl\": [{\"marker\": {\"colorbar\": {\"outlinewidth\": 0, \"ticks\": \"\"}}, \"type\": \"scatterpolargl\"}], \"scatterternary\": [{\"marker\": {\"colorbar\": {\"outlinewidth\": 0, \"ticks\": \"\"}}, \"type\": \"scatterternary\"}], \"surface\": [{\"colorbar\": {\"outlinewidth\": 0, \"ticks\": \"\"}, \"colorscale\": [[0.0, \"#0d0887\"], [0.1111111111111111, \"#46039f\"], [0.2222222222222222, \"#7201a8\"], [0.3333333333333333, \"#9c179e\"], [0.4444444444444444, \"#bd3786\"], [0.5555555555555556, \"#d8576b\"], [0.6666666666666666, \"#ed7953\"], [0.7777777777777778, \"#fb9f3a\"], [0.8888888888888888, \"#fdca26\"], [1.0, \"#f0f921\"]], \"type\": \"surface\"}], \"table\": [{\"cells\": {\"fill\": {\"color\": \"#EBF0F8\"}, \"line\": {\"color\": \"white\"}}, \"header\": {\"fill\": {\"color\": \"#C8D4E3\"}, \"line\": {\"color\": \"white\"}}, \"type\": \"table\"}]}, \"layout\": {\"annotationdefaults\": {\"arrowcolor\": \"#2a3f5f\", \"arrowhead\": 0, \"arrowwidth\": 1}, \"coloraxis\": {\"colorbar\": {\"outlinewidth\": 0, \"ticks\": \"\"}}, \"colorscale\": {\"diverging\": [[0, \"#8e0152\"], [0.1, \"#c51b7d\"], [0.2, \"#de77ae\"], [0.3, \"#f1b6da\"], [0.4, \"#fde0ef\"], [0.5, \"#f7f7f7\"], [0.6, \"#e6f5d0\"], [0.7, \"#b8e186\"], [0.8, \"#7fbc41\"], [0.9, \"#4d9221\"], [1, \"#276419\"]], \"sequential\": [[0.0, \"#0d0887\"], [0.1111111111111111, \"#46039f\"], [0.2222222222222222, \"#7201a8\"], [0.3333333333333333, \"#9c179e\"], [0.4444444444444444, \"#bd3786\"], [0.5555555555555556, \"#d8576b\"], [0.6666666666666666, \"#ed7953\"], [0.7777777777777778, \"#fb9f3a\"], [0.8888888888888888, \"#fdca26\"], [1.0, \"#f0f921\"]], \"sequentialminus\": [[0.0, \"#0d0887\"], [0.1111111111111111, \"#46039f\"], [0.2222222222222222, \"#7201a8\"], [0.3333333333333333, \"#9c179e\"], [0.4444444444444444, \"#bd3786\"], [0.5555555555555556, \"#d8576b\"], [0.6666666666666666, \"#ed7953\"], [0.7777777777777778, \"#fb9f3a\"], [0.8888888888888888, \"#fdca26\"], [1.0, \"#f0f921\"]]}, \"colorway\": [\"#636efa\", \"#EF553B\", \"#00cc96\", \"#ab63fa\", \"#FFA15A\", \"#19d3f3\", \"#FF6692\", \"#B6E880\", \"#FF97FF\", \"#FECB52\"], \"font\": {\"color\": \"#2a3f5f\"}, \"geo\": {\"bgcolor\": \"white\", \"lakecolor\": \"white\", \"landcolor\": \"#E5ECF6\", \"showlakes\": true, \"showland\": true, \"subunitcolor\": \"white\"}, \"hoverlabel\": {\"align\": \"left\"}, \"hovermode\": \"closest\", \"mapbox\": {\"style\": \"light\"}, \"paper_bgcolor\": \"white\", \"plot_bgcolor\": \"#E5ECF6\", \"polar\": {\"angularaxis\": {\"gridcolor\": \"white\", \"linecolor\": \"white\", \"ticks\": \"\"}, \"bgcolor\": \"#E5ECF6\", \"radialaxis\": {\"gridcolor\": \"white\", \"linecolor\": \"white\", \"ticks\": \"\"}}, \"scene\": {\"xaxis\": {\"backgroundcolor\": \"#E5ECF6\", \"gridcolor\": \"white\", \"gridwidth\": 2, \"linecolor\": \"white\", \"showbackground\": true, \"ticks\": \"\", \"zerolinecolor\": \"white\"}, \"yaxis\": {\"backgroundcolor\": \"#E5ECF6\", \"gridcolor\": \"white\", \"gridwidth\": 2, \"linecolor\": \"white\", \"showbackground\": true, \"ticks\": \"\", \"zerolinecolor\": \"white\"}, \"zaxis\": {\"backgroundcolor\": \"#E5ECF6\", \"gridcolor\": \"white\", \"gridwidth\": 2, \"linecolor\": \"white\", \"showbackground\": true, \"ticks\": \"\", \"zerolinecolor\": \"white\"}}, \"shapedefaults\": {\"line\": {\"color\": \"#2a3f5f\"}}, \"ternary\": {\"aaxis\": {\"gridcolor\": \"white\", \"linecolor\": \"white\", \"ticks\": \"\"}, \"baxis\": {\"gridcolor\": \"white\", \"linecolor\": \"white\", \"ticks\": \"\"}, \"bgcolor\": \"#E5ECF6\", \"caxis\": {\"gridcolor\": \"white\", \"linecolor\": \"white\", \"ticks\": \"\"}}, \"title\": {\"x\": 0.05}, \"xaxis\": {\"automargin\": true, \"gridcolor\": \"white\", \"linecolor\": \"white\", \"ticks\": \"\", \"title\": {\"standoff\": 15}, \"zerolinecolor\": \"white\", \"zerolinewidth\": 2}, \"yaxis\": {\"automargin\": true, \"gridcolor\": \"white\", \"linecolor\": \"white\", \"ticks\": \"\", \"title\": {\"standoff\": 15}, \"zerolinecolor\": \"white\", \"zerolinewidth\": 2}}}, \"title\": {\"text\": \"Economic State After COVID by State\"}},\n                        {\"responsive\": true}\n                    ).then(function(){\n                            \nvar gd = document.getElementById('33b23c31-5e37-46b5-bcb3-491709498a3c');\nvar x = new MutationObserver(function (mutations, observer) {{\n        var display = window.getComputedStyle(gd).display;\n        if (!display || display === 'none') {{\n            console.log([gd, 'removed!']);\n            Plotly.purge(gd);\n            observer.disconnect();\n        }}\n}});\n\n// Listen for the removal of the full notebook cells\nvar notebookContainer = gd.closest('#notebook-container');\nif (notebookContainer) {{\n    x.observe(notebookContainer, {childList: true});\n}}\n\n// Listen for the clearing of the current output cell\nvar outputEl = gd.closest('.output');\nif (outputEl) {{\n    x.observe(outputEl, {childList: true});\n}}\n\n                        })\n                };\n                \n            </script>\n        </div>\n</body>\n</html>"
       }
      ]
     }
    },
    "6b97ec05073040968fed3252a2f06348": {
     "model_module": "@jupyter-widgets/output",
     "model_name": "OutputModel",
     "state": {
      "_dom_classes": [],
      "_model_module": "@jupyter-widgets/output",
      "_model_module_version": "1.0.0",
      "_model_name": "OutputModel",
      "_view_count": null,
      "_view_module": "@jupyter-widgets/output",
      "_view_module_version": "1.0.0",
      "_view_name": "OutputView",
      "layout": "IPY_MODEL_e45d83db6db140e2b334703b3189a52c",
      "msg_id": "",
      "outputs": [
       {
        "metadata": {
         "tags": []
        },
        "output_type": "display_data",
        "text/html": "<html>\n<head><meta charset=\"utf-8\" /></head>\n<body>\n    <div>\n            <script src=\"https://cdnjs.cloudflare.com/ajax/libs/mathjax/2.7.5/MathJax.js?config=TeX-AMS-MML_SVG\"></script><script type=\"text/javascript\">if (window.MathJax) {MathJax.Hub.Config({SVG: {font: \"STIX-Web\"}});}</script>\n                <script type=\"text/javascript\">window.PlotlyConfig = {MathJaxConfig: 'local'};</script>\n        <script src=\"https://cdn.plot.ly/plotly-latest.min.js\"></script>    \n            <div id=\"9536af08-e878-4ec0-ad15-f2a0acc5243c\" class=\"plotly-graph-div\" style=\"height:525px; width:100%;\"></div>\n            <script type=\"text/javascript\">\n                \n                    window.PLOTLYENV=window.PLOTLYENV || {};\n                    \n                if (document.getElementById(\"9536af08-e878-4ec0-ad15-f2a0acc5243c\")) {\n                    Plotly.newPlot(\n                        '9536af08-e878-4ec0-ad15-f2a0acc5243c',\n                        [{\"hoverlabel\": {\"namelength\": 0}, \"hovertemplate\": \"new_clusters=0<br>0=%{x}<br>1=%{y}\", \"legendgroup\": \"new_clusters=0\", \"marker\": {\"color\": \"#636efa\", \"line\": {\"color\": \"black\", \"width\": 1}, \"symbol\": \"circle\"}, \"mode\": \"markers\", \"name\": \"new_clusters=0\", \"showlegend\": true, \"type\": \"scatter\", \"x\": [2.317549924735307, 3.3078697323881507, 2.248851421985405, 3.770463121679326, 3.3173131668143014, 3.234814028838355, 3.712505331497659, 4.635553643961784, 3.1767121371751097, 3.7640764441943597, 6.331388594445239, 1.7847884621104975, 2.882839441259525, 2.431981811166711, 2.500627462117885, 2.156941322653191, 2.9554317819538767, 3.910937262291985, 3.9526169755726572, 3.4714417000431346, 4.7159032331641235, 4.810710224794021, 2.9251640320596253, 2.448704258577328, 2.10831704481907, 2.739884943017364, 4.9078186239893205, 3.02812425602343, 4.223630132700021, 2.8964443354360965, 4.733683697855392, 2.917065020721046, 3.1944229915727598, 1.726208660204855, 2.721523051983423, 3.8533573374037373, 6.063240594139808, 2.9386172115091735, 1.9208516959202866, 2.3280916591513523, 4.261704536538936, 2.4066832089934937, 4.205501862838439, 2.9080337572203536, 3.042555554809484, 2.0655713578403, 1.6705736955714583, 2.2942300069870307, 4.034026057567745, 3.7699419844058255, 2.21276113456055, 2.1298120321935916, 3.286709544443257, 2.2542236688794914, 2.558558913364912, 2.628092583799932, 3.350613454579758, 1.7016724523156619, 2.700921739323842, 2.477153289030618, 2.922123170113481, 2.1377600803493966, 2.5432980199020507, 1.4631124736386574, 2.5201129459569134, 1.4757099044274504, 2.382654967867209, 2.5693966191688378], \"xaxis\": \"x\", \"y\": [0.6855948143676073, -0.08632634880334189, 0.7285230531350358, 0.016560992519926307, -0.0942837685521195, -0.7711916221607292, 0.027276099582256536, -2.231056887007969, 0.20335976254610563, 0.7751543502646117, -0.7737186863895401, 0.7577077626865505, -0.12567393536070104, 0.04268391249400621, 0.41052648703512534, 0.24917786255323698, 0.5719612857555085, 0.5568647418449345, -1.5025029875380942, -0.9737785489116831, -0.9573510094395498, 0.46362510209969343, 0.1356018599298041, 1.6661709761009689, -0.019096569437750874, 0.6949974903663514, 0.45789785022623725, -1.2673047400174056, -0.7798731775936033, 0.1532680412368634, -0.44506387770018113, 0.34375136790068067, 0.4699881116944562, 0.6837987635247977, 0.08282421976345462, -0.5880583953367507, -0.24859420022432402, 0.712792456222892, 0.2300712911693377, 0.5288089810788885, 0.3493633951685532, -0.2755488062262873, 0.14480360023904065, 0.5600160045032839, -0.764876810561984, 0.7553187825327695, 0.5706927729708253, 0.7760134518906563, -1.3202045879291335, 0.01783597938919679, -0.9213363845464949, -0.3637957975308485, -0.39116499505979685, 1.5143091684411922, 0.9920128055815275, 0.040172889917774506, 0.3490841987199204, 0.6253802118471153, -0.2717487063920602, 0.851149042770791, -2.3344981536407534, -0.4873675236706913, -1.294491646022568, 0.004282153811701638, -1.3455945198876773, -0.31845097593529437, -1.2312487350203367, -0.7569516052171212], \"yaxis\": \"y\"}, {\"hoverlabel\": {\"namelength\": 0}, \"hovertemplate\": \"new_clusters=1<br>0=%{x}<br>1=%{y}\", \"legendgroup\": \"new_clusters=1\", \"marker\": {\"color\": \"#EF553B\", \"line\": {\"color\": \"black\", \"width\": 1}, \"symbol\": \"circle\"}, \"mode\": \"markers\", \"name\": \"new_clusters=1\", \"showlegend\": true, \"type\": \"scatter\", \"x\": [1.135015590550171, 0.6587919167703056, 1.7709866869805815, 0.15345722078840676, 1.1690222208221512, 1.4418515664266638, -0.8197488368707041, 1.1532224583356172, 0.054624016937042774, -1.2116753642060938, 0.42576490866187766, 0.5170779032395463, 0.8310792256551399, -1.2607237959533373, 1.4681000125206218, -0.4496349033843972, 0.11546804651170052, -0.1920250877997705, 0.1495842630092082, 0.3691727047540288, 0.5841066843119546, -0.9634086024852454, -0.684142492179433, -0.2878424514977589, 1.5891719486830442, 0.8219871950914328, -0.43092675665948377, 0.28072704515432356, -0.9808248175700446, 1.3025166192064057, 0.026798251517213652, -1.5518364052411937, -1.059297014012197, -0.21457519821075446, -1.0157799520911246, 1.4903736839253607, 0.8219592328119726, -0.43410164867883283, 0.8631031884989016, -0.2951394765688803, 0.36037725839165347, 0.3498396151572768, -1.2230794927531354, -0.5993518781766205, 0.3923106807340433, 0.0124991727775424, 0.6083009158807763, -0.33335414638534105, -0.47199871269269833, -0.38974409363935175, 0.21087684671584767, -0.20209549860811513, -0.7545147343276003, -0.13495578744630085, -1.076833496981907], \"xaxis\": \"x\", \"y\": [1.7316197844720291, 0.4208521390652119, 1.5917730521764475, 1.181685155939476, 1.2594132115638241, 0.6414544109532737, 1.6097640669851145, 0.740198460803574, 1.4577879552400816, 2.6892952857165455, 1.288063431871767, 1.1996456277053624, 1.9578442875305293, 1.6101663496270726, 0.5736510362099003, 1.1149775814309535, 1.268177946472913, 0.9585257993731949, 1.233761813119967, 0.23911927800334098, 0.7671343431148366, 3.0322928849010733, 0.958912401107493, 1.479905052860368, 1.1141930172745322, 1.2327387633208056, 3.2791819416794783, 1.7662976579781224, 2.324301800877951, 1.1509612108069447, 2.0886952629694315, 2.4402874057591526, 1.7162068585100596, 1.6782503006703418, 2.063938511636662, 1.066591236871015, 0.4045245647868342, 1.6793692991617588, 0.5329239457517356, 1.7112791527999145, 0.21109219514788924, 0.24464630257298103, 1.723301501812146, 0.33468824103236045, 0.4579279893918277, 0.4375182704214927, 0.7439469577052555, 0.5206215312024991, 0.8898612555267045, 0.5809305218996155, 0.25733210876835755, 0.14733076748341628, 1.5373979660509547, 0.5004073072734627, 1.1086874146410142], \"yaxis\": \"y\"}, {\"hoverlabel\": {\"namelength\": 0}, \"hovertemplate\": \"new_clusters=3<br>0=%{x}<br>1=%{y}\", \"legendgroup\": \"new_clusters=3\", \"marker\": {\"color\": \"#00cc96\", \"line\": {\"color\": \"black\", \"width\": 1}, \"symbol\": \"circle\"}, \"mode\": \"markers\", \"name\": \"new_clusters=3\", \"showlegend\": true, \"type\": \"scatter\", \"x\": [-1.3713201635055972, -2.113555409700189, -1.812642850896395, -1.214291058386045, -2.49978876732453, -1.9783019964235449, -1.0966010516220663, -1.7153387119675578, -2.54769835107025, -1.0153212420359918, -2.103990300117165, -2.27965530510667, -1.106702627155445, -2.817896513654296, -1.6062449713890468, -1.5451013505997055, -1.2224920032052973, -1.7198396578630097, -2.4976394043709633, -2.5318919081342743, -1.3266964805001336, -0.9773578042257609, -1.9170791862717635, -1.4421420814667125, -1.9938935956869575, -1.5682670361080162, -0.9600270106610996, -2.333532332718787, -1.8137123288959425, -1.0074244355155477, -1.3792563903508797, -2.1600401103095015, -1.29837265943087, -1.278324385335687, -2.4562644212892004, -2.1393388000845297, -1.4009598889068442, -2.5435848781431907, -1.583931428766779, -1.555598252994783, -1.1097262211860104, -1.3817312806649598, -1.0205441279268657, -1.734554608829109, -2.6112686535866123, -1.9381379714790516, -1.2391936376982626, -1.052035549909742, -0.9222935923483149, -1.9233589937106943, -1.5456360521086034, -2.383589062673599, -1.6725679952447066, -2.4410697525707565, -2.022712391735782, -1.9626013166603768, -1.317565828232226, -2.000085510183184, -2.1377733592884196, -1.1212094279126807, -2.657302786782689, -1.6110960602697104, -1.2394332935463714, -0.9048632358336619, -1.2851367484231324, -1.3990792981591262, -2.0465063918798374, -1.7626867688229442, -1.239417287868148, -1.1359173414596837, -1.763810935842648, -1.7025108905602198, -2.2110469057095994, -1.8542825852601479, -1.4590962560347949, -2.8539127856009614, -2.18076644567251, -1.4130993928546245, -2.037751144333063, -1.6388508106209743, -1.4818345291840804, -2.085744206252108, -2.2247881019074773, -1.30730115655679, -2.4181084197277136, -1.5700417822336081, -1.8859583061807215, -1.5295135304648053, -1.4064881683278363, -2.0393759193136267, -2.485515393376904, -1.968032270146226, -1.5940976462463998, -2.1679100922415997, -1.2783022403054303, -2.2826906269368235], \"xaxis\": \"x\", \"y\": [0.9573714629764646, 0.26815778211024366, 1.4398069437143364, -0.3223609113655207, 0.4121110158459466, -0.7285607753054794, 0.3078079673405374, -0.7157828123288207, -0.8544101297326965, -0.04323979759834599, 1.108010335181205, -0.5246548741785063, -0.03191131628890997, -0.48979012568185215, 0.4213322121181459, 0.6027914834232573, -0.028403041966018335, 0.7838025617134863, 1.2855295500627033, 0.47855601859814395, 0.3528506230044647, -0.24956195373774365, 1.5266453169854937, 0.2441515307391377, 0.31114532220741475, 1.2064837780520494, 0.14785037862004924, 0.31938648752694415, -0.31299168786728887, 0.33585526257483983, 0.035347227962523, 0.045418155001783214, -0.15148199186416647, 0.28869479118502617, 0.12720857228039156, -0.07237023952322141, -0.10659476034566816, 0.6334219856152414, 0.9694001023947921, 1.2540584686524843, 0.5781933980104136, 0.06886107246732333, 0.5516693965869495, 0.47522133415962364, 0.5738853372750773, 0.9257004554653234, 0.43974748790340784, -0.1860191784134596, 0.3847146768505653, 0.3854701322662586, 0.028560236861799485, -0.8667175973794762, 0.16917724755375735, -0.40297336495239505, -1.3008584945349484, -0.7538696797888147, -0.151535317964763, -0.047581006134139035, -0.3763935615253608, 0.017574880799848296, 0.11624587955918199, 0.30501727334197354, 0.09953266618135213, 0.5351207191455962, -0.23619505511757036, 0.5516031287615415, 0.4366249452986157, 0.10232874350258826, 0.0055825349110774905, -0.28263234453111596, -0.1862367918379048, -0.398831053656126, -1.116788206985863, -0.47222959881119364, -0.3342140821501203, -0.6693113760882714, -1.6812153542350634, -0.8788634392717978, -0.5874694866219942, -0.5565447658212469, 0.05644175141211529, -0.7121442857183514, -0.18448512805947803, -0.22894208088932488, 0.6733120204369214, -0.7924927048285348, 0.9304800035220592, -0.025347748751597735, -0.05793209458265068, 0.9842162846906831, -0.6786952651171483, 0.21964980392859135, -0.32115554201921837, -1.6952504464041234, -0.07910528007676071, -0.4501500523631286], \"yaxis\": \"y\"}, {\"hoverlabel\": {\"namelength\": 0}, \"hovertemplate\": \"new_clusters=2<br>0=%{x}<br>1=%{y}\", \"legendgroup\": \"new_clusters=2\", \"marker\": {\"color\": \"#ab63fa\", \"line\": {\"color\": \"black\", \"width\": 1}, \"symbol\": \"circle\"}, \"mode\": \"markers\", \"name\": \"new_clusters=2\", \"showlegend\": true, \"type\": \"scatter\", \"x\": [0.3687300692743742, 0.228240948343959, 0.13101792634706524, 0.4064218910029872, -0.7397913118110225, -0.5033300704508343, -0.623241659979266, -0.17144445656151092, -0.7505974919986462, 0.16676965567633384, 0.05064817092064737, 0.7471513172397628, -0.9825063626188432, -1.1076162732138273, 0.39091433729890873, -0.5606353256916526, 1.1781116917057175, -0.6801759219424796, -0.2006890660409687, 0.5040262382214555, -0.8907731704412855, -0.25353212353801474, 0.21669784311659196, -0.9272616610846108, 0.02733995072692573, -0.8188422359002933, -0.860330843339917, -0.6236818851907889, -0.3821233431884282, -0.627188552257351, -0.551602883036255, -0.5970009842342072, -0.24160240949764397, -0.4764416340381539, -0.5546923550286479, 0.16557571136798757, 0.20814783476758647, -0.28356070745705936, -0.7892773961275664, 0.10414926123753766, -0.5194495902089259, 0.7352171366962499, -1.0165035353709155, -0.7212139425162379, -0.37720066409363634, -1.1435551291957542, -1.2243232934668746, -1.0347721810374673, -1.0767053171357936, -1.0832724710157007, -0.09273264928677481, -0.5358852217764261, -0.7419290191830051, -0.2189080713827429, -1.1596595193037564, -0.9370333780110878, -0.7646065447981628, -0.16029061091486724, -1.0450255485275777, 0.8878734667656875, -0.2996091243791009, -1.2550404019301669, -0.6733211584800083, -1.0536858873577637, 0.03269977707523069, 0.21312087197357477, 0.2462506870843464, -1.0637313118670768, -1.6638554873546962, -1.7244244370034942, -1.4359897864793743, -0.7167623972038801, -0.9049583628972597, 0.2830002805718123, -1.2072161440372988, -1.0191739932936532, -0.5991959329008915, -0.9974306169787328, -0.5808647288104619, -0.3321651395978442, -1.3824126275004793, -0.7965040938577896, 0.08043207691278209, -0.35830145553417087, -0.6580965469182635, -1.1873785745299859, -1.9499021074580307], \"xaxis\": \"x\", \"y\": [-0.5220314662174802, -1.2816918141422844, 0.32573245205559126, -0.29414267573826713, -0.2145783523186954, -1.2766141053346554, 0.11135827363673308, -0.6460244262304355, -0.7090144032638396, -1.5745594359022965, -0.8746474319358128, -1.9129350302040913, -0.4770013667142464, -1.7478219820843692, -1.3158734500561555, -0.3530818758471133, -0.6944750661283026, -0.2654862314457712, -0.0960544701912795, -1.3781372549234656, -0.3132646871774003, -0.547405829540188, -0.21721919018496194, -0.46367306647382894, -0.6758593745042655, -0.5256022234201104, 0.0887269323909961, 0.2028670465881703, 0.07107215694475243, -0.18278860796276739, -2.4193088762215855, 0.06022756560613207, -1.1290465477368539, -0.8281020189402357, -0.09365103652054858, -0.26063851335981664, -0.7369009286310406, -0.10524598549187444, 0.024879518594557993, -1.5492260015711186, -0.383173213061178, -0.21923973367801072, -0.4969391417540805, -2.1531212076296873, -0.6129951893554303, -0.7815478208529038, -1.0102257919822013, -1.7038798027924476, -0.6928683094969301, -0.44415534065523904, -0.9973727334434759, -2.5642721468503082, -0.3739993295301019, -1.4776811754744732, -0.601920062479921, -0.8531825383320846, -0.7876015999867135, -0.5290319008851586, -0.5829135315357405, -1.1299646199571591, -0.8347702847393469, -0.8412185257985141, -0.12649199822609278, -0.8946100665137925, -1.4850097375268658, -0.09753848516361874, -0.0710016205044491, -0.8786640413025095, -3.0479028899313985, -1.92540272280283, -1.0264278668559106, -0.5413300088646716, -0.5882326070374007, -0.5454992980721275, -3.1676752680886437, -0.10166425804500585, -1.4710333281593198, -0.5357154444827712, -0.04684891946547571, -0.1604462995844064, -1.396205210226266, 0.030468748677575402, -1.710130839717669, -0.5422350079100171, 0.14173045396928585, -0.7410370986406832, -1.5453350588171284], \"yaxis\": \"y\"}],\n                        {\"legend\": {\"tracegroupgap\": 0}, \"template\": {\"data\": {\"bar\": [{\"error_x\": {\"color\": \"#2a3f5f\"}, \"error_y\": {\"color\": \"#2a3f5f\"}, \"marker\": {\"line\": {\"color\": \"#E5ECF6\", \"width\": 0.5}}, \"type\": \"bar\"}], \"barpolar\": [{\"marker\": {\"line\": {\"color\": \"#E5ECF6\", \"width\": 0.5}}, \"type\": \"barpolar\"}], \"carpet\": [{\"aaxis\": {\"endlinecolor\": \"#2a3f5f\", \"gridcolor\": \"white\", \"linecolor\": \"white\", \"minorgridcolor\": \"white\", \"startlinecolor\": \"#2a3f5f\"}, \"baxis\": {\"endlinecolor\": \"#2a3f5f\", \"gridcolor\": \"white\", \"linecolor\": \"white\", \"minorgridcolor\": \"white\", \"startlinecolor\": \"#2a3f5f\"}, \"type\": \"carpet\"}], \"choropleth\": [{\"colorbar\": {\"outlinewidth\": 0, \"ticks\": \"\"}, \"type\": \"choropleth\"}], \"contour\": [{\"colorbar\": {\"outlinewidth\": 0, \"ticks\": \"\"}, \"colorscale\": [[0.0, \"#0d0887\"], [0.1111111111111111, \"#46039f\"], [0.2222222222222222, \"#7201a8\"], [0.3333333333333333, \"#9c179e\"], [0.4444444444444444, \"#bd3786\"], [0.5555555555555556, \"#d8576b\"], [0.6666666666666666, \"#ed7953\"], [0.7777777777777778, \"#fb9f3a\"], [0.8888888888888888, \"#fdca26\"], [1.0, \"#f0f921\"]], \"type\": \"contour\"}], \"contourcarpet\": [{\"colorbar\": {\"outlinewidth\": 0, \"ticks\": \"\"}, \"type\": \"contourcarpet\"}], \"heatmap\": [{\"colorbar\": {\"outlinewidth\": 0, \"ticks\": \"\"}, \"colorscale\": [[0.0, \"#0d0887\"], [0.1111111111111111, \"#46039f\"], [0.2222222222222222, \"#7201a8\"], [0.3333333333333333, \"#9c179e\"], [0.4444444444444444, \"#bd3786\"], [0.5555555555555556, \"#d8576b\"], [0.6666666666666666, \"#ed7953\"], [0.7777777777777778, \"#fb9f3a\"], [0.8888888888888888, \"#fdca26\"], [1.0, \"#f0f921\"]], \"type\": \"heatmap\"}], \"heatmapgl\": [{\"colorbar\": {\"outlinewidth\": 0, \"ticks\": \"\"}, \"colorscale\": [[0.0, \"#0d0887\"], [0.1111111111111111, \"#46039f\"], [0.2222222222222222, \"#7201a8\"], [0.3333333333333333, \"#9c179e\"], [0.4444444444444444, \"#bd3786\"], [0.5555555555555556, \"#d8576b\"], [0.6666666666666666, \"#ed7953\"], [0.7777777777777778, \"#fb9f3a\"], [0.8888888888888888, \"#fdca26\"], [1.0, \"#f0f921\"]], \"type\": \"heatmapgl\"}], \"histogram\": [{\"marker\": {\"colorbar\": {\"outlinewidth\": 0, \"ticks\": \"\"}}, \"type\": \"histogram\"}], \"histogram2d\": [{\"colorbar\": {\"outlinewidth\": 0, \"ticks\": \"\"}, \"colorscale\": [[0.0, \"#0d0887\"], [0.1111111111111111, \"#46039f\"], [0.2222222222222222, \"#7201a8\"], [0.3333333333333333, \"#9c179e\"], [0.4444444444444444, \"#bd3786\"], [0.5555555555555556, \"#d8576b\"], [0.6666666666666666, \"#ed7953\"], [0.7777777777777778, \"#fb9f3a\"], [0.8888888888888888, \"#fdca26\"], [1.0, \"#f0f921\"]], \"type\": \"histogram2d\"}], \"histogram2dcontour\": [{\"colorbar\": {\"outlinewidth\": 0, \"ticks\": \"\"}, \"colorscale\": [[0.0, \"#0d0887\"], [0.1111111111111111, \"#46039f\"], [0.2222222222222222, \"#7201a8\"], [0.3333333333333333, \"#9c179e\"], [0.4444444444444444, \"#bd3786\"], [0.5555555555555556, \"#d8576b\"], [0.6666666666666666, \"#ed7953\"], [0.7777777777777778, \"#fb9f3a\"], [0.8888888888888888, \"#fdca26\"], [1.0, \"#f0f921\"]], \"type\": \"histogram2dcontour\"}], \"mesh3d\": [{\"colorbar\": {\"outlinewidth\": 0, \"ticks\": \"\"}, \"type\": \"mesh3d\"}], \"parcoords\": [{\"line\": {\"colorbar\": {\"outlinewidth\": 0, \"ticks\": \"\"}}, \"type\": \"parcoords\"}], \"pie\": [{\"automargin\": true, \"type\": \"pie\"}], \"scatter\": [{\"marker\": {\"colorbar\": {\"outlinewidth\": 0, \"ticks\": \"\"}}, \"type\": \"scatter\"}], \"scatter3d\": [{\"line\": {\"colorbar\": {\"outlinewidth\": 0, \"ticks\": \"\"}}, \"marker\": {\"colorbar\": {\"outlinewidth\": 0, \"ticks\": \"\"}}, \"type\": \"scatter3d\"}], \"scattercarpet\": [{\"marker\": {\"colorbar\": {\"outlinewidth\": 0, \"ticks\": \"\"}}, \"type\": \"scattercarpet\"}], \"scattergeo\": [{\"marker\": {\"colorbar\": {\"outlinewidth\": 0, \"ticks\": \"\"}}, \"type\": \"scattergeo\"}], \"scattergl\": [{\"marker\": {\"colorbar\": {\"outlinewidth\": 0, \"ticks\": \"\"}}, \"type\": \"scattergl\"}], \"scattermapbox\": [{\"marker\": {\"colorbar\": {\"outlinewidth\": 0, \"ticks\": \"\"}}, \"type\": \"scattermapbox\"}], \"scatterpolar\": [{\"marker\": {\"colorbar\": {\"outlinewidth\": 0, \"ticks\": \"\"}}, \"type\": \"scatterpolar\"}], \"scatterpolargl\": [{\"marker\": {\"colorbar\": {\"outlinewidth\": 0, \"ticks\": \"\"}}, \"type\": \"scatterpolargl\"}], \"scatterternary\": [{\"marker\": {\"colorbar\": {\"outlinewidth\": 0, \"ticks\": \"\"}}, \"type\": \"scatterternary\"}], \"surface\": [{\"colorbar\": {\"outlinewidth\": 0, \"ticks\": \"\"}, \"colorscale\": [[0.0, \"#0d0887\"], [0.1111111111111111, \"#46039f\"], [0.2222222222222222, \"#7201a8\"], [0.3333333333333333, \"#9c179e\"], [0.4444444444444444, \"#bd3786\"], [0.5555555555555556, \"#d8576b\"], [0.6666666666666666, \"#ed7953\"], [0.7777777777777778, \"#fb9f3a\"], [0.8888888888888888, \"#fdca26\"], [1.0, \"#f0f921\"]], \"type\": \"surface\"}], \"table\": [{\"cells\": {\"fill\": {\"color\": \"#EBF0F8\"}, \"line\": {\"color\": \"white\"}}, \"header\": {\"fill\": {\"color\": \"#C8D4E3\"}, \"line\": {\"color\": \"white\"}}, \"type\": \"table\"}]}, \"layout\": {\"annotationdefaults\": {\"arrowcolor\": \"#2a3f5f\", \"arrowhead\": 0, \"arrowwidth\": 1}, \"coloraxis\": {\"colorbar\": {\"outlinewidth\": 0, \"ticks\": \"\"}}, \"colorscale\": {\"diverging\": [[0, \"#8e0152\"], [0.1, \"#c51b7d\"], [0.2, \"#de77ae\"], [0.3, \"#f1b6da\"], [0.4, \"#fde0ef\"], [0.5, \"#f7f7f7\"], [0.6, \"#e6f5d0\"], [0.7, \"#b8e186\"], [0.8, \"#7fbc41\"], [0.9, \"#4d9221\"], [1, \"#276419\"]], \"sequential\": [[0.0, \"#0d0887\"], [0.1111111111111111, \"#46039f\"], [0.2222222222222222, \"#7201a8\"], [0.3333333333333333, \"#9c179e\"], [0.4444444444444444, \"#bd3786\"], [0.5555555555555556, \"#d8576b\"], [0.6666666666666666, \"#ed7953\"], [0.7777777777777778, \"#fb9f3a\"], [0.8888888888888888, \"#fdca26\"], [1.0, \"#f0f921\"]], \"sequentialminus\": [[0.0, \"#0d0887\"], [0.1111111111111111, \"#46039f\"], [0.2222222222222222, \"#7201a8\"], [0.3333333333333333, \"#9c179e\"], [0.4444444444444444, \"#bd3786\"], [0.5555555555555556, \"#d8576b\"], [0.6666666666666666, \"#ed7953\"], [0.7777777777777778, \"#fb9f3a\"], [0.8888888888888888, \"#fdca26\"], [1.0, \"#f0f921\"]]}, \"colorway\": [\"#636efa\", \"#EF553B\", \"#00cc96\", \"#ab63fa\", \"#FFA15A\", \"#19d3f3\", \"#FF6692\", \"#B6E880\", \"#FF97FF\", \"#FECB52\"], \"font\": {\"color\": \"#2a3f5f\"}, \"geo\": {\"bgcolor\": \"white\", \"lakecolor\": \"white\", \"landcolor\": \"#E5ECF6\", \"showlakes\": true, \"showland\": true, \"subunitcolor\": \"white\"}, \"hoverlabel\": {\"align\": \"left\"}, \"hovermode\": \"closest\", \"mapbox\": {\"style\": \"light\"}, \"paper_bgcolor\": \"white\", \"plot_bgcolor\": \"#E5ECF6\", \"polar\": {\"angularaxis\": {\"gridcolor\": \"white\", \"linecolor\": \"white\", \"ticks\": \"\"}, \"bgcolor\": \"#E5ECF6\", \"radialaxis\": {\"gridcolor\": \"white\", \"linecolor\": \"white\", \"ticks\": \"\"}}, \"scene\": {\"xaxis\": {\"backgroundcolor\": \"#E5ECF6\", \"gridcolor\": \"white\", \"gridwidth\": 2, \"linecolor\": \"white\", \"showbackground\": true, \"ticks\": \"\", \"zerolinecolor\": \"white\"}, \"yaxis\": {\"backgroundcolor\": \"#E5ECF6\", \"gridcolor\": \"white\", \"gridwidth\": 2, \"linecolor\": \"white\", \"showbackground\": true, \"ticks\": \"\", \"zerolinecolor\": \"white\"}, \"zaxis\": {\"backgroundcolor\": \"#E5ECF6\", \"gridcolor\": \"white\", \"gridwidth\": 2, \"linecolor\": \"white\", \"showbackground\": true, \"ticks\": \"\", \"zerolinecolor\": \"white\"}}, \"shapedefaults\": {\"line\": {\"color\": \"#2a3f5f\"}}, \"ternary\": {\"aaxis\": {\"gridcolor\": \"white\", \"linecolor\": \"white\", \"ticks\": \"\"}, \"baxis\": {\"gridcolor\": \"white\", \"linecolor\": \"white\", \"ticks\": \"\"}, \"bgcolor\": \"#E5ECF6\", \"caxis\": {\"gridcolor\": \"white\", \"linecolor\": \"white\", \"ticks\": \"\"}}, \"title\": {\"x\": 0.05}, \"xaxis\": {\"automargin\": true, \"gridcolor\": \"white\", \"linecolor\": \"white\", \"ticks\": \"\", \"title\": {\"standoff\": 15}, \"zerolinecolor\": \"white\", \"zerolinewidth\": 2}, \"yaxis\": {\"automargin\": true, \"gridcolor\": \"white\", \"linecolor\": \"white\", \"ticks\": \"\", \"title\": {\"standoff\": 15}, \"zerolinecolor\": \"white\", \"zerolinewidth\": 2}}}, \"title\": {\"text\": \"PCA of KMeans with 4 clusters\"}, \"xaxis\": {\"anchor\": \"y\", \"domain\": [0.0, 1.0], \"title\": {\"text\": \"0\"}}, \"yaxis\": {\"anchor\": \"x\", \"domain\": [0.0, 1.0], \"title\": {\"text\": \"1\"}}},\n                        {\"responsive\": true}\n                    ).then(function(){\n                            \nvar gd = document.getElementById('9536af08-e878-4ec0-ad15-f2a0acc5243c');\nvar x = new MutationObserver(function (mutations, observer) {{\n        var display = window.getComputedStyle(gd).display;\n        if (!display || display === 'none') {{\n            console.log([gd, 'removed!']);\n            Plotly.purge(gd);\n            observer.disconnect();\n        }}\n}});\n\n// Listen for the removal of the full notebook cells\nvar notebookContainer = gd.closest('#notebook-container');\nif (notebookContainer) {{\n    x.observe(notebookContainer, {childList: true});\n}}\n\n// Listen for the clearing of the current output cell\nvar outputEl = gd.closest('.output');\nif (outputEl) {{\n    x.observe(outputEl, {childList: true});\n}}\n\n                        })\n                };\n                \n            </script>\n        </div>\n</body>\n</html>"
       }
      ]
     }
    },
    "86b03e75a0984f7f8a0e70c807837c19": {
     "model_module": "@jupyter-widgets/base",
     "model_name": "LayoutModel",
     "state": {
      "_model_module": "@jupyter-widgets/base",
      "_model_module_version": "1.2.0",
      "_model_name": "LayoutModel",
      "_view_count": null,
      "_view_module": "@jupyter-widgets/base",
      "_view_module_version": "1.2.0",
      "_view_name": "LayoutView",
      "align_content": null,
      "align_items": null,
      "align_self": null,
      "border": null,
      "bottom": null,
      "display": null,
      "flex": null,
      "flex_flow": null,
      "grid_area": null,
      "grid_auto_columns": null,
      "grid_auto_flow": null,
      "grid_auto_rows": null,
      "grid_column": null,
      "grid_gap": null,
      "grid_row": null,
      "grid_template_areas": null,
      "grid_template_columns": null,
      "grid_template_rows": null,
      "height": null,
      "justify_content": null,
      "justify_items": null,
      "left": null,
      "margin": null,
      "max_height": null,
      "max_width": null,
      "min_height": null,
      "min_width": null,
      "object_fit": null,
      "object_position": null,
      "order": null,
      "overflow": null,
      "overflow_x": null,
      "overflow_y": null,
      "padding": null,
      "right": null,
      "top": null,
      "visibility": null,
      "width": null
     }
    },
    "9319b3ba20604c7498427b2161291695": {
     "model_module": "@jupyter-widgets/controls",
     "model_name": "DropdownModel",
     "state": {
      "_dom_classes": [],
      "_model_module": "@jupyter-widgets/controls",
      "_model_module_version": "1.5.0",
      "_model_name": "DropdownModel",
      "_options_labels": [
       "April",
       "May",
       "June",
       "July",
       "August",
       "September"
      ],
      "_view_count": null,
      "_view_module": "@jupyter-widgets/controls",
      "_view_module_version": "1.5.0",
      "_view_name": "DropdownView",
      "description": "month",
      "description_tooltip": null,
      "disabled": false,
      "index": 5,
      "layout": "IPY_MODEL_1412a8dec58947ff9b366df80e87453e",
      "style": "IPY_MODEL_c212e8e1bbba44b09cadab4c6286aa31"
     }
    },
    "98890b2ebde7462c8a9b90f65b6193d1": {
     "model_module": "@jupyter-widgets/base",
     "model_name": "LayoutModel",
     "state": {
      "_model_module": "@jupyter-widgets/base",
      "_model_module_version": "1.2.0",
      "_model_name": "LayoutModel",
      "_view_count": null,
      "_view_module": "@jupyter-widgets/base",
      "_view_module_version": "1.2.0",
      "_view_name": "LayoutView",
      "align_content": null,
      "align_items": null,
      "align_self": null,
      "border": null,
      "bottom": null,
      "display": null,
      "flex": null,
      "flex_flow": null,
      "grid_area": null,
      "grid_auto_columns": null,
      "grid_auto_flow": null,
      "grid_auto_rows": null,
      "grid_column": null,
      "grid_gap": null,
      "grid_row": null,
      "grid_template_areas": null,
      "grid_template_columns": null,
      "grid_template_rows": null,
      "height": null,
      "justify_content": null,
      "justify_items": null,
      "left": null,
      "margin": null,
      "max_height": null,
      "max_width": null,
      "min_height": null,
      "min_width": null,
      "object_fit": null,
      "object_position": null,
      "order": null,
      "overflow": null,
      "overflow_x": null,
      "overflow_y": null,
      "padding": null,
      "right": null,
      "top": null,
      "visibility": null,
      "width": null
     }
    },
    "9eb106c4d7214f19b1a9ea992d84830d": {
     "model_module": "@jupyter-widgets/base",
     "model_name": "LayoutModel",
     "state": {
      "_model_module": "@jupyter-widgets/base",
      "_model_module_version": "1.2.0",
      "_model_name": "LayoutModel",
      "_view_count": null,
      "_view_module": "@jupyter-widgets/base",
      "_view_module_version": "1.2.0",
      "_view_name": "LayoutView",
      "align_content": null,
      "align_items": null,
      "align_self": null,
      "border": null,
      "bottom": null,
      "display": null,
      "flex": null,
      "flex_flow": null,
      "grid_area": null,
      "grid_auto_columns": null,
      "grid_auto_flow": null,
      "grid_auto_rows": null,
      "grid_column": null,
      "grid_gap": null,
      "grid_row": null,
      "grid_template_areas": null,
      "grid_template_columns": null,
      "grid_template_rows": null,
      "height": null,
      "justify_content": null,
      "justify_items": null,
      "left": null,
      "margin": null,
      "max_height": null,
      "max_width": null,
      "min_height": null,
      "min_width": null,
      "object_fit": null,
      "object_position": null,
      "order": null,
      "overflow": null,
      "overflow_x": null,
      "overflow_y": null,
      "padding": null,
      "right": null,
      "top": null,
      "visibility": null,
      "width": null
     }
    },
    "9ef95ab43dc94819bb79b828cc1f8820": {
     "model_module": "@jupyter-widgets/controls",
     "model_name": "VBoxModel",
     "state": {
      "_dom_classes": [
       "widget-interact"
      ],
      "_model_module": "@jupyter-widgets/controls",
      "_model_module_version": "1.5.0",
      "_model_name": "VBoxModel",
      "_view_count": null,
      "_view_module": "@jupyter-widgets/controls",
      "_view_module_version": "1.5.0",
      "_view_name": "VBoxView",
      "box_style": "",
      "children": [
       "IPY_MODEL_9319b3ba20604c7498427b2161291695",
       "IPY_MODEL_5dbe93d3c89f4b63a98aef6959243709"
      ],
      "layout": "IPY_MODEL_86b03e75a0984f7f8a0e70c807837c19"
     }
    },
    "a862d5524fcd4927bf772b4695320dfd": {
     "model_module": "@jupyter-widgets/controls",
     "model_name": "VBoxModel",
     "state": {
      "_dom_classes": [
       "widget-interact"
      ],
      "_model_module": "@jupyter-widgets/controls",
      "_model_module_version": "1.5.0",
      "_model_name": "VBoxModel",
      "_view_count": null,
      "_view_module": "@jupyter-widgets/controls",
      "_view_module_version": "1.5.0",
      "_view_name": "VBoxView",
      "box_style": "",
      "children": [
       "IPY_MODEL_6b97ec05073040968fed3252a2f06348"
      ],
      "layout": "IPY_MODEL_9eb106c4d7214f19b1a9ea992d84830d"
     }
    },
    "a93e80c817cc4d0c8bf2bb70c8e9c9dc": {
     "model_module": "@jupyter-widgets/output",
     "model_name": "OutputModel",
     "state": {
      "_dom_classes": [],
      "_model_module": "@jupyter-widgets/output",
      "_model_module_version": "1.0.0",
      "_model_name": "OutputModel",
      "_view_count": null,
      "_view_module": "@jupyter-widgets/output",
      "_view_module_version": "1.0.0",
      "_view_name": "OutputView",
      "layout": "IPY_MODEL_bf4cdf40358949b5bec755696154b16c",
      "msg_id": "",
      "outputs": [
       {
        "metadata": {
         "tags": []
        },
        "output_type": "display_data",
        "text/html": "<html>\n<head><meta charset=\"utf-8\" /></head>\n<body>\n    <div>\n            <script src=\"https://cdnjs.cloudflare.com/ajax/libs/mathjax/2.7.5/MathJax.js?config=TeX-AMS-MML_SVG\"></script><script type=\"text/javascript\">if (window.MathJax) {MathJax.Hub.Config({SVG: {font: \"STIX-Web\"}});}</script>\n                <script type=\"text/javascript\">window.PlotlyConfig = {MathJaxConfig: 'local'};</script>\n        <script src=\"https://cdn.plot.ly/plotly-latest.min.js\"></script>    \n            <div id=\"83cd6cc9-ee9f-4068-a14c-254df97feba0\" class=\"plotly-graph-div\" style=\"height:525px; width:100%;\"></div>\n            <script type=\"text/javascript\">\n                \n                    window.PLOTLYENV=window.PLOTLYENV || {};\n                    \n                if (document.getElementById(\"83cd6cc9-ee9f-4068-a14c-254df97feba0\")) {\n                    Plotly.newPlot(\n                        '83cd6cc9-ee9f-4068-a14c-254df97feba0',\n                        [{\"hoverlabel\": {\"namelength\": 0}, \"hovertemplate\": \"new_clusters=0<br>0=%{x}<br>1=%{y}\", \"legendgroup\": \"new_clusters=0\", \"marker\": {\"color\": \"#636efa\", \"line\": {\"color\": \"black\", \"width\": 1}, \"symbol\": \"circle\"}, \"mode\": \"markers\", \"name\": \"new_clusters=0\", \"showlegend\": true, \"type\": \"scatter\", \"x\": [10.172484397888184, 16.09248924255371, 14.219910621643066, 16.047361373901367, 17.379785537719727, 16.340229034423828, 17.41229820251465, 13.567209243774414, 8.282441139221191, 19.452428817749023, 17.05141258239746, 5.702430248260498, 17.428997039794922, 5.488304615020752, 21.862823486328125, 14.220008850097656, 19.4703311920166, 19.517671585083008, 16.66203498840332, 17.534870147705078, 16.86457061767578, 17.047771453857422, 16.19033432006836, 10.195188522338867, 5.4881486892700195, 10.24246883392334, 16.999317169189453, 16.316726684570312, 16.764394760131836, 17.200294494628906, 16.932039260864258, 21.850894927978516, 11.832563400268555, 5.7024054527282715, 16.210346221923828, 16.69048309326172, 19.62919044494629, 10.231019020080566, 11.530821800231934, 14.220015525817871, 16.981958389282227, 21.846378326416016, 19.58525848388672, 8.282418251037598, 17.513872146606445, 8.785099983215332, 8.775233268737793, 9.759017944335938, 13.491515159606934, 10.842512130737305, 10.725642204284668, 21.840715408325195, 11.832664489746094, 10.489483833312988, 10.410235404968262, 5.488229274749756, 11.832578659057617, 11.530757904052734, 17.183624267578125, 10.200470924377441, 13.390464782714844, 10.707374572753906, 13.456671714782715, 10.732195854187012, 13.535065650939941, 10.808658599853516, 13.514836311340332, 10.839733123779297], \"xaxis\": \"x\", \"y\": [-4.69568395614624, -5.170522212982178, 10.581270217895508, -5.125473499298096, 6.435385227203369, -5.4186811447143555, 6.402828216552734, -3.4023025035858154, 0.38115039467811584, 3.2879133224487305, 3.4088385105133057, 5.684210300445557, 6.386249542236328, -1.2709470987319946, 8.285295486450195, 10.581270217895508, 3.270421028137207, 3.2238118648529053, 3.7969789505004883, 6.279506206512451, 3.5949227809906006, 3.4125521183013916, -5.268556594848633, -4.718476295471191, -1.2710574865341187, -4.766361236572266, 3.460796356201172, -5.3951849937438965, 3.694657325744629, 6.614031791687012, 3.527493715286255, 8.296820640563965, 2.0548059940338135, 5.68418025970459, -5.288622856140137, 3.7679264545440674, 3.112394094467163, -4.75414514541626, 13.222079277038574, 10.581257820129395, 3.477905035018921, 8.303130149841309, 3.1567695140838623, 0.38113152980804443, 6.300570964813232, 18.653236389160156, 18.66309356689453, 2.972421884536743, -3.326730251312256, 6.695520401000977, 6.814365386962891, 8.309431076049805, 2.0548243522644043, -5.0139875411987305, -4.934570789337158, -1.2709991931915283, 2.054809331893921, 13.222014427185059, 6.630283355712891, -4.723937034606934, -3.2259435653686523, 6.834770679473877, -3.29194974899292, 6.809346675872803, -3.370208501815796, 6.730193138122559, -3.3502464294433594, 6.698441982269287], \"yaxis\": \"y\"}, {\"hoverlabel\": {\"namelength\": 0}, \"hovertemplate\": \"new_clusters=1<br>0=%{x}<br>1=%{y}\", \"legendgroup\": \"new_clusters=1\", \"marker\": {\"color\": \"#EF553B\", \"line\": {\"color\": \"black\", \"width\": 1}, \"symbol\": \"circle\"}, \"mode\": \"markers\", \"name\": \"new_clusters=1\", \"showlegend\": true, \"type\": \"scatter\", \"x\": [2.3241233825683594, 0.363723486661911, 10.476666450500488, 7.049010753631592, 7.129581451416016, 9.75932788848877, 2.579834222793579, 5.702439308166504, 7.079980373382568, -5.778954982757568, 7.110013484954834, 2.392723321914673, 4.215229034423828, -5.786005020141602, 9.759331703186035, 2.558001756668091, 7.320315361022949, 2.4184887409210205, 2.5737502574920654, 0.36686670780181885, -1.619086742401123, 3.914076328277588, 2.507509231567383, 7.320347309112549, 8.746830940246582, 2.3683176040649414, 2.495316982269287, 2.4764561653137207, 3.9140591621398926, 8.758975982666016, 2.4491031169891357, -5.849480628967285, -5.790496826171875, 7.078877925872803, -5.8346686363220215, 11.530770301818848, -1.6190286874771118, 2.4899630546569824, -1.6190329790115356, 4.762764930725098, 3.604356050491333, 4.215174198150635, -5.801620006561279, 11.458318710327148, -0.9502630829811096, 3.6043124198913574, 4.215187072753906, 0.3418613076210022, -3.6205811500549316, 0.3609152138233185, 0.3622652292251587, 11.791369438171387, 4.762750148773193, 0.3598620593547821, 4.7627997398376465], \"xaxis\": \"x\", \"y\": [11.167560577392578, 9.986654281616211, -5.001073360443115, 15.904826164245605, 15.98369312286377, 2.972320079803467, 10.888739585876465, 5.684178829193115, 15.93542194366455, 16.22614288330078, 15.964776039123535, 11.096000671386719, 16.86712074279785, 16.254844665527344, 2.972280502319336, 10.91306209564209, 14.588173866271973, 11.066375732421875, 10.89549732208252, 4.130197048187256, 14.485945701599121, 1.4273507595062256, 10.968585014343262, 14.58812427520752, 18.691370010375977, 11.121603012084961, 13.395050048828125, 13.413137435913086, 1.427352786064148, 18.678903579711914, 13.439096450805664, 16.312801361083984, 16.245328903198242, 15.93440055847168, 16.297719955444336, 13.221991539001465, 14.485738754272461, 13.400243759155273, 14.485681533813477, 3.537203550338745, 15.259279251098633, 16.867137908935547, 16.263736724853516, 10.50747299194336, 18.21269416809082, 15.259151458740234, 16.867115020751953, 9.956952095031738, 8.653441429138184, 9.981246948242188, 9.984302520751953, 10.218961715698242, 3.5372653007507324, 9.980250358581543, 3.537259578704834], \"yaxis\": \"y\"}, {\"hoverlabel\": {\"namelength\": 0}, \"hovertemplate\": \"new_clusters=3<br>0=%{x}<br>1=%{y}\", \"legendgroup\": \"new_clusters=3\", \"marker\": {\"color\": \"#00cc96\", \"line\": {\"color\": \"black\", \"width\": 1}, \"symbol\": \"circle\"}, \"mode\": \"markers\", \"name\": \"new_clusters=3\", \"showlegend\": true, \"type\": \"scatter\", \"x\": [11.181316375732422, -1.8139739036560059, 6.4115777015686035, -0.09206556528806686, 1.8755253553390503, -0.6849102973937988, -4.569112300872803, -4.880931377410889, -0.7259374260902405, 8.238510131835938, -1.8978180885314941, -0.46893182396888733, -4.544493198394775, -1.8227391242980957, -4.558555603027344, -6.374925136566162, -3.644089698791504, -6.342007637023926, -10.14620590209961, 1.875767707824707, -5.015878200531006, 8.238496780395508, 6.411343574523926, -9.372692108154297, -1.8172756433486938, 6.4115986824035645, 11.887928009033203, 1.8757611513137817, 1.9073315858840942, -4.571492671966553, 9.364785194396973, -1.804578185081482, -6.523883819580078, 2.0714643001556396, -1.828750729560852, 1.82511305809021, -2.348567247390747, -10.211126327514648, 11.193268775939941, 11.106544494628906, -6.374887466430664, -8.634613990783691, 1.9938795566558838, -6.341845512390137, -10.16854190826416, -6.342008590698242, -5.005098819732666, 3.47112774848938, 11.426617622375488, 3.0095410346984863, -9.372228622436523, 7.309587001800537, -1.8171299695968628, -0.460803359746933, -2.893812417984009, -0.6386043429374695, 2.077495813369751, 1.888563871383667, 1.8354262113571167, -0.1809605360031128, -10.215543746948242, 2.0924158096313477, 4.744002342224121, 1.946854591369629, 9.364758491516113, 4.743289947509766, -10.181161880493164, 3.040022134780884, -4.9979705810546875, -8.634614944458008, 3.034510850906372, -9.372147560119629, 7.311042785644531, 7.312072277069092, -8.634608268737793, -0.4572094976902008, -2.8937320709228516, 0.1888318657875061, -0.42073875665664673, -6.543424606323242, 2.0620806217193604, 7.311904430389404, 1.8549649715423584, -2.348482131958008, -10.18128490447998, -8.577766418457031, 11.152674674987793, 4.743542671203613, 9.36478328704834, 11.08399772644043, -10.211737632751465, 3.0382375717163086, -4.959012985229492, -2.8937549591064453, -8.634592056274414, -0.5114692449569702], \"xaxis\": \"x\", \"y\": [5.335487365722656, -4.800854682922363, 4.6759033203125, -4.448056697845459, 1.557658314704895, -8.670893669128418, 4.018603801727295, 0.11528732627630234, -8.633522033691406, 9.11656379699707, -4.885729789733887, -8.850299835205078, 3.993683099746704, -4.810532093048096, 4.007637023925781, -6.174800395965576, 8.630834579467773, -1.8616108894348145, -3.032599449157715, 1.5576311349868774, -4.662206649780273, 9.116535186767578, 4.675994873046875, 6.422820091247559, -4.803014278411865, 4.6758503913879395, 10.271891593933105, 1.557590126991272, -1.4283831119537354, 4.020934104919434, -1.7473520040512085, -4.791104316711426, 8.138410568237305, 6.957181930541992, -4.816012382507324, -1.5239347219467163, 4.416867256164551, -3.097182512283325, 5.322471618652344, 5.410791873931885, -6.174782752990723, 11.40331745147705, 6.939796447753906, -1.8615097999572754, -3.0547685623168945, -1.8616056442260742, -4.67357063293457, -2.4882452487945557, 10.48337173461914, -9.266520500183105, 6.422703266143799, -5.1865386962890625, -4.803380012512207, -8.853063583374023, -10.81457805633545, -8.701530456542969, 6.989675045013428, -1.4480478763580322, -1.511242151260376, -4.3577961921691895, -3.1015288829803467, 6.9998650550842285, 8.82005500793457, 6.919990539550781, -1.7471630573272705, 8.81705379486084, -3.067434787750244, -9.236753463745117, -4.682398796081543, 11.40332317352295, -9.242124557495117, 6.42264986038208, -5.186864852905273, -5.187099933624268, 11.403356552124023, -8.855552673339844, -10.814501762390137, -4.5671162605285645, -8.892127990722656, 8.158273696899414, 6.969533920288086, -5.187047004699707, -1.4880121946334839, 4.417067050933838, -3.0675106048583984, -1.8182839155197144, 5.363786697387695, 8.816920280456543, -1.74722421169281, 5.433427810668945, -3.0980288982391357, -9.238348960876465, -4.722222805023193, -10.814505577087402, 11.403307914733887, -8.79980754852295], \"yaxis\": \"y\"}, {\"hoverlabel\": {\"namelength\": 0}, \"hovertemplate\": \"new_clusters=2<br>0=%{x}<br>1=%{y}\", \"legendgroup\": \"new_clusters=2\", \"marker\": {\"color\": \"#ab63fa\", \"line\": {\"color\": \"black\", \"width\": 1}, \"symbol\": \"circle\"}, \"mode\": \"markers\", \"name\": \"new_clusters=2\", \"showlegend\": true, \"type\": \"scatter\", \"x\": [-3.4088704586029053, 2.4315552711486816, 4.564817428588867, -4.161078929901123, -0.17897434532642365, 5.314108848571777, -3.619889736175537, -2.9269871711730957, 0.29356858134269714, -6.594066143035889, -4.160958290100098, -3.4088878631591797, -6.498671054840088, 2.5762927532196045, -3.408846616744995, 5.313873291015625, -2.840163469314575, 5.31386661529541, 0.3312833905220032, -3.4088046550750732, -0.11476337164640427, -6.767876148223877, 4.246872425079346, -0.0482017882168293, 2.4504644870758057, 0.07537814229726791, 11.629925727844238, -3.6218628883361816, 11.633917808532715, 0.3275243043899536, -3.2442128658294678, 11.36590576171875, -6.676875114440918, 2.3246419429779053, 11.339763641357422, -2.840416669845581, 2.3810863494873047, 4.246838092803955, 11.646780967712402, -1.8769704103469849, -2.840959310531616, -0.9100197553634644, -8.83906078338623, 2.591895818710327, -7.518791675567627, -8.73967170715332, -4.871920585632324, 2.577425479888916, 0.17483602464199066, 2.3183114528656006, -6.742609024047852, -3.2441768646240234, -8.635369300842285, -6.620814800262451, -6.527132511138916, -8.827970504760742, -7.018582820892334, -2.840867042541504, -6.551456451416016, 1.6593286991119385, -2.9270741939544678, 3.4711010456085205, 11.889917373657227, -8.731963157653809, -1.8769789934158325, 4.564762592315674, -0.9092581272125244, -8.504385948181152, 2.5751805305480957, 2.5752484798431396, -4.872371673583984, -7.518413066864014, 2.3086259365081787, -6.7436203956604, -3.2441840171813965, -8.634639739990234, -6.615543365478516, -7.018572807312012, 11.826325416564941, -2.8408565521240234, -0.8719461560249329, 1.926830530166626, 1.6593126058578491, -7.518825054168701, 11.889591217041016, -8.56244945526123, -0.8718923330307007], \"xaxis\": \"x\", \"y\": [11.107876777648926, 8.866837501525879, 6.933291912078857, 7.6517534255981445, -4.357986927032471, 12.354187965393066, 8.653851509094238, -0.9291769862174988, 4.202848434448242, 2.891298770904541, 7.651742935180664, 11.10796070098877, 8.112968444824219, -4.872261047363281, 11.107925415039062, 12.3540620803833, 5.123901844024658, 12.35404109954834, 4.16567325592041, 11.107929229736328, -4.414477825164795, 3.1060235500335693, 4.444919586181641, -4.4641523361206055, 8.886472702026367, -4.517519474029541, 10.557900428771973, 8.65192699432373, 10.596382141113281, 4.169440269470215, -8.171736717224121, 10.418970108032227, 2.9832329750061035, 8.760862350463867, 10.397071838378906, 5.123903274536133, 8.817574501037598, 4.444828987121582, 10.554166793823242, 12.40008544921875, 5.12364387512207, 18.168794631958008, -1.5589078664779663, -4.887807369232178, 1.9117463827133179, -1.6560277938842773, 0.11291627585887909, -4.8733439445495605, -4.5613813400268555, 8.754101753234863, 3.0554628372192383, -8.171756744384766, 11.403554916381836, 2.923280715942383, 8.14256763458252, -1.5695074796676636, 6.443261623382568, 5.123655796051025, 8.166828155517578, 17.48052978515625, -0.9291782379150391, -2.488125801086426, 10.311175346374512, -1.6625105142593384, 12.399975776672363, 6.933341026306152, 18.1685848236084, -1.8905054330825806, -4.871135234832764, -4.871201038360596, 0.11308201402425766, 1.9124574661254883, 8.745287895202637, 3.0555689334869385, -8.17173957824707, 11.403295516967773, 2.9157373905181885, 6.443257808685303, 10.250561714172363, 5.12366247177124, 6.830883026123047, 6.904362201690674, 17.480485916137695, 1.9116401672363281, 10.301139831542969, -1.8329612016677856, 6.830816745758057], \"yaxis\": \"y\"}],\n                        {\"legend\": {\"tracegroupgap\": 0}, \"template\": {\"data\": {\"bar\": [{\"error_x\": {\"color\": \"#2a3f5f\"}, \"error_y\": {\"color\": \"#2a3f5f\"}, \"marker\": {\"line\": {\"color\": \"#E5ECF6\", \"width\": 0.5}}, \"type\": \"bar\"}], \"barpolar\": [{\"marker\": {\"line\": {\"color\": \"#E5ECF6\", \"width\": 0.5}}, \"type\": \"barpolar\"}], \"carpet\": [{\"aaxis\": {\"endlinecolor\": \"#2a3f5f\", \"gridcolor\": \"white\", \"linecolor\": \"white\", \"minorgridcolor\": \"white\", \"startlinecolor\": \"#2a3f5f\"}, \"baxis\": {\"endlinecolor\": \"#2a3f5f\", \"gridcolor\": \"white\", \"linecolor\": \"white\", \"minorgridcolor\": \"white\", \"startlinecolor\": \"#2a3f5f\"}, \"type\": \"carpet\"}], \"choropleth\": [{\"colorbar\": {\"outlinewidth\": 0, \"ticks\": \"\"}, \"type\": \"choropleth\"}], \"contour\": [{\"colorbar\": {\"outlinewidth\": 0, \"ticks\": \"\"}, \"colorscale\": [[0.0, \"#0d0887\"], [0.1111111111111111, \"#46039f\"], [0.2222222222222222, \"#7201a8\"], [0.3333333333333333, \"#9c179e\"], [0.4444444444444444, \"#bd3786\"], [0.5555555555555556, \"#d8576b\"], [0.6666666666666666, \"#ed7953\"], [0.7777777777777778, \"#fb9f3a\"], [0.8888888888888888, \"#fdca26\"], [1.0, \"#f0f921\"]], \"type\": \"contour\"}], \"contourcarpet\": [{\"colorbar\": {\"outlinewidth\": 0, \"ticks\": \"\"}, \"type\": \"contourcarpet\"}], \"heatmap\": [{\"colorbar\": {\"outlinewidth\": 0, \"ticks\": \"\"}, \"colorscale\": [[0.0, \"#0d0887\"], [0.1111111111111111, \"#46039f\"], [0.2222222222222222, \"#7201a8\"], [0.3333333333333333, \"#9c179e\"], [0.4444444444444444, \"#bd3786\"], [0.5555555555555556, \"#d8576b\"], [0.6666666666666666, \"#ed7953\"], [0.7777777777777778, \"#fb9f3a\"], [0.8888888888888888, \"#fdca26\"], [1.0, \"#f0f921\"]], \"type\": \"heatmap\"}], \"heatmapgl\": [{\"colorbar\": {\"outlinewidth\": 0, \"ticks\": \"\"}, \"colorscale\": [[0.0, \"#0d0887\"], [0.1111111111111111, \"#46039f\"], [0.2222222222222222, \"#7201a8\"], [0.3333333333333333, \"#9c179e\"], [0.4444444444444444, \"#bd3786\"], [0.5555555555555556, \"#d8576b\"], [0.6666666666666666, \"#ed7953\"], [0.7777777777777778, \"#fb9f3a\"], [0.8888888888888888, \"#fdca26\"], [1.0, \"#f0f921\"]], \"type\": \"heatmapgl\"}], \"histogram\": [{\"marker\": {\"colorbar\": {\"outlinewidth\": 0, \"ticks\": \"\"}}, \"type\": \"histogram\"}], \"histogram2d\": [{\"colorbar\": {\"outlinewidth\": 0, \"ticks\": \"\"}, \"colorscale\": [[0.0, \"#0d0887\"], [0.1111111111111111, \"#46039f\"], [0.2222222222222222, \"#7201a8\"], [0.3333333333333333, \"#9c179e\"], [0.4444444444444444, \"#bd3786\"], [0.5555555555555556, \"#d8576b\"], [0.6666666666666666, \"#ed7953\"], [0.7777777777777778, \"#fb9f3a\"], [0.8888888888888888, \"#fdca26\"], [1.0, \"#f0f921\"]], \"type\": \"histogram2d\"}], \"histogram2dcontour\": [{\"colorbar\": {\"outlinewidth\": 0, \"ticks\": \"\"}, \"colorscale\": [[0.0, \"#0d0887\"], [0.1111111111111111, \"#46039f\"], [0.2222222222222222, \"#7201a8\"], [0.3333333333333333, \"#9c179e\"], [0.4444444444444444, \"#bd3786\"], [0.5555555555555556, \"#d8576b\"], [0.6666666666666666, \"#ed7953\"], [0.7777777777777778, \"#fb9f3a\"], [0.8888888888888888, \"#fdca26\"], [1.0, \"#f0f921\"]], \"type\": \"histogram2dcontour\"}], \"mesh3d\": [{\"colorbar\": {\"outlinewidth\": 0, \"ticks\": \"\"}, \"type\": \"mesh3d\"}], \"parcoords\": [{\"line\": {\"colorbar\": {\"outlinewidth\": 0, \"ticks\": \"\"}}, \"type\": \"parcoords\"}], \"pie\": [{\"automargin\": true, \"type\": \"pie\"}], \"scatter\": [{\"marker\": {\"colorbar\": {\"outlinewidth\": 0, \"ticks\": \"\"}}, \"type\": \"scatter\"}], \"scatter3d\": [{\"line\": {\"colorbar\": {\"outlinewidth\": 0, \"ticks\": \"\"}}, \"marker\": {\"colorbar\": {\"outlinewidth\": 0, \"ticks\": \"\"}}, \"type\": \"scatter3d\"}], \"scattercarpet\": [{\"marker\": {\"colorbar\": {\"outlinewidth\": 0, \"ticks\": \"\"}}, \"type\": \"scattercarpet\"}], \"scattergeo\": [{\"marker\": {\"colorbar\": {\"outlinewidth\": 0, \"ticks\": \"\"}}, \"type\": \"scattergeo\"}], \"scattergl\": [{\"marker\": {\"colorbar\": {\"outlinewidth\": 0, \"ticks\": \"\"}}, \"type\": \"scattergl\"}], \"scattermapbox\": [{\"marker\": {\"colorbar\": {\"outlinewidth\": 0, \"ticks\": \"\"}}, \"type\": \"scattermapbox\"}], \"scatterpolar\": [{\"marker\": {\"colorbar\": {\"outlinewidth\": 0, \"ticks\": \"\"}}, \"type\": \"scatterpolar\"}], \"scatterpolargl\": [{\"marker\": {\"colorbar\": {\"outlinewidth\": 0, \"ticks\": \"\"}}, \"type\": \"scatterpolargl\"}], \"scatterternary\": [{\"marker\": {\"colorbar\": {\"outlinewidth\": 0, \"ticks\": \"\"}}, \"type\": \"scatterternary\"}], \"surface\": [{\"colorbar\": {\"outlinewidth\": 0, \"ticks\": \"\"}, \"colorscale\": [[0.0, \"#0d0887\"], [0.1111111111111111, \"#46039f\"], [0.2222222222222222, \"#7201a8\"], [0.3333333333333333, \"#9c179e\"], [0.4444444444444444, \"#bd3786\"], [0.5555555555555556, \"#d8576b\"], [0.6666666666666666, \"#ed7953\"], [0.7777777777777778, \"#fb9f3a\"], [0.8888888888888888, \"#fdca26\"], [1.0, \"#f0f921\"]], \"type\": \"surface\"}], \"table\": [{\"cells\": {\"fill\": {\"color\": \"#EBF0F8\"}, \"line\": {\"color\": \"white\"}}, \"header\": {\"fill\": {\"color\": \"#C8D4E3\"}, \"line\": {\"color\": \"white\"}}, \"type\": \"table\"}]}, \"layout\": {\"annotationdefaults\": {\"arrowcolor\": \"#2a3f5f\", \"arrowhead\": 0, \"arrowwidth\": 1}, \"coloraxis\": {\"colorbar\": {\"outlinewidth\": 0, \"ticks\": \"\"}}, \"colorscale\": {\"diverging\": [[0, \"#8e0152\"], [0.1, \"#c51b7d\"], [0.2, \"#de77ae\"], [0.3, \"#f1b6da\"], [0.4, \"#fde0ef\"], [0.5, \"#f7f7f7\"], [0.6, \"#e6f5d0\"], [0.7, \"#b8e186\"], [0.8, \"#7fbc41\"], [0.9, \"#4d9221\"], [1, \"#276419\"]], \"sequential\": [[0.0, \"#0d0887\"], [0.1111111111111111, \"#46039f\"], [0.2222222222222222, \"#7201a8\"], [0.3333333333333333, \"#9c179e\"], [0.4444444444444444, \"#bd3786\"], [0.5555555555555556, \"#d8576b\"], [0.6666666666666666, \"#ed7953\"], [0.7777777777777778, \"#fb9f3a\"], [0.8888888888888888, \"#fdca26\"], [1.0, \"#f0f921\"]], \"sequentialminus\": [[0.0, \"#0d0887\"], [0.1111111111111111, \"#46039f\"], [0.2222222222222222, \"#7201a8\"], [0.3333333333333333, \"#9c179e\"], [0.4444444444444444, \"#bd3786\"], [0.5555555555555556, \"#d8576b\"], [0.6666666666666666, \"#ed7953\"], [0.7777777777777778, \"#fb9f3a\"], [0.8888888888888888, \"#fdca26\"], [1.0, \"#f0f921\"]]}, \"colorway\": [\"#636efa\", \"#EF553B\", \"#00cc96\", \"#ab63fa\", \"#FFA15A\", \"#19d3f3\", \"#FF6692\", \"#B6E880\", \"#FF97FF\", \"#FECB52\"], \"font\": {\"color\": \"#2a3f5f\"}, \"geo\": {\"bgcolor\": \"white\", \"lakecolor\": \"white\", \"landcolor\": \"#E5ECF6\", \"showlakes\": true, \"showland\": true, \"subunitcolor\": \"white\"}, \"hoverlabel\": {\"align\": \"left\"}, \"hovermode\": \"closest\", \"mapbox\": {\"style\": \"light\"}, \"paper_bgcolor\": \"white\", \"plot_bgcolor\": \"#E5ECF6\", \"polar\": {\"angularaxis\": {\"gridcolor\": \"white\", \"linecolor\": \"white\", \"ticks\": \"\"}, \"bgcolor\": \"#E5ECF6\", \"radialaxis\": {\"gridcolor\": \"white\", \"linecolor\": \"white\", \"ticks\": \"\"}}, \"scene\": {\"xaxis\": {\"backgroundcolor\": \"#E5ECF6\", \"gridcolor\": \"white\", \"gridwidth\": 2, \"linecolor\": \"white\", \"showbackground\": true, \"ticks\": \"\", \"zerolinecolor\": \"white\"}, \"yaxis\": {\"backgroundcolor\": \"#E5ECF6\", \"gridcolor\": \"white\", \"gridwidth\": 2, \"linecolor\": \"white\", \"showbackground\": true, \"ticks\": \"\", \"zerolinecolor\": \"white\"}, \"zaxis\": {\"backgroundcolor\": \"#E5ECF6\", \"gridcolor\": \"white\", \"gridwidth\": 2, \"linecolor\": \"white\", \"showbackground\": true, \"ticks\": \"\", \"zerolinecolor\": \"white\"}}, \"shapedefaults\": {\"line\": {\"color\": \"#2a3f5f\"}}, \"ternary\": {\"aaxis\": {\"gridcolor\": \"white\", \"linecolor\": \"white\", \"ticks\": \"\"}, \"baxis\": {\"gridcolor\": \"white\", \"linecolor\": \"white\", \"ticks\": \"\"}, \"bgcolor\": \"#E5ECF6\", \"caxis\": {\"gridcolor\": \"white\", \"linecolor\": \"white\", \"ticks\": \"\"}}, \"title\": {\"x\": 0.05}, \"xaxis\": {\"automargin\": true, \"gridcolor\": \"white\", \"linecolor\": \"white\", \"ticks\": \"\", \"title\": {\"standoff\": 15}, \"zerolinecolor\": \"white\", \"zerolinewidth\": 2}, \"yaxis\": {\"automargin\": true, \"gridcolor\": \"white\", \"linecolor\": \"white\", \"ticks\": \"\", \"title\": {\"standoff\": 15}, \"zerolinecolor\": \"white\", \"zerolinewidth\": 2}}}, \"title\": {\"text\": \"UMAP 2 n_neighbors and 0.0 min_dist\"}, \"xaxis\": {\"anchor\": \"y\", \"domain\": [0.0, 1.0], \"title\": {\"text\": \"0\"}}, \"yaxis\": {\"anchor\": \"x\", \"domain\": [0.0, 1.0], \"title\": {\"text\": \"1\"}}},\n                        {\"responsive\": true}\n                    ).then(function(){\n                            \nvar gd = document.getElementById('83cd6cc9-ee9f-4068-a14c-254df97feba0');\nvar x = new MutationObserver(function (mutations, observer) {{\n        var display = window.getComputedStyle(gd).display;\n        if (!display || display === 'none') {{\n            console.log([gd, 'removed!']);\n            Plotly.purge(gd);\n            observer.disconnect();\n        }}\n}});\n\n// Listen for the removal of the full notebook cells\nvar notebookContainer = gd.closest('#notebook-container');\nif (notebookContainer) {{\n    x.observe(notebookContainer, {childList: true});\n}}\n\n// Listen for the clearing of the current output cell\nvar outputEl = gd.closest('.output');\nif (outputEl) {{\n    x.observe(outputEl, {childList: true});\n}}\n\n                        })\n                };\n                \n            </script>\n        </div>\n</body>\n</html>"
       }
      ]
     }
    },
    "ab70e161bc13443895fd8fc568880e70": {
     "model_module": "@jupyter-widgets/controls",
     "model_name": "VBoxModel",
     "state": {
      "_dom_classes": [
       "widget-interact"
      ],
      "_model_module": "@jupyter-widgets/controls",
      "_model_module_version": "1.5.0",
      "_model_name": "VBoxModel",
      "_view_count": null,
      "_view_module": "@jupyter-widgets/controls",
      "_view_module_version": "1.5.0",
      "_view_name": "VBoxView",
      "box_style": "",
      "children": [
       "IPY_MODEL_b6f40559992d4ce2962d6ca44f501737",
       "IPY_MODEL_3ad23e3bb34549a496459818226b3ba2",
       "IPY_MODEL_a93e80c817cc4d0c8bf2bb70c8e9c9dc"
      ],
      "layout": "IPY_MODEL_5ab1ec6dbe114f83b6eaadd940c519a8"
     }
    },
    "b638ee69adee4b10bc36cb0750aba942": {
     "model_module": "@jupyter-widgets/base",
     "model_name": "LayoutModel",
     "state": {
      "_model_module": "@jupyter-widgets/base",
      "_model_module_version": "1.2.0",
      "_model_name": "LayoutModel",
      "_view_count": null,
      "_view_module": "@jupyter-widgets/base",
      "_view_module_version": "1.2.0",
      "_view_name": "LayoutView",
      "align_content": null,
      "align_items": null,
      "align_self": null,
      "border": null,
      "bottom": null,
      "display": null,
      "flex": null,
      "flex_flow": null,
      "grid_area": null,
      "grid_auto_columns": null,
      "grid_auto_flow": null,
      "grid_auto_rows": null,
      "grid_column": null,
      "grid_gap": null,
      "grid_row": null,
      "grid_template_areas": null,
      "grid_template_columns": null,
      "grid_template_rows": null,
      "height": null,
      "justify_content": null,
      "justify_items": null,
      "left": null,
      "margin": null,
      "max_height": null,
      "max_width": null,
      "min_height": null,
      "min_width": null,
      "object_fit": null,
      "object_position": null,
      "order": null,
      "overflow": null,
      "overflow_x": null,
      "overflow_y": null,
      "padding": null,
      "right": null,
      "top": null,
      "visibility": null,
      "width": null
     }
    },
    "b6f40559992d4ce2962d6ca44f501737": {
     "model_module": "@jupyter-widgets/controls",
     "model_name": "DropdownModel",
     "state": {
      "_dom_classes": [],
      "_model_module": "@jupyter-widgets/controls",
      "_model_module_version": "1.5.0",
      "_model_name": "DropdownModel",
      "_options_labels": [
       "2",
       "4",
       "6",
       "8",
       "10",
       "12",
       "14",
       "16",
       "18",
       "20",
       "22",
       "24"
      ],
      "_view_count": null,
      "_view_module": "@jupyter-widgets/controls",
      "_view_module_version": "1.5.0",
      "_view_name": "DropdownView",
      "description": "n_neighbors",
      "description_tooltip": null,
      "disabled": false,
      "index": 6,
      "layout": "IPY_MODEL_98890b2ebde7462c8a9b90f65b6193d1",
      "style": "IPY_MODEL_439a7a23a1ac41bda2b381a697323fec"
     }
    },
    "bf4cdf40358949b5bec755696154b16c": {
     "model_module": "@jupyter-widgets/base",
     "model_name": "LayoutModel",
     "state": {
      "_model_module": "@jupyter-widgets/base",
      "_model_module_version": "1.2.0",
      "_model_name": "LayoutModel",
      "_view_count": null,
      "_view_module": "@jupyter-widgets/base",
      "_view_module_version": "1.2.0",
      "_view_name": "LayoutView",
      "align_content": null,
      "align_items": null,
      "align_self": null,
      "border": null,
      "bottom": null,
      "display": null,
      "flex": null,
      "flex_flow": null,
      "grid_area": null,
      "grid_auto_columns": null,
      "grid_auto_flow": null,
      "grid_auto_rows": null,
      "grid_column": null,
      "grid_gap": null,
      "grid_row": null,
      "grid_template_areas": null,
      "grid_template_columns": null,
      "grid_template_rows": null,
      "height": null,
      "justify_content": null,
      "justify_items": null,
      "left": null,
      "margin": null,
      "max_height": null,
      "max_width": null,
      "min_height": null,
      "min_width": null,
      "object_fit": null,
      "object_position": null,
      "order": null,
      "overflow": null,
      "overflow_x": null,
      "overflow_y": null,
      "padding": null,
      "right": null,
      "top": null,
      "visibility": null,
      "width": null
     }
    },
    "c212e8e1bbba44b09cadab4c6286aa31": {
     "model_module": "@jupyter-widgets/controls",
     "model_name": "DescriptionStyleModel",
     "state": {
      "_model_module": "@jupyter-widgets/controls",
      "_model_module_version": "1.5.0",
      "_model_name": "DescriptionStyleModel",
      "_view_count": null,
      "_view_module": "@jupyter-widgets/base",
      "_view_module_version": "1.2.0",
      "_view_name": "StyleView",
      "description_width": ""
     }
    },
    "e45d83db6db140e2b334703b3189a52c": {
     "model_module": "@jupyter-widgets/base",
     "model_name": "LayoutModel",
     "state": {
      "_model_module": "@jupyter-widgets/base",
      "_model_module_version": "1.2.0",
      "_model_name": "LayoutModel",
      "_view_count": null,
      "_view_module": "@jupyter-widgets/base",
      "_view_module_version": "1.2.0",
      "_view_name": "LayoutView",
      "align_content": null,
      "align_items": null,
      "align_self": null,
      "border": null,
      "bottom": null,
      "display": null,
      "flex": null,
      "flex_flow": null,
      "grid_area": null,
      "grid_auto_columns": null,
      "grid_auto_flow": null,
      "grid_auto_rows": null,
      "grid_column": null,
      "grid_gap": null,
      "grid_row": null,
      "grid_template_areas": null,
      "grid_template_columns": null,
      "grid_template_rows": null,
      "height": null,
      "justify_content": null,
      "justify_items": null,
      "left": null,
      "margin": null,
      "max_height": null,
      "max_width": null,
      "min_height": null,
      "min_width": null,
      "object_fit": null,
      "object_position": null,
      "order": null,
      "overflow": null,
      "overflow_x": null,
      "overflow_y": null,
      "padding": null,
      "right": null,
      "top": null,
      "visibility": null,
      "width": null
     }
    }
   }
  }
 },
 "nbformat": 4,
 "nbformat_minor": 1
}
